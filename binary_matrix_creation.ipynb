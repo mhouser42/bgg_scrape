{
 "cells": [
  {
   "cell_type": "markdown",
   "id": "9b9affd4",
   "metadata": {
    "pycharm": {
     "name": "#%% md\n"
    }
   },
   "source": [
    "# Binary Matrix Creation\n",
    "\n",
    "transforming 2017/2023 dataset. Extracting Mechanics and Categories\n",
    "\n",
    "## Loading libraries"
   ]
  },
  {
   "cell_type": "code",
   "execution_count": 2,
   "id": "45efe170",
   "metadata": {
    "pycharm": {
     "name": "#%%\n"
    }
   },
   "outputs": [],
   "source": [
    "import numpy as np\n",
    "import pandas as pd\n",
    "import re\n",
    "from sklearn.preprocessing import MultiLabelBinarizer"
   ]
  },
  {
   "cell_type": "markdown",
   "id": "bab8716a",
   "metadata": {
    "pycharm": {
     "name": "#%% md\n"
    }
   },
   "source": [
    "## Reading csv"
   ]
  },
  {
   "cell_type": "code",
   "execution_count": null,
   "id": "60a108c5",
   "metadata": {
    "pycharm": {
     "name": "#%%\n"
    }
   },
   "outputs": [],
   "source": [
    "path = 'data/2017' # change to either 2023 or 2017 based on dataset\n",
    "# df = pd.read_csv(f'{path}/basic_data_2023-original.csv', encoding='utf-8') #2023\n",
    "\n",
    "df = pd.read_csv(f'{path}/bgg_db_2017_04.csv', encoding='latin1') # 2017\n",
    "df = df.rename(columns={'category': 'categories', 'mechanic': 'mechanics'}) # 2017\n",
    "\n",
    "categories = df['categories']\n",
    "mechanics = df['mechanics']\n",
    "\n",
    "mlb = MultiLabelBinarizer()"
   ]
  },
  {
   "cell_type": "markdown",
   "id": "4a327f65",
   "metadata": {
    "pycharm": {
     "name": "#%% md\n"
    }
   },
   "source": [
    "## Getting Column Titles"
   ]
  },
  {
   "cell_type": "markdown",
   "id": "4d0fdf97",
   "metadata": {
    "pycharm": {
     "name": "#%% md\n"
    }
   },
   "source": [
    "### Categories"
   ]
  },
  {
   "cell_type": "code",
   "execution_count": null,
   "id": "9adae0ee",
   "metadata": {
    "pycharm": {
     "name": "#%%\n"
    }
   },
   "outputs": [],
   "source": [
    "cat_titles = set()\n",
    "\n",
    "# for row in categories: # for 2023\n",
    "#     row = row.strip('[]')\n",
    "#     row = re.findall(r\"(?:'([^']+)')|(?:\\\"([^\\\"]+)\\\")\", row)\n",
    "#     for item in row:\n",
    "#         item = item[0] or item[1]\n",
    "#         item = item.strip(\"'\")\n",
    "#         item = item.strip('\"')\n",
    "#         item = item.replace(\"\\\\\", \"\")\n",
    "#         item = item.rstrip(',')\n",
    "#         cat_titles.add(item)\n",
    "\n",
    "for row in categories: # for 2017\n",
    "    row = row.split(',')\n",
    "    for item in row:\n",
    "        item = item.strip()\n",
    "        item = item.strip(',')\n",
    "        item = item.strip(\"'\")\n",
    "        cat_titles.add(item)\n",
    "\n",
    "cat_titles = list(cat_titles)\n",
    "cat_titles.sort()\n",
    "cat_titles"
   ]
  },
  {
   "cell_type": "markdown",
   "id": "9123139c",
   "metadata": {
    "pycharm": {
     "name": "#%% md\n"
    }
   },
   "source": [
    "### Mechanics"
   ]
  },
  {
   "cell_type": "code",
   "execution_count": null,
   "id": "2dd66830",
   "metadata": {
    "pycharm": {
     "name": "#%%\n"
    }
   },
   "outputs": [],
   "source": [
    "mech_titles = set()\n",
    "\n",
    "# for row in mechanics: # 2023\n",
    "#     row = row.strip('[]')\n",
    "#     row = re.findall(r\"(?:'([^']+)')|(?:\\\"([^\\\"]+)\\\")\", row) \n",
    "#     for item in row:\n",
    "#         item = item[0] or item[1]\n",
    "#         item = item.strip(\"'\")\n",
    "#         item = item.strip('\"')\n",
    "#         item = item.replace(\"\\\\\", \"\")\n",
    "#         item = item.rstrip(',')\n",
    "#         mech_titles.add(item)\n",
    "\n",
    "for row in mechanics: # for 2017\n",
    "    row = row.split(',')\n",
    "    for item in row:\n",
    "        item = item.strip()\n",
    "        item = item.strip(',')\n",
    "        item = item.strip(\"'\")\n",
    "        mech_titles.add(item)\n",
    "\n",
    "mech_titles = list(mech_titles)\n",
    "mech_titles.sort()\n",
    "mech_titles"
   ]
  },
  {
   "cell_type": "markdown",
   "source": [
    "### Subdomains\n",
    "compiling a list from the big dataset. Should have everything from the 2017 dataset but not for 2023."
   ],
   "metadata": {
    "collapsed": false,
    "pycharm": {
     "name": "#%% md\n"
    }
   }
  },
  {
   "cell_type": "code",
   "execution_count": null,
   "outputs": [],
   "source": [
    "# df_23 = pd.read_csv(f'data/2023/basic_data_2023.csv', encoding='utf-8') #2023\n",
    "# df_17 = pd.read_csv(f'data/2017/basic_data_2017.csv', encoding='utf-8') # 2017\n",
    "# df_big = pd.read_csv(f'data/big/basic_data.csv', encoding='utf-8')\n",
    "# sub_df = pd.read_csv(f'data/big/subdomain_data.csv', encoding='utf-8')"
   ],
   "metadata": {
    "collapsed": false,
    "pycharm": {
     "name": "#%%\n"
    }
   }
  },
  {
   "cell_type": "code",
   "execution_count": null,
   "outputs": [],
   "source": [
    "# df_big.reset_index(inplace=True)\n",
    "# sub_df.reset_index(inplace=True)\n",
    "# df_big.info()"
   ],
   "metadata": {
    "collapsed": false,
    "pycharm": {
     "name": "#%%\n"
    }
   }
  },
  {
   "cell_type": "code",
   "execution_count": null,
   "outputs": [],
   "source": [
    "# df_big = df_big.merge(sub_df, on='index')\n",
    "# print('length before drop', len(df_big))\n",
    "# df_big = df_big.drop_duplicates(subset='name')\n",
    "# print('length after drop: ', len(df_big))"
   ],
   "metadata": {
    "collapsed": false,
    "pycharm": {
     "name": "#%%\n"
    }
   }
  },
  {
   "cell_type": "code",
   "execution_count": null,
   "outputs": [],
   "source": [
    "# df_merged = pd.merge(df_23, df_big, on='name', how='inner', suffixes=('_23', '_big'))\n",
    "# df_merged.info()"
   ],
   "metadata": {
    "collapsed": false,
    "pycharm": {
     "name": "#%%\n"
    }
   }
  },
  {
   "cell_type": "code",
   "execution_count": null,
   "outputs": [],
   "source": [
    "# columns = ['game_id', \n",
    "#            'Strategy Games', \n",
    "#            'Abstract Games', \n",
    "#            'Family Games', \n",
    "#            'Thematic Games', \n",
    "#            'Customizable Games', \n",
    "#            'Wargames', \n",
    "#            'Party Games', \n",
    "#            'Children\\'s Games']\n",
    "\n",
    "# sub_df_17 = df_merged[columns]\n",
    "# sub_df_17.info()"
   ],
   "metadata": {
    "collapsed": false,
    "pycharm": {
     "name": "#%%\n"
    }
   }
  },
  {
   "cell_type": "code",
   "execution_count": null,
   "outputs": [],
   "source": [
    "# sub_df_17.to_csv(f'data/2017/subdomains_2017.csv')"
   ],
   "metadata": {
    "collapsed": false,
    "pycharm": {
     "name": "#%%\n"
    }
   }
  },
  {
   "cell_type": "code",
   "execution_count": 95,
   "id": "f88424e3",
   "metadata": {},
   "outputs": [
    {
     "name": "stdout",
     "output_type": "stream",
     "text": [
      "<class 'pandas.core.frame.DataFrame'>\n",
      "RangeIndex: 286186 entries, 0 to 286185\n",
      "Data columns (total 23 columns):\n",
      " #   Column         Non-Null Count   Dtype  \n",
      "---  ------         --------------   -----  \n",
      " 0   index          286186 non-null  int64  \n",
      " 1   name           286186 non-null  object \n",
      " 2   description    286186 non-null  object \n",
      " 3   thumbnail      246151 non-null  object \n",
      " 4   image          246151 non-null  object \n",
      " 5   rating         286186 non-null  float64\n",
      " 6   bayes_rating   286186 non-null  float64\n",
      " 7   usersrated     286186 non-null  int64  \n",
      " 8   bggrank        286186 non-null  object \n",
      " 9   stddev         286186 non-null  float64\n",
      " 10  owned          286186 non-null  int64  \n",
      " 11  trading        286186 non-null  int64  \n",
      " 12  wanting        286186 non-null  int64  \n",
      " 13  wishing        286186 non-null  int64  \n",
      " 14  numweights     286186 non-null  int64  \n",
      " 15  averageweight  286186 non-null  float64\n",
      " 16  yearpublished  118643 non-null  float64\n",
      " 17  minplayers     118643 non-null  float64\n",
      " 18  maxplayers     118643 non-null  float64\n",
      " 19  playingtime    118643 non-null  float64\n",
      " 20  minplaytime    118643 non-null  float64\n",
      " 21  maxplaytime    118643 non-null  float64\n",
      " 22  age            118643 non-null  float64\n",
      "dtypes: float64(11), int64(7), object(5)\n",
      "memory usage: 50.2+ MB\n"
     ]
    }
   ],
   "source": [
    "# df_big.reset_index(inplace=True)\n",
    "# sub_df.reset_index(inplace=True)\n",
    "# df_big.info()"
   ]
  },
  {
   "cell_type": "code",
   "execution_count": 96,
   "id": "dae7931a",
   "metadata": {
    "scrolled": true
   },
   "outputs": [
    {
     "name": "stdout",
     "output_type": "stream",
     "text": [
      "length before drop 40334\n",
      "length after drop:  38717\n"
     ]
    }
   ],
   "source": [
    "# df_big = df_big.merge(sub_df, on='index')\n",
    "# print('length before drop', len(df_big))\n",
    "# df_big = df_big.drop_duplicates(subset='name')\n",
    "# print('length after drop: ', len(df_big))"
   ]
  },
  {
   "cell_type": "code",
   "execution_count": 97,
   "id": "34f7cfbe",
   "metadata": {
    "scrolled": true
   },
   "outputs": [
    {
     "name": "stdout",
     "output_type": "stream",
     "text": [
      "<class 'pandas.core.frame.DataFrame'>\n",
      "Int64Index: 537 entries, 0 to 536\n",
      "Data columns (total 49 columns):\n",
      " #   Column              Non-Null Count  Dtype  \n",
      "---  ------              --------------  -----  \n",
      " 0   Unnamed: 0          537 non-null    int64  \n",
      " 1   rank                537 non-null    int64  \n",
      " 2   bgg_url             537 non-null    object \n",
      " 3   game_id             537 non-null    int64  \n",
      " 4   name                537 non-null    object \n",
      " 5   min_players         537 non-null    int64  \n",
      " 6   max_players         537 non-null    int64  \n",
      " 7   avg_time            537 non-null    int64  \n",
      " 8   min_time            537 non-null    int64  \n",
      " 9   max_time            537 non-null    int64  \n",
      " 10  weight              537 non-null    float64\n",
      " 11  year                537 non-null    int64  \n",
      " 12  age_23              537 non-null    int64  \n",
      " 13  avg_rating          537 non-null    float64\n",
      " 14  geek_rating         537 non-null    float64\n",
      " 15  num_votes           537 non-null    int64  \n",
      " 16  owned_23            537 non-null    int64  \n",
      " 17  designer            537 non-null    object \n",
      " 18  index               537 non-null    int64  \n",
      " 19  description         537 non-null    object \n",
      " 20  thumbnail           536 non-null    object \n",
      " 21  image               536 non-null    object \n",
      " 22  rating              537 non-null    float64\n",
      " 23  bayes_rating_x      537 non-null    float64\n",
      " 24  usersrated          537 non-null    int64  \n",
      " 25  bggrank             537 non-null    object \n",
      " 26  stddev              537 non-null    float64\n",
      " 27  owned_big           537 non-null    int64  \n",
      " 28  trading             537 non-null    int64  \n",
      " 29  wanting             537 non-null    int64  \n",
      " 30  wishing             537 non-null    int64  \n",
      " 31  numweights          537 non-null    int64  \n",
      " 32  averageweight       537 non-null    float64\n",
      " 33  yearpublished       537 non-null    float64\n",
      " 34  minplayers          537 non-null    float64\n",
      " 35  maxplayers          537 non-null    float64\n",
      " 36  playingtime         537 non-null    float64\n",
      " 37  minplaytime         537 non-null    float64\n",
      " 38  maxplaytime         537 non-null    float64\n",
      " 39  age_big             537 non-null    float64\n",
      " 40  bayes_rating_y      537 non-null    float64\n",
      " 41  Strategy Games      537 non-null    int64  \n",
      " 42  Abstract Games      537 non-null    int64  \n",
      " 43  Family Games        537 non-null    int64  \n",
      " 44  Thematic Games      537 non-null    int64  \n",
      " 45  Customizable Games  537 non-null    int64  \n",
      " 46  Wargames            537 non-null    int64  \n",
      " 47  Party Games         537 non-null    int64  \n",
      " 48  Children's Games    537 non-null    int64  \n",
      "dtypes: float64(15), int64(27), object(7)\n",
      "memory usage: 209.8+ KB\n"
     ]
    }
   ],
   "source": [
    "# df_merged = pd.merge(df_23, df_big, on='name', how='inner', suffixes=('_23', '_big'))\n",
    "# df_merged.info()"
   ]
  },
  {
   "cell_type": "code",
   "execution_count": 92,
   "id": "0ca9bd34",
   "metadata": {
    "scrolled": true
   },
   "outputs": [
    {
     "name": "stdout",
     "output_type": "stream",
     "text": [
      "<class 'pandas.core.frame.DataFrame'>\n",
      "Int64Index: 2403 entries, 0 to 2402\n",
      "Data columns (total 9 columns):\n",
      " #   Column              Non-Null Count  Dtype\n",
      "---  ------              --------------  -----\n",
      " 0   game_id             2403 non-null   int64\n",
      " 1   Strategy Games      2403 non-null   int64\n",
      " 2   Abstract Games      2403 non-null   int64\n",
      " 3   Family Games        2403 non-null   int64\n",
      " 4   Thematic Games      2403 non-null   int64\n",
      " 5   Customizable Games  2403 non-null   int64\n",
      " 6   Wargames            2403 non-null   int64\n",
      " 7   Party Games         2403 non-null   int64\n",
      " 8   Children's Games    2403 non-null   int64\n",
      "dtypes: int64(9)\n",
      "memory usage: 187.7 KB\n"
     ]
    }
   ],
   "source": [
    "# columns = ['game_id', \n",
    "#            'Strategy Games', \n",
    "#            'Abstract Games', \n",
    "#            'Family Games', \n",
    "#            'Thematic Games', \n",
    "#            'Customizable Games', \n",
    "#            'Wargames', \n",
    "#            'Party Games', \n",
    "#            'Children\\'s Games']\n",
    "\n",
    "# sub_df_17 = df_merged[columns]\n",
    "# sub_df_17.info()"
   ]
  },
  {
   "cell_type": "code",
   "execution_count": 93,
   "id": "59d49762",
   "metadata": {},
   "outputs": [],
   "source": [
    "# sub_df_17.to_csv(f'data/2017/subdomains_2017.csv')"
   ]
  },
  {
   "cell_type": "markdown",
   "id": "2c024c3b",
   "metadata": {
    "pycharm": {
     "name": "#%% md\n"
    }
   },
   "source": [
    "## Constructing binary Matrixes"
   ]
  },
  {
   "cell_type": "code",
   "execution_count": 80,
   "id": "ba9d9b00",
   "metadata": {
    "pycharm": {
     "name": "#%%\n"
    }
   },
   "outputs": [
    {
     "ename": "NameError",
     "evalue": "name 'cat_titles' is not defined",
     "output_type": "error",
     "traceback": [
      "\u001B[1;31m---------------------------------------------------------------------------\u001B[0m",
      "\u001B[1;31mNameError\u001B[0m                                 Traceback (most recent call last)",
      "Cell \u001B[1;32mIn[80], line 1\u001B[0m\n\u001B[1;32m----> 1\u001B[0m cat_df \u001B[38;5;241m=\u001B[39m pd\u001B[38;5;241m.\u001B[39mDataFrame(columns\u001B[38;5;241m=\u001B[39m\u001B[43mcat_titles\u001B[49m)\n\u001B[0;32m      2\u001B[0m mech_df \u001B[38;5;241m=\u001B[39m pd\u001B[38;5;241m.\u001B[39mDataFrame(columns\u001B[38;5;241m=\u001B[39mmech_titles)\n\u001B[0;32m      4\u001B[0m cat_df \u001B[38;5;241m=\u001B[39m cat_df\u001B[38;5;241m.\u001B[39mdrop(\u001B[38;5;124m'\u001B[39m\u001B[38;5;124mnone\u001B[39m\u001B[38;5;124m'\u001B[39m, axis\u001B[38;5;241m=\u001B[39m\u001B[38;5;241m1\u001B[39m) \u001B[38;5;66;03m# 2017\u001B[39;00m\n",
      "\u001B[1;31mNameError\u001B[0m: name 'cat_titles' is not defined"
     ]
    }
   ],
   "source": [
    "cat_df = pd.DataFrame(columns=cat_titles)\n",
    "mech_df = pd.DataFrame(columns=mech_titles)\n",
    "\n",
    "cat_df = cat_df.drop('none', axis=1) # 2017\n",
    "mech_df = mech_df.drop('none', axis=1) # 2017"
   ]
  },
  {
   "cell_type": "code",
   "execution_count": null,
   "id": "8ba86ed3",
   "metadata": {
    "pycharm": {
     "name": "#%%\n"
    }
   },
   "outputs": [],
   "source": [
    "for ind in df.index:\n",
    "    cat_row = df.loc[ind, 'categories']\n",
    "    mech_row = df.loc[ind, 'mechanics']\n",
    "    \n",
    "    # binary matrix for categories\n",
    "    for field in cat_df.columns:\n",
    "        if field in cat_row:\n",
    "            cat_df.loc[ind, field] = int(1)\n",
    "        else:\n",
    "            cat_df.loc[ind, field] = int(0)\n",
    "    \n",
    "    # binary matrix for mechanics\n",
    "    for field in mech_df.columns:\n",
    "        if field in mech_row:\n",
    "            mech_df.loc[ind, field] = int(1)\n",
    "        else:\n",
    "            mech_df.loc[ind, field] = int(0)"
   ]
  },
  {
   "cell_type": "code",
   "execution_count": null,
   "id": "1c9e774d",
   "metadata": {
    "pycharm": {
     "name": "#%%\n"
    }
   },
   "outputs": [],
   "source": [
    "# Adding Foreign key (game_id) from orginal df to new dataframes\n",
    "try:\n",
    "    cat_df.insert(0,'game_id', df['game_id'])\n",
    "    mech_df.insert(0, 'game_id', df['game_id'])\n",
    "except:\n",
    "    pass\n",
    "#deleting categories and mechanics columns from orginal df\n",
    "df = df.drop(['categories', 'mechanics'], axis=1)\n",
    "df"
   ]
  },
  {
   "cell_type": "markdown",
   "id": "b351d0f0",
   "metadata": {
    "pycharm": {
     "name": "#%% md\n"
    }
   },
   "source": [
    "## Exporting finished dataframes"
   ]
  },
  {
   "cell_type": "code",
   "execution_count": null,
   "id": "1632019e",
   "metadata": {
    "pycharm": {
     "name": "#%%\n"
    }
   },
   "outputs": [],
   "source": [
    "cat_df.to_csv(f'{path}/categories_2017.csv')\n",
    "mech_df.to_csv(f'{path}/mechanics_2017.csv')\n",
    "df.to_csv(f'{path}/basic_data_2017.csv')"
   ]
  },
  {
   "cell_type": "code",
   "execution_count": null,
   "id": "2a43f855",
   "metadata": {
    "pycharm": {
     "name": "#%%\n"
    }
   },
   "outputs": [],
   "source": []
  }
 ],
 "metadata": {
  "kernelspec": {
   "display_name": "Python 3 (ipykernel)",
   "language": "python",
   "name": "python3"
  },
  "language_info": {
   "codemirror_mode": {
    "name": "ipython",
    "version": 3
   },
   "file_extension": ".py",
   "mimetype": "text/x-python",
   "name": "python",
   "nbconvert_exporter": "python",
   "pygments_lexer": "ipython3",
   "version": "3.10.11"
  }
 },
 "nbformat": 4,
 "nbformat_minor": 5
}