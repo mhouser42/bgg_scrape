{
 "cells": [
  {
   "cell_type": "markdown",
   "id": "d3097a94",
   "metadata": {},
   "source": [
    "# Scraping xml from bgg because the age of the data is bothering me"
   ]
  },
  {
   "cell_type": "code",
   "execution_count": 1,
   "id": "761acb6a",
   "metadata": {},
   "outputs": [],
   "source": [
    "import time\n",
    "import requests\n",
    "from bs4 import BeautifulSoup\n",
    "from urllib.parse import urlparse, parse_qs\n",
    "import pandas as pd\n",
    "from random import randint\n",
    "import os\n",
    "import csv\n",
    "import pickle\n",
    "from tqdm import tqdm"
   ]
  },
  {
   "cell_type": "code",
   "execution_count": 2,
   "id": "0b8d6da6",
   "metadata": {},
   "outputs": [],
   "source": [
    "games = []\n",
    "categories = set()\n",
    "mechanics = set()"
   ]
  },
  {
   "cell_type": "markdown",
   "id": "adf31f8c",
   "metadata": {},
   "source": [
    "# Functions"
   ]
  },
  {
   "cell_type": "code",
   "execution_count": 3,
   "id": "862320bd",
   "metadata": {},
   "outputs": [],
   "source": [
    "def get_game_data(game_id, retry_limit=3):\n",
    "    response = requests.get(f'https://www.boardgamegeek.com/xmlapi2/thing?id={game_id}&stats=1')\n",
    "    soup = BeautifulSoup(response.content, 'xml')\n",
    "\n",
    "    # If it returns None, try 3 more times and then otherwise return None\n",
    "    if soup.find('item') is None:\n",
    "        print(f\"Unexpected response for game ID {game_id}: HTTP {response.status_code}, content: {response.content}\")\n",
    "        if retry_limit > 0:\n",
    "            time.sleep(1)\n",
    "            return get_game_data(game_id, retry_limit=retry_limit -1)\n",
    "        else:\n",
    "            return None\n",
    "\n",
    "    game = {}\n",
    "\n",
    "    game['rank'] = None  # This information is not available in XML API, placeholder for future usage.\n",
    "    game['bgg_url'] = f'https://boardgamegeek.com/boardgame/{game_id}'\n",
    "    game['game_id'] = game_id\n",
    "    game['name'] = soup.find('name').get('value')\n",
    "    \n",
    "    game['min_players'] = soup.find('minplayers').get('value')\n",
    "    game['max_players'] = soup.find('maxplayers').get('value')\n",
    "    game['avg_time'] = soup.find('playingtime').get('value')\n",
    "    game['min_time'] = soup.find('minplaytime').get('value')\n",
    "    game['max_time'] = soup.find('maxplaytime').get('value')\n",
    "    game['weight'] = soup.find('averageweight').get('value')\n",
    "    \n",
    "    game['year'] = soup.find('yearpublished').get('value')\n",
    "    game['age'] = soup.find('minage').get('value')\n",
    "\n",
    "    game['avg_rating'] = soup.find('average').get('value')\n",
    "    game['geek_rating'] = soup.find('bayesaverage').get('value')\n",
    "    game['num_votes'] = soup.find('usersrated').get('value')\n",
    "    game['owned'] = soup.find('owned').get('value')\n",
    "    game['designer'] = ', '.join(d.get('value') for d in soup.find_all('link', type='boardgamedesigner'))\n",
    "\n",
    "    game['categories'] = [c.get('value') for c in soup.find_all('link', type='boardgamecategory')]\n",
    "    categories.update(game['categories'])\n",
    "\n",
    "    game['mechanics'] = [m.get('value') for m in soup.find_all('link', type='boardgamemechanic')]\n",
    "    mechanics.update(game['mechanics'])\n",
    "\n",
    "    return game\n",
    "    "
   ]
  },
  {
   "cell_type": "code",
   "execution_count": 4,
   "id": "1108da29",
   "metadata": {},
   "outputs": [],
   "source": [
    "def get_id_from_page(game_page_url):\n",
    "    response = requests.get(game_page_url)\n",
    "    if response.statuscod !=200:\n",
    "        return None\n",
    "    \n",
    "    url = urlparse(response.url)\n",
    "    game_id = parse_qs(url.query).get('id', None)\n",
    "    \n",
    "    if game_id is not None:\n",
    "        return game_id[0]"
   ]
  },
  {
   "cell_type": "code",
   "execution_count": 5,
   "id": "80c5b32f",
   "metadata": {},
   "outputs": [],
   "source": [
    "def get_top_game_ids(page_num):\n",
    "    response = requests.get(f'https://boardgamegeek.com/browse/boardgame/page/{page_num}')\n",
    "    soup = BeautifulSoup(response.content, 'html.parser')\n",
    "    game_ids = []\n",
    "    \n",
    "    if page_num >= 21:\n",
    "        links = soup.select('td.collection_thumbnail a[href^=\"/boardgame/\"]')\n",
    "        for link in links:\n",
    "            game_url = 'https://boardgamegeek.com' + link['href']\n",
    "            game_id = get_game_id_from_page(game_url)\n",
    "            if game_id is not None:\n",
    "                game_ids.append(game_id)\n",
    "    \n",
    "    # Find all the boardgame links and extract the IDs\n",
    "    links = soup.select('td.collection_thumbnail a[href^=\"/boardgame/\"]')\n",
    "    game_ids = [link['href'].split('/')[2] for link in links]\n",
    "    \n",
    "    \n",
    "    return game_ids"
   ]
  },
  {
   "cell_type": "code",
   "execution_count": 6,
   "id": "8d845c70",
   "metadata": {},
   "outputs": [],
   "source": [
    "def pickle_here(games_list, rank):\n",
    "    with open(f'data/pickle/games_{rank}.pickle', 'wb') as f:\n",
    "        pickle.dump(games_list, f)"
   ]
  },
  {
   "cell_type": "code",
   "execution_count": 7,
   "id": "30a42d3f",
   "metadata": {},
   "outputs": [],
   "source": [
    "def get_links_from_page(page_num):\n",
    "    response = requests.get(f'https://boardgamegeek.com/browse/boardgame/page/{page_num}')\n",
    "    soup = BeautifulSoup(response.content, 'html.parser')\n",
    "    \n",
    "    # Find all the links on the page\n",
    "    links = soup.select('a[href]')\n",
    "    link_urls = [link['href'] for link in links]\n",
    "    \n",
    "    return link_urls"
   ]
  },
  {
   "cell_type": "markdown",
   "id": "a6717759",
   "metadata": {},
   "source": [
    "## Implementation"
   ]
  },
  {
   "cell_type": "markdown",
   "id": "94f94387",
   "metadata": {},
   "source": [
    "## Creating csv and writing header"
   ]
  },
  {
   "cell_type": "code",
   "execution_count": 7,
   "id": "a4b8f87c",
   "metadata": {},
   "outputs": [],
   "source": [
    "with open('data/basic_data_2023.csv', 'w', newline='', encoding='utf-8') as csvfile:\n",
    "    \n",
    "    fields = [\n",
    "    'rank',\n",
    "    'bgg_url',\n",
    "    'game_id',\n",
    "    'name',\n",
    "    'min_players',\n",
    "    'max_players',\n",
    "    'avg_time',\n",
    "    'min_time',\n",
    "    'max_time',\n",
    "    'weight',\n",
    "    'year',\n",
    "    'age',\n",
    "    'avg_rating',\n",
    "    'geek_rating',\n",
    "    'num_votes',\n",
    "    'owned',\n",
    "    'designer',\n",
    "    'categories',\n",
    "    'mechanics',\n",
    "    ]\n",
    "    \n",
    "    writer = csv.DictWriter(csvfile, fieldnames=fields)\n",
    "    writer.writeheader()"
   ]
  },
  {
   "cell_type": "markdown",
   "id": "8a2ea69b",
   "metadata": {},
   "source": [
    "### Scraping website"
   ]
  },
  {
   "cell_type": "code",
   "execution_count": 8,
   "id": "458aa5e7",
   "metadata": {},
   "outputs": [
    {
     "name": "stderr",
     "output_type": "stream",
     "text": [
      "100%|██████████████████████████████████████████████████████████████████████████████████| 21/21 [00:25<00:00,  1.20s/it]\n"
     ]
    }
   ],
   "source": [
    "# get top game ids\n",
    "top_game_ids = []\n",
    "\n",
    "with tqdm(total=21) as pbar:\n",
    "    for page_num in range(1, 22):\n",
    "        try:\n",
    "            top_game_ids.extend(get_top_game_ids(page_num))\n",
    "            time.sleep(1)\n",
    "            pbar.update()\n",
    "        except Exception as e:\n",
    "            tqdm.write(f'Error {e} occurred on page number {page_num}')"
   ]
  },
  {
   "cell_type": "code",
   "execution_count": 9,
   "id": "5ae12443",
   "metadata": {},
   "outputs": [],
   "source": [
    "# top_games_pg = get_top_game_ids(21)\n",
    "# top_games_pg"
   ]
  },
  {
   "cell_type": "code",
   "execution_count": 11,
   "id": "15f88242",
   "metadata": {},
   "outputs": [
    {
     "name": "stderr",
     "output_type": "stream",
     "text": [
      "Successfully fetched game ID: 174785, Rank: 635:  32%|█████████▌                    | 635/2000 [23:15<48:43,  2.14s/it]"
     ]
    },
    {
     "name": "stdout",
     "output_type": "stream",
     "text": [
      "Unexpected response for game ID 37904: HTTP 429, content: b'<error>\\n    <message>Rate limit exceeded.</message>\\n</error>'\n"
     ]
    },
    {
     "name": "stderr",
     "output_type": "stream",
     "text": [
      "Successfully fetched game ID: 357563, Rank: 651:  33%|█████████▊                    | 651/2000 [23:53<52:40,  2.34s/it]"
     ]
    },
    {
     "name": "stdout",
     "output_type": "stream",
     "text": [
      "Unexpected response for game ID 296912: HTTP 429, content: b'<error>\\n    <message>Rate limit exceeded.</message>\\n</error>'\n"
     ]
    },
    {
     "name": "stderr",
     "output_type": "stream",
     "text": [
      "Successfully fetched game ID: 58281, Rank: 663:  33%|██████████▎                    | 663/2000 [24:21<59:03,  2.65s/it]"
     ]
    },
    {
     "name": "stdout",
     "output_type": "stream",
     "text": [
      "Unexpected response for game ID 318009: HTTP 429, content: b'<error>\\n    <message>Rate limit exceeded.</message>\\n</error>'\n"
     ]
    },
    {
     "name": "stderr",
     "output_type": "stream",
     "text": [
      "Successfully fetched game ID: 100423, Rank: 665:  33%|█████████▉                    | 665/2000 [24:26<55:03,  2.47s/it]"
     ]
    },
    {
     "name": "stdout",
     "output_type": "stream",
     "text": [
      "Unexpected response for game ID 271518: HTTP 429, content: b'<error>\\n    <message>Rate limit exceeded.</message>\\n</error>'\n"
     ]
    },
    {
     "name": "stderr",
     "output_type": "stream",
     "text": [
      "Successfully fetched game ID: 271518, Rank: 666:  33%|█████████▉                    | 666/2000 [24:28<55:27,  2.49s/it]"
     ]
    },
    {
     "name": "stdout",
     "output_type": "stream",
     "text": [
      "Unexpected response for game ID 73171: HTTP 429, content: b'<error>\\n    <message>Rate limit exceeded.</message>\\n</error>'\n"
     ]
    },
    {
     "name": "stderr",
     "output_type": "stream",
     "text": [
      "Successfully fetched game ID: 135779, Rank: 669:  33%|██████████                    | 669/2000 [24:34<44:33,  2.01s/it]"
     ]
    },
    {
     "name": "stdout",
     "output_type": "stream",
     "text": [
      "Unexpected response for game ID 300300: HTTP 429, content: b'<error>\\n    <message>Rate limit exceeded.</message>\\n</error>'\n"
     ]
    },
    {
     "name": "stderr",
     "output_type": "stream",
     "text": [
      "Successfully fetched game ID: 121288, Rank: 676:  34%|██████████▏                   | 676/2000 [24:51<54:18,  2.46s/it]"
     ]
    },
    {
     "name": "stdout",
     "output_type": "stream",
     "text": [
      "Unexpected response for game ID 233247: HTTP 429, content: b'<error>\\n    <message>Rate limit exceeded.</message>\\n</error>'\n"
     ]
    },
    {
     "name": "stderr",
     "output_type": "stream",
     "text": [
      "Successfully fetched game ID: 233247, Rank: 677:  34%|██████████▏                   | 677/2000 [24:53<54:07,  2.45s/it]"
     ]
    },
    {
     "name": "stdout",
     "output_type": "stream",
     "text": [
      "Unexpected response for game ID 2398: HTTP 429, content: b'<error>\\n    <message>Rate limit exceeded.</message>\\n</error>'\n"
     ]
    },
    {
     "name": "stderr",
     "output_type": "stream",
     "text": [
      "Successfully fetched game ID: 163839, Rank: 682:  34%|█████████▌                  | 682/2000 [25:07<1:01:37,  2.81s/it]"
     ]
    },
    {
     "name": "stdout",
     "output_type": "stream",
     "text": [
      "Unexpected response for game ID 134726: HTTP 429, content: b'<error>\\n    <message>Rate limit exceeded.</message>\\n</error>'\n"
     ]
    },
    {
     "name": "stderr",
     "output_type": "stream",
     "text": [
      "Successfully fetched game ID: 132018, Rank: 687:  34%|██████████▎                   | 687/2000 [25:18<48:23,  2.21s/it]"
     ]
    },
    {
     "name": "stdout",
     "output_type": "stream",
     "text": [
      "Unexpected response for game ID 306040: HTTP 429, content: b'<error>\\n    <message>Rate limit exceeded.</message>\\n</error>'\n"
     ]
    },
    {
     "name": "stderr",
     "output_type": "stream",
     "text": [
      "Successfully fetched game ID: 306040, Rank: 688:  34%|██████████▎                   | 688/2000 [25:20<49:15,  2.25s/it]"
     ]
    },
    {
     "name": "stdout",
     "output_type": "stream",
     "text": [
      "Unexpected response for game ID 2955: HTTP 429, content: b'<error>\\n    <message>Rate limit exceeded.</message>\\n</error>'\n"
     ]
    },
    {
     "name": "stderr",
     "output_type": "stream",
     "text": [
      "Successfully fetched game ID: 284760, Rank: 696:  35%|██████████▍                   | 696/2000 [25:39<47:41,  2.19s/it]"
     ]
    },
    {
     "name": "stdout",
     "output_type": "stream",
     "text": [
      "Unexpected response for game ID 69789: HTTP 429, content: b'<error>\\n    <message>Rate limit exceeded.</message>\\n</error>'\n"
     ]
    },
    {
     "name": "stderr",
     "output_type": "stream",
     "text": [
      "Successfully fetched game ID: 69789, Rank: 697:  35%|██████████▊                    | 697/2000 [25:42<48:30,  2.23s/it]"
     ]
    },
    {
     "name": "stdout",
     "output_type": "stream",
     "text": [
      "Unexpected response for game ID 244114: HTTP 429, content: b'<error>\\n    <message>Rate limit exceeded.</message>\\n</error>'\n"
     ]
    },
    {
     "name": "stderr",
     "output_type": "stream",
     "text": [
      "Successfully fetched game ID: 65532, Rank: 699:  35%|██████████▊                    | 699/2000 [25:46<50:39,  2.34s/it]"
     ]
    },
    {
     "name": "stdout",
     "output_type": "stream",
     "text": [
      "Unexpected response for game ID 20963: HTTP 429, content: b'<error>\\n    <message>Rate limit exceeded.</message>\\n</error>'\n"
     ]
    },
    {
     "name": "stderr",
     "output_type": "stream",
     "text": [
      "Successfully fetched game ID: 270970, Rank: 711:  36%|██████████▋                   | 711/2000 [26:20<59:23,  2.76s/it]"
     ]
    },
    {
     "name": "stdout",
     "output_type": "stream",
     "text": [
      "Unexpected response for game ID 155624: HTTP 429, content: b'<error>\\n    <message>Rate limit exceeded.</message>\\n</error>'\n"
     ]
    },
    {
     "name": "stderr",
     "output_type": "stream",
     "text": [
      "Successfully fetched game ID: 155624, Rank: 712:  36%|██████████▋                   | 712/2000 [26:23<56:15,  2.62s/it]"
     ]
    },
    {
     "name": "stdout",
     "output_type": "stream",
     "text": [
      "Unexpected response for game ID 311988: HTTP 429, content: b'<error>\\n    <message>Rate limit exceeded.</message>\\n</error>'\n"
     ]
    },
    {
     "name": "stderr",
     "output_type": "stream",
     "text": [
      "Successfully fetched game ID: 7717, Rank: 715:  36%|███████████▍                    | 715/2000 [26:31<57:53,  2.70s/it]"
     ]
    },
    {
     "name": "stdout",
     "output_type": "stream",
     "text": [
      "Unexpected response for game ID 116998: HTTP 429, content: b'<error>\\n    <message>Rate limit exceeded.</message>\\n</error>'\n"
     ]
    },
    {
     "name": "stderr",
     "output_type": "stream",
     "text": [
      "Successfully fetched game ID: 307305, Rank: 799:  40%|███████████▉                  | 799/2000 [29:42<41:14,  2.06s/it]"
     ]
    },
    {
     "name": "stdout",
     "output_type": "stream",
     "text": [
      "Unexpected response for game ID 51: HTTP 429, content: b'<error>\\n    <message>Rate limit exceeded.</message>\\n</error>'\n"
     ]
    },
    {
     "name": "stderr",
     "output_type": "stream",
     "text": [
      "Successfully fetched game ID: 234671, Rank: 838:  42%|████████████▌                 | 838/2000 [31:13<51:49,  2.68s/it]"
     ]
    },
    {
     "name": "stdout",
     "output_type": "stream",
     "text": [
      "Unexpected response for game ID 177590: HTTP 429, content: b'<error>\\n    <message>Rate limit exceeded.</message>\\n</error>'\n"
     ]
    },
    {
     "name": "stderr",
     "output_type": "stream",
     "text": [
      "Successfully fetched game ID: 177590, Rank: 839:  42%|████████████▌                 | 839/2000 [31:15<49:48,  2.57s/it]"
     ]
    },
    {
     "name": "stdout",
     "output_type": "stream",
     "text": [
      "Unexpected response for game ID 145659: HTTP 429, content: b'<error>\\n    <message>Rate limit exceeded.</message>\\n</error>'\n"
     ]
    },
    {
     "name": "stderr",
     "output_type": "stream",
     "text": [
      "Successfully fetched game ID: 227460, Rank: 841:  42%|████████████▌                 | 841/2000 [31:21<54:50,  2.84s/it]"
     ]
    },
    {
     "name": "stdout",
     "output_type": "stream",
     "text": [
      "Unexpected response for game ID 299047: HTTP 429, content: b'<error>\\n    <message>Rate limit exceeded.</message>\\n</error>'\n"
     ]
    },
    {
     "name": "stderr",
     "output_type": "stream",
     "text": [
      "Successfully fetched game ID: 299047, Rank: 842:  42%|████████████▋                 | 842/2000 [31:24<52:00,  2.70s/it]"
     ]
    },
    {
     "name": "stdout",
     "output_type": "stream",
     "text": [
      "Unexpected response for game ID 275467: HTTP 429, content: b'<error>\\n    <message>Rate limit exceeded.</message>\\n</error>'\n"
     ]
    },
    {
     "name": "stderr",
     "output_type": "stream",
     "text": [
      "Successfully fetched game ID: 103886, Rank: 847:  42%|████████████▋                 | 847/2000 [31:37<48:33,  2.53s/it]"
     ]
    },
    {
     "name": "stdout",
     "output_type": "stream",
     "text": [
      "Unexpected response for game ID 148729: HTTP 429, content: b'<error>\\n    <message>Rate limit exceeded.</message>\\n</error>'\n"
     ]
    },
    {
     "name": "stderr",
     "output_type": "stream",
     "text": [
      "Successfully fetched game ID: 24800, Rank: 851:  43%|█████████████▏                 | 851/2000 [31:48<54:54,  2.87s/it]"
     ]
    },
    {
     "name": "stdout",
     "output_type": "stream",
     "text": [
      "Unexpected response for game ID 8125: HTTP 429, content: b'<error>\\n    <message>Rate limit exceeded.</message>\\n</error>'\n"
     ]
    },
    {
     "name": "stderr",
     "output_type": "stream",
     "text": [
      "Successfully fetched game ID: 119788, Rank: 865:  43%|████████████▉                 | 865/2000 [32:20<33:04,  1.75s/it]"
     ]
    },
    {
     "name": "stdout",
     "output_type": "stream",
     "text": [
      "Unexpected response for game ID 12902: HTTP 429, content: b'<error>\\n    <message>Rate limit exceeded.</message>\\n</error>'\n"
     ]
    },
    {
     "name": "stderr",
     "output_type": "stream",
     "text": [
      "Successfully fetched game ID: 113997, Rank: 874:  44%|█████████████                 | 874/2000 [32:37<32:31,  1.73s/it]"
     ]
    },
    {
     "name": "stdout",
     "output_type": "stream",
     "text": [
      "Unexpected response for game ID 56692: HTTP 429, content: b'<error>\\n    <message>Rate limit exceeded.</message>\\n</error>'\n"
     ]
    },
    {
     "name": "stderr",
     "output_type": "stream",
     "text": [
      "Successfully fetched game ID: 94, Rank: 876:  44%|██████████████▉                   | 876/2000 [32:42<38:22,  2.05s/it]"
     ]
    },
    {
     "name": "stdout",
     "output_type": "stream",
     "text": [
      "Unexpected response for game ID 26990: HTTP 429, content: b'<error>\\n    <message>Rate limit exceeded.</message>\\n</error>'\n"
     ]
    },
    {
     "name": "stderr",
     "output_type": "stream",
     "text": [
      "Successfully fetched game ID: 272739, Rank: 879:  44%|█████████████▏                | 879/2000 [32:49<40:35,  2.17s/it]"
     ]
    },
    {
     "name": "stdout",
     "output_type": "stream",
     "text": [
      "Unexpected response for game ID 155362: HTTP 429, content: b'<error>\\n    <message>Rate limit exceeded.</message>\\n</error>'\n"
     ]
    },
    {
     "name": "stderr",
     "output_type": "stream",
     "text": [
      "Successfully fetched game ID: 299684, Rank: 887:  44%|█████████████▎                | 887/2000 [33:06<40:38,  2.19s/it]"
     ]
    },
    {
     "name": "stdout",
     "output_type": "stream",
     "text": [
      "Unexpected response for game ID 35570: HTTP 429, content: b'<error>\\n    <message>Rate limit exceeded.</message>\\n</error>'\n"
     ]
    },
    {
     "name": "stderr",
     "output_type": "stream",
     "text": [
      "Successfully fetched game ID: 35570, Rank: 888:  44%|█████████████▊                 | 888/2000 [33:09<41:36,  2.25s/it]"
     ]
    },
    {
     "name": "stdout",
     "output_type": "stream",
     "text": [
      "Unexpected response for game ID 1041: HTTP 429, content: b'<error>\\n    <message>Rate limit exceeded.</message>\\n</error>'\n"
     ]
    },
    {
     "name": "stderr",
     "output_type": "stream",
     "text": [
      "Successfully fetched game ID: 139898, Rank: 892:  45%|█████████████▍                | 892/2000 [33:19<45:11,  2.45s/it]"
     ]
    },
    {
     "name": "stdout",
     "output_type": "stream",
     "text": [
      "Unexpected response for game ID 154458: HTTP 429, content: b'<error>\\n    <message>Rate limit exceeded.</message>\\n</error>'\n"
     ]
    },
    {
     "name": "stderr",
     "output_type": "stream",
     "text": [
      "Successfully fetched game ID: 173, Rank: 897:  45%|██████████████▊                  | 897/2000 [33:30<41:58,  2.28s/it]"
     ]
    },
    {
     "name": "stdout",
     "output_type": "stream",
     "text": [
      "Unexpected response for game ID 291845: HTTP 429, content: b'<error>\\n    <message>Rate limit exceeded.</message>\\n</error>'\n"
     ]
    },
    {
     "name": "stderr",
     "output_type": "stream",
     "text": [
      "Successfully fetched game ID: 239464, Rank: 918:  46%|█████████████▊                | 918/2000 [34:25<38:37,  2.14s/it]"
     ]
    },
    {
     "name": "stdout",
     "output_type": "stream",
     "text": [
      "Unexpected response for game ID 26566: HTTP 429, content: b'<error>\\n    <message>Rate limit exceeded.</message>\\n</error>'\n"
     ]
    },
    {
     "name": "stderr",
     "output_type": "stream",
     "text": [
      "Successfully fetched game ID: 26566, Rank: 919:  46%|██████████████▏                | 919/2000 [34:27<39:26,  2.19s/it]"
     ]
    },
    {
     "name": "stdout",
     "output_type": "stream",
     "text": [
      "Unexpected response for game ID 270314: HTTP 429, content: b'<error>\\n    <message>Rate limit exceeded.</message>\\n</error>'\n"
     ]
    },
    {
     "name": "stderr",
     "output_type": "stream",
     "text": [
      "Successfully fetched game ID: 108906, Rank: 927:  46%|█████████████▉                | 927/2000 [34:48<49:54,  2.79s/it]"
     ]
    },
    {
     "name": "stdout",
     "output_type": "stream",
     "text": [
      "Unexpected response for game ID 294612: HTTP 429, content: b'<error>\\n    <message>Rate limit exceeded.</message>\\n</error>'\n"
     ]
    },
    {
     "name": "stderr",
     "output_type": "stream",
     "text": [
      "Successfully fetched game ID: 156689, Rank: 936:  47%|██████████████                | 936/2000 [35:09<42:55,  2.42s/it]"
     ]
    },
    {
     "name": "stdout",
     "output_type": "stream",
     "text": [
      "Unexpected response for game ID 281655: HTTP 429, content: b'<error>\\n    <message>Rate limit exceeded.</message>\\n</error>'\n"
     ]
    },
    {
     "name": "stderr",
     "output_type": "stream",
     "text": [
      "Successfully fetched game ID: 59946, Rank: 940:  47%|██████████████▌                | 940/2000 [35:20<46:04,  2.61s/it]"
     ]
    },
    {
     "name": "stdout",
     "output_type": "stream",
     "text": [
      "Unexpected response for game ID 197405: HTTP 429, content: b'<error>\\n    <message>Rate limit exceeded.</message>\\n</error>'\n"
     ]
    },
    {
     "name": "stderr",
     "output_type": "stream",
     "text": [
      "Successfully fetched game ID: 197405, Rank: 941:  47%|██████████████                | 941/2000 [35:22<44:33,  2.52s/it]"
     ]
    },
    {
     "name": "stdout",
     "output_type": "stream",
     "text": [
      "Unexpected response for game ID 98351: HTTP 429, content: b'<error>\\n    <message>Rate limit exceeded.</message>\\n</error>'\n"
     ]
    },
    {
     "name": "stderr",
     "output_type": "stream",
     "text": [
      "Successfully fetched game ID: 27976, Rank: 943:  47%|██████████████▌                | 943/2000 [35:26<42:19,  2.40s/it]"
     ]
    },
    {
     "name": "stdout",
     "output_type": "stream",
     "text": [
      "Unexpected response for game ID 331787: HTTP 429, content: b'<error>\\n    <message>Rate limit exceeded.</message>\\n</error>'\n"
     ]
    },
    {
     "name": "stderr",
     "output_type": "stream",
     "text": [
      "Successfully fetched game ID: 8051, Rank: 946:  47%|███████████████▏                | 946/2000 [35:31<30:47,  1.75s/it]"
     ]
    },
    {
     "name": "stdout",
     "output_type": "stream",
     "text": [
      "Unexpected response for game ID 210296: HTTP 429, content: b'<error>\\n    <message>Rate limit exceeded.</message>\\n</error>'\n"
     ]
    },
    {
     "name": "stderr",
     "output_type": "stream",
     "text": [
      "Successfully fetched game ID: 201921, Rank: 949:  47%|██████████████▏               | 949/2000 [35:38<36:13,  2.07s/it]"
     ]
    },
    {
     "name": "stdout",
     "output_type": "stream",
     "text": [
      "Unexpected response for game ID 25669: HTTP 429, content: b'<error>\\n    <message>Rate limit exceeded.</message>\\n</error>'\n"
     ]
    },
    {
     "name": "stderr",
     "output_type": "stream",
     "text": [
      "Successfully fetched game ID: 25669, Rank: 950:  48%|██████████████▋                | 950/2000 [35:40<37:29,  2.14s/it]"
     ]
    },
    {
     "name": "stdout",
     "output_type": "stream",
     "text": [
      "Unexpected response for game ID 27588: HTTP 429, content: b'<error>\\n    <message>Rate limit exceeded.</message>\\n</error>'\n"
     ]
    },
    {
     "name": "stderr",
     "output_type": "stream",
     "text": [
      "Successfully fetched game ID: 193214, Rank: 956:  48%|██████████████▎               | 956/2000 [35:54<36:16,  2.08s/it]"
     ]
    },
    {
     "name": "stdout",
     "output_type": "stream",
     "text": [
      "Unexpected response for game ID 245487: HTTP 429, content: b'<error>\\n    <message>Rate limit exceeded.</message>\\n</error>'\n"
     ]
    },
    {
     "name": "stderr",
     "output_type": "stream",
     "text": [
      "Successfully fetched game ID: 245487, Rank: 957:  48%|██████████████▎               | 957/2000 [35:56<37:19,  2.15s/it]"
     ]
    },
    {
     "name": "stdout",
     "output_type": "stream",
     "text": [
      "Unexpected response for game ID 242804: HTTP 429, content: b'<error>\\n    <message>Rate limit exceeded.</message>\\n</error>'\n"
     ]
    },
    {
     "name": "stderr",
     "output_type": "stream",
     "text": [
      "Successfully fetched game ID: 242804, Rank: 958:  48%|██████████████▎               | 958/2000 [35:58<38:55,  2.24s/it]"
     ]
    },
    {
     "name": "stdout",
     "output_type": "stream",
     "text": [
      "Unexpected response for game ID 207830: HTTP 429, content: b'<error>\\n    <message>Rate limit exceeded.</message>\\n</error>'\n"
     ]
    },
    {
     "name": "stderr",
     "output_type": "stream",
     "text": [
      "Successfully fetched game ID: 203427, Rank: 963:  48%|██████████████▍               | 963/2000 [36:10<34:00,  1.97s/it]"
     ]
    },
    {
     "name": "stdout",
     "output_type": "stream",
     "text": [
      "Unexpected response for game ID 82420: HTTP 429, content: b'<error>\\n    <message>Rate limit exceeded.</message>\\n</error>'\n"
     ]
    },
    {
     "name": "stderr",
     "output_type": "stream",
     "text": [
      "Successfully fetched game ID: 65901, Rank: 968:  48%|███████████████                | 968/2000 [36:21<34:11,  1.99s/it]"
     ]
    },
    {
     "name": "stdout",
     "output_type": "stream",
     "text": [
      "Unexpected response for game ID 233262: HTTP 429, content: b'<error>\\n    <message>Rate limit exceeded.</message>\\n</error>'\n"
     ]
    },
    {
     "name": "stderr",
     "output_type": "stream",
     "text": [
      "Successfully fetched game ID: 233262, Rank: 969:  48%|██████████████▌               | 969/2000 [36:23<35:45,  2.08s/it]"
     ]
    },
    {
     "name": "stdout",
     "output_type": "stream",
     "text": [
      "Unexpected response for game ID 249277: HTTP 429, content: b'<error>\\n    <message>Rate limit exceeded.</message>\\n</error>'\n"
     ]
    },
    {
     "name": "stderr",
     "output_type": "stream",
     "text": [
      "Successfully fetched game ID: 249277, Rank: 970:  48%|██████████████▌               | 970/2000 [36:26<37:01,  2.16s/it]"
     ]
    },
    {
     "name": "stdout",
     "output_type": "stream",
     "text": [
      "Unexpected response for game ID 106217: HTTP 429, content: b'<error>\\n    <message>Rate limit exceeded.</message>\\n</error>'\n"
     ]
    },
    {
     "name": "stderr",
     "output_type": "stream",
     "text": [
      "Successfully fetched game ID: 106217, Rank: 971:  49%|██████████████▌               | 971/2000 [36:28<38:10,  2.23s/it]"
     ]
    },
    {
     "name": "stdout",
     "output_type": "stream",
     "text": [
      "Unexpected response for game ID 334065: HTTP 429, content: b'<error>\\n    <message>Rate limit exceeded.</message>\\n</error>'\n"
     ]
    },
    {
     "name": "stderr",
     "output_type": "stream",
     "text": [
      "Successfully fetched game ID: 212402, Rank: 974:  49%|██████████████▌               | 974/2000 [36:36<42:27,  2.48s/it]"
     ]
    },
    {
     "name": "stdout",
     "output_type": "stream",
     "text": [
      "Unexpected response for game ID 271601: HTTP 429, content: b'<error>\\n    <message>Rate limit exceeded.</message>\\n</error>'\n"
     ]
    },
    {
     "name": "stderr",
     "output_type": "stream",
     "text": [
      "Successfully fetched game ID: 271601, Rank: 975:  49%|██████████████▋               | 975/2000 [36:38<42:00,  2.46s/it]"
     ]
    },
    {
     "name": "stdout",
     "output_type": "stream",
     "text": [
      "Unexpected response for game ID 154086: HTTP 429, content: b'<error>\\n    <message>Rate limit exceeded.</message>\\n</error>'\n"
     ]
    },
    {
     "name": "stderr",
     "output_type": "stream",
     "text": [
      "Successfully fetched game ID: 169124, Rank: 978:  49%|██████████████▋               | 978/2000 [36:46<42:42,  2.51s/it]"
     ]
    },
    {
     "name": "stdout",
     "output_type": "stream",
     "text": [
      "Unexpected response for game ID 291508: HTTP 429, content: b'<error>\\n    <message>Rate limit exceeded.</message>\\n</error>'\n"
     ]
    },
    {
     "name": "stderr",
     "output_type": "stream",
     "text": [
      "Successfully fetched game ID: 291508, Rank: 979:  49%|██████████████▋               | 979/2000 [36:48<41:42,  2.45s/it]"
     ]
    },
    {
     "name": "stdout",
     "output_type": "stream",
     "text": [
      "Unexpected response for game ID 295564: HTTP 429, content: b'<error>\\n    <message>Rate limit exceeded.</message>\\n</error>'\n"
     ]
    },
    {
     "name": "stderr",
     "output_type": "stream",
     "text": [
      "Successfully fetched game ID: 353288, Rank: 981:  49%|██████████████▋               | 981/2000 [36:54<45:20,  2.67s/it]"
     ]
    },
    {
     "name": "stdout",
     "output_type": "stream",
     "text": [
      "Unexpected response for game ID 370913: HTTP 429, content: b'<error>\\n    <message>Rate limit exceeded.</message>\\n</error>'\n"
     ]
    },
    {
     "name": "stderr",
     "output_type": "stream",
     "text": [
      "Successfully fetched game ID: 195314, Rank: 983:  49%|██████████████▋               | 983/2000 [36:58<41:24,  2.44s/it]"
     ]
    },
    {
     "name": "stdout",
     "output_type": "stream",
     "text": [
      "Unexpected response for game ID 351040: HTTP 429, content: b'<error>\\n    <message>Rate limit exceeded.</message>\\n</error>'\n"
     ]
    },
    {
     "name": "stderr",
     "output_type": "stream",
     "text": [
      "Successfully fetched game ID: 19600, Rank: 989:  49%|███████████████▎               | 989/2000 [37:16<47:14,  2.80s/it]"
     ]
    },
    {
     "name": "stdout",
     "output_type": "stream",
     "text": [
      "Unexpected response for game ID 66505: HTTP 429, content: b'<error>\\n    <message>Rate limit exceeded.</message>\\n</error>'\n"
     ]
    },
    {
     "name": "stderr",
     "output_type": "stream",
     "text": [
      "Successfully fetched game ID: 95064, Rank: 993:  50%|███████████████▍               | 993/2000 [37:25<41:13,  2.46s/it]"
     ]
    },
    {
     "name": "stdout",
     "output_type": "stream",
     "text": [
      "Unexpected response for game ID 347703: HTTP 429, content: b'<error>\\n    <message>Rate limit exceeded.</message>\\n</error>'\n"
     ]
    },
    {
     "name": "stderr",
     "output_type": "stream",
     "text": [
      "Successfully fetched game ID: 224, Rank: 995:  50%|████████████████▍                | 995/2000 [37:30<41:07,  2.46s/it]"
     ]
    },
    {
     "name": "stdout",
     "output_type": "stream",
     "text": [
      "Unexpected response for game ID 180680: HTTP 429, content: b'<error>\\n    <message>Rate limit exceeded.</message>\\n</error>'\n"
     ]
    },
    {
     "name": "stderr",
     "output_type": "stream",
     "text": [
      "Successfully fetched game ID: 180680, Rank: 996:  50%|██████████████▉               | 996/2000 [37:33<40:35,  2.43s/it]"
     ]
    },
    {
     "name": "stdout",
     "output_type": "stream",
     "text": [
      "Unexpected response for game ID 281466: HTTP 429, content: b'<error>\\n    <message>Rate limit exceeded.</message>\\n</error>'\n"
     ]
    },
    {
     "name": "stderr",
     "output_type": "stream",
     "text": [
      "Successfully fetched game ID: 218509, Rank: 1000:  50%|██████████████              | 1000/2000 [37:44<43:48,  2.63s/it]"
     ]
    },
    {
     "name": "stdout",
     "output_type": "stream",
     "text": [
      "Unexpected response for game ID 254708: HTTP 429, content: b'<error>\\n    <message>Rate limit exceeded.</message>\\n</error>'\n"
     ]
    },
    {
     "name": "stderr",
     "output_type": "stream",
     "text": [
      "Successfully fetched game ID: 157403, Rank: 1002:  50%|██████████████              | 1002/2000 [37:49<45:44,  2.75s/it]"
     ]
    },
    {
     "name": "stdout",
     "output_type": "stream",
     "text": [
      "Unexpected response for game ID 161882: HTTP 429, content: b'<error>\\n    <message>Rate limit exceeded.</message>\\n</error>'\n"
     ]
    },
    {
     "name": "stderr",
     "output_type": "stream",
     "text": [
      "Successfully fetched game ID: 1382, Rank: 1004:  50%|███████████████               | 1004/2000 [37:54<41:20,  2.49s/it]"
     ]
    },
    {
     "name": "stdout",
     "output_type": "stream",
     "text": [
      "Unexpected response for game ID 204027: HTTP 429, content: b'<error>\\n    <message>Rate limit exceeded.</message>\\n</error>'\n"
     ]
    },
    {
     "name": "stderr",
     "output_type": "stream",
     "text": [
      "Successfully fetched game ID: 204027, Rank: 1005:  50%|██████████████              | 1005/2000 [37:56<40:32,  2.44s/it]"
     ]
    },
    {
     "name": "stdout",
     "output_type": "stream",
     "text": [
      "Unexpected response for game ID 242684: HTTP 429, content: b'<error>\\n    <message>Rate limit exceeded.</message>\\n</error>'\n"
     ]
    },
    {
     "name": "stderr",
     "output_type": "stream",
     "text": [
      "Successfully fetched game ID: 242684, Rank: 1006:  50%|██████████████              | 1006/2000 [37:58<39:50,  2.41s/it]"
     ]
    },
    {
     "name": "stdout",
     "output_type": "stream",
     "text": [
      "Unexpected response for game ID 178336: HTTP 429, content: b'<error>\\n    <message>Rate limit exceeded.</message>\\n</error>'\n"
     ]
    },
    {
     "name": "stderr",
     "output_type": "stream",
     "text": [
      "Successfully fetched game ID: 290484, Rank: 1008:  50%|██████████████              | 1008/2000 [38:04<44:10,  2.67s/it]"
     ]
    },
    {
     "name": "stdout",
     "output_type": "stream",
     "text": [
      "Unexpected response for game ID 359438: HTTP 429, content: b'<error>\\n    <message>Rate limit exceeded.</message>\\n</error>'\n"
     ]
    },
    {
     "name": "stderr",
     "output_type": "stream",
     "text": [
      "Successfully fetched game ID: 230080, Rank: 1013:  51%|██████████████▏             | 1013/2000 [38:15<37:24,  2.27s/it]"
     ]
    },
    {
     "name": "stdout",
     "output_type": "stream",
     "text": [
      "Unexpected response for game ID 72287: HTTP 429, content: b'<error>\\n    <message>Rate limit exceeded.</message>\\n</error>'\n"
     ]
    },
    {
     "name": "stderr",
     "output_type": "stream",
     "text": [
      "Successfully fetched game ID: 200954, Rank: 1021:  51%|██████████████▎             | 1021/2000 [38:33<32:21,  1.98s/it]"
     ]
    },
    {
     "name": "stdout",
     "output_type": "stream",
     "text": [
      "Unexpected response for game ID 141517: HTTP 429, content: b'<error>\\n    <message>Rate limit exceeded.</message>\\n</error>'\n"
     ]
    },
    {
     "name": "stderr",
     "output_type": "stream",
     "text": [
      "Successfully fetched game ID: 253284, Rank: 1031:  52%|██████████████▍             | 1031/2000 [38:57<44:12,  2.74s/it]"
     ]
    },
    {
     "name": "stdout",
     "output_type": "stream",
     "text": [
      "Unexpected response for game ID 75449: HTTP 429, content: b'<error>\\n    <message>Rate limit exceeded.</message>\\n</error>'\n"
     ]
    },
    {
     "name": "stderr",
     "output_type": "stream",
     "text": [
      "Successfully fetched game ID: 156776, Rank: 1035:  52%|██████████████▍             | 1035/2000 [39:06<37:53,  2.36s/it]"
     ]
    },
    {
     "name": "stdout",
     "output_type": "stream",
     "text": [
      "Unexpected response for game ID 172931: HTTP 429, content: b'<error>\\n    <message>Rate limit exceeded.</message>\\n</error>'\n"
     ]
    },
    {
     "name": "stderr",
     "output_type": "stream",
     "text": [
      "Successfully fetched game ID: 40793, Rank: 1037:  52%|███████████████              | 1037/2000 [39:11<37:09,  2.32s/it]"
     ]
    },
    {
     "name": "stdout",
     "output_type": "stream",
     "text": [
      "Unexpected response for game ID 158275: HTTP 429, content: b'<error>\\n    <message>Rate limit exceeded.</message>\\n</error>'\n"
     ]
    },
    {
     "name": "stderr",
     "output_type": "stream",
     "text": [
      "Successfully fetched game ID: 127518, Rank: 1044:  52%|██████████████▌             | 1044/2000 [39:29<39:29,  2.48s/it]"
     ]
    },
    {
     "name": "stdout",
     "output_type": "stream",
     "text": [
      "Unexpected response for game ID 157809: HTTP 429, content: b'<error>\\n    <message>Rate limit exceeded.</message>\\n</error>'\n"
     ]
    },
    {
     "name": "stderr",
     "output_type": "stream",
     "text": [
      "Successfully fetched game ID: 338760, Rank: 1052:  53%|██████████████▋             | 1052/2000 [39:49<35:07,  2.22s/it]"
     ]
    },
    {
     "name": "stdout",
     "output_type": "stream",
     "text": [
      "Unexpected response for game ID 823: HTTP 429, content: b'<error>\\n    <message>Rate limit exceeded.</message>\\n</error>'\n"
     ]
    },
    {
     "name": "stderr",
     "output_type": "stream",
     "text": [
      "Successfully fetched game ID: 823, Rank: 1053:  53%|████████████████▎              | 1053/2000 [39:52<35:39,  2.26s/it]"
     ]
    },
    {
     "name": "stdout",
     "output_type": "stream",
     "text": [
      "Unexpected response for game ID 208024: HTTP 429, content: b'<error>\\n    <message>Rate limit exceeded.</message>\\n</error>'\n"
     ]
    },
    {
     "name": "stderr",
     "output_type": "stream",
     "text": [
      "Successfully fetched game ID: 208024, Rank: 1054:  53%|██████████████▊             | 1054/2000 [39:54<36:41,  2.33s/it]"
     ]
    },
    {
     "name": "stdout",
     "output_type": "stream",
     "text": [
      "Unexpected response for game ID 194517: HTTP 429, content: b'<error>\\n    <message>Rate limit exceeded.</message>\\n</error>'\n"
     ]
    },
    {
     "name": "stderr",
     "output_type": "stream",
     "text": [
      "Successfully fetched game ID: 136991, Rank: 1073:  54%|███████████████             | 1073/2000 [40:40<45:04,  2.92s/it]"
     ]
    },
    {
     "name": "stdout",
     "output_type": "stream",
     "text": [
      "Unexpected response for game ID 1822: HTTP 429, content: b'<error>\\n    <message>Rate limit exceeded.</message>\\n</error>'\n"
     ]
    },
    {
     "name": "stderr",
     "output_type": "stream",
     "text": [
      "Successfully fetched game ID: 245476, Rank: 1076:  54%|███████████████             | 1076/2000 [40:49<45:44,  2.97s/it]"
     ]
    },
    {
     "name": "stdout",
     "output_type": "stream",
     "text": [
      "Unexpected response for game ID 146312: HTTP 429, content: b'<error>\\n    <message>Rate limit exceeded.</message>\\n</error>'\n"
     ]
    },
    {
     "name": "stderr",
     "output_type": "stream",
     "text": [
      "Successfully fetched game ID: 146312, Rank: 1077:  54%|███████████████             | 1077/2000 [40:51<42:56,  2.79s/it]"
     ]
    },
    {
     "name": "stdout",
     "output_type": "stream",
     "text": [
      "Unexpected response for game ID 198454: HTTP 429, content: b'<error>\\n    <message>Rate limit exceeded.</message>\\n</error>'\n"
     ]
    },
    {
     "name": "stderr",
     "output_type": "stream",
     "text": [
      "Successfully fetched game ID: 198454, Rank: 1078:  54%|███████████████             | 1078/2000 [40:54<40:59,  2.67s/it]"
     ]
    },
    {
     "name": "stdout",
     "output_type": "stream",
     "text": [
      "Unexpected response for game ID 134352: HTTP 429, content: b'<error>\\n    <message>Rate limit exceeded.</message>\\n</error>'\n"
     ]
    },
    {
     "name": "stderr",
     "output_type": "stream",
     "text": [
      "Successfully fetched game ID: 21523, Rank: 1080:  54%|███████████████▋             | 1080/2000 [40:58<37:20,  2.44s/it]"
     ]
    },
    {
     "name": "stdout",
     "output_type": "stream",
     "text": [
      "Unexpected response for game ID 22825: HTTP 429, content: b'<error>\\n    <message>Rate limit exceeded.</message>\\n</error>'\n"
     ]
    },
    {
     "name": "stderr",
     "output_type": "stream",
     "text": [
      "Successfully fetched game ID: 60, Rank: 1083:  54%|█████████████████▎              | 1083/2000 [41:06<39:46,  2.60s/it]"
     ]
    },
    {
     "name": "stdout",
     "output_type": "stream",
     "text": [
      "Unexpected response for game ID 85897: HTTP 429, content: b'<error>\\n    <message>Rate limit exceeded.</message>\\n</error>'\n"
     ]
    },
    {
     "name": "stderr",
     "output_type": "stream",
     "text": [
      "Successfully fetched game ID: 97903, Rank: 1089:  54%|███████████████▊             | 1089/2000 [41:23<43:40,  2.88s/it]"
     ]
    },
    {
     "name": "stdout",
     "output_type": "stream",
     "text": [
      "Unexpected response for game ID 1301: HTTP 429, content: b'<error>\\n    <message>Rate limit exceeded.</message>\\n</error>'\n"
     ]
    },
    {
     "name": "stderr",
     "output_type": "stream",
     "text": [
      "Successfully fetched game ID: 55427, Rank: 1092:  55%|███████████████▊             | 1092/2000 [41:31<39:58,  2.64s/it]"
     ]
    },
    {
     "name": "stdout",
     "output_type": "stream",
     "text": [
      "Unexpected response for game ID 233571: HTTP 429, content: b'<error>\\n    <message>Rate limit exceeded.</message>\\n</error>'\n"
     ]
    },
    {
     "name": "stderr",
     "output_type": "stream",
     "text": [
      "Successfully fetched game ID: 300327, Rank: 1104:  55%|███████████████▍            | 1104/2000 [42:01<40:54,  2.74s/it]"
     ]
    },
    {
     "name": "stdout",
     "output_type": "stream",
     "text": [
      "Unexpected response for game ID 181796: HTTP 429, content: b'<error>\\n    <message>Rate limit exceeded.</message>\\n</error>'\n"
     ]
    },
    {
     "name": "stderr",
     "output_type": "stream",
     "text": [
      "Successfully fetched game ID: 206931, Rank: 1138:  57%|███████████████▉            | 1138/2000 [43:22<28:53,  2.01s/it]"
     ]
    },
    {
     "name": "stdout",
     "output_type": "stream",
     "text": [
      "Unexpected response for game ID 5737: HTTP 429, content: b'<error>\\n    <message>Rate limit exceeded.</message>\\n</error>'\n"
     ]
    },
    {
     "name": "stderr",
     "output_type": "stream",
     "text": [
      "Successfully fetched game ID: 273477, Rank: 1143:  57%|████████████████            | 1143/2000 [43:35<35:59,  2.52s/it]"
     ]
    },
    {
     "name": "stdout",
     "output_type": "stream",
     "text": [
      "Unexpected response for game ID 271869: HTTP 429, content: b'<error>\\n    <message>Rate limit exceeded.</message>\\n</error>'\n"
     ]
    },
    {
     "name": "stderr",
     "output_type": "stream",
     "text": [
      "Successfully fetched game ID: 1634, Rank: 1148:  57%|█████████████████▏            | 1148/2000 [43:49<41:40,  2.93s/it]"
     ]
    },
    {
     "name": "stdout",
     "output_type": "stream",
     "text": [
      "Unexpected response for game ID 244049: HTTP 429, content: b'<error>\\n    <message>Rate limit exceeded.</message>\\n</error>'\n"
     ]
    },
    {
     "name": "stderr",
     "output_type": "stream",
     "text": [
      "Successfully fetched game ID: 91080, Rank: 1150:  57%|████████████████▋            | 1150/2000 [43:54<36:51,  2.60s/it]"
     ]
    },
    {
     "name": "stdout",
     "output_type": "stream",
     "text": [
      "Unexpected response for game ID 156091: HTTP 429, content: b'<error>\\n    <message>Rate limit exceeded.</message>\\n</error>'\n"
     ]
    },
    {
     "name": "stderr",
     "output_type": "stream",
     "text": [
      "Successfully fetched game ID: 353545, Rank: 1156:  58%|████████████████▏           | 1156/2000 [44:10<37:12,  2.64s/it]"
     ]
    },
    {
     "name": "stdout",
     "output_type": "stream",
     "text": [
      "Unexpected response for game ID 833: HTTP 429, content: b'<error>\\n    <message>Rate limit exceeded.</message>\\n</error>'\n"
     ]
    },
    {
     "name": "stderr",
     "output_type": "stream",
     "text": [
      "Successfully fetched game ID: 833, Rank: 1157:  58%|█████████████████▉             | 1157/2000 [44:12<36:14,  2.58s/it]"
     ]
    },
    {
     "name": "stdout",
     "output_type": "stream",
     "text": [
      "Unexpected response for game ID 95103: HTTP 429, content: b'<error>\\n    <message>Rate limit exceeded.</message>\\n</error>'\n"
     ]
    },
    {
     "name": "stderr",
     "output_type": "stream",
     "text": [
      "Successfully fetched game ID: 95103, Rank: 1158:  58%|████████████████▊            | 1158/2000 [44:15<35:44,  2.55s/it]"
     ]
    },
    {
     "name": "stdout",
     "output_type": "stream",
     "text": [
      "Unexpected response for game ID 44163: HTTP 429, content: b'<error>\\n    <message>Rate limit exceeded.</message>\\n</error>'\n"
     ]
    },
    {
     "name": "stderr",
     "output_type": "stream",
     "text": [
      "Successfully fetched game ID: 293889, Rank: 1162:  58%|████████████████▎           | 1162/2000 [44:24<31:50,  2.28s/it]"
     ]
    },
    {
     "name": "stdout",
     "output_type": "stream",
     "text": [
      "Unexpected response for game ID 197070: HTTP 429, content: b'<error>\\n    <message>Rate limit exceeded.</message>\\n</error>'\n"
     ]
    },
    {
     "name": "stderr",
     "output_type": "stream",
     "text": [
      "Successfully fetched game ID: 124, Rank: 1164:  58%|██████████████████             | 1164/2000 [44:29<35:48,  2.57s/it]"
     ]
    },
    {
     "name": "stdout",
     "output_type": "stream",
     "text": [
      "Unexpected response for game ID 143884: HTTP 429, content: b'<error>\\n    <message>Rate limit exceeded.</message>\\n</error>'\n"
     ]
    },
    {
     "name": "stderr",
     "output_type": "stream",
     "text": [
      "Successfully fetched game ID: 143884, Rank: 1165:  58%|████████████████▎           | 1165/2000 [44:32<34:38,  2.49s/it]"
     ]
    },
    {
     "name": "stdout",
     "output_type": "stream",
     "text": [
      "Unexpected response for game ID 301767: HTTP 429, content: b'<error>\\n    <message>Rate limit exceeded.</message>\\n</error>'\n"
     ]
    },
    {
     "name": "stderr",
     "output_type": "stream",
     "text": [
      "Successfully fetched game ID: 301767, Rank: 1166:  58%|████████████████▎           | 1166/2000 [44:34<34:08,  2.46s/it]"
     ]
    },
    {
     "name": "stdout",
     "output_type": "stream",
     "text": [
      "Unexpected response for game ID 68264: HTTP 429, content: b'<error>\\n    <message>Rate limit exceeded.</message>\\n</error>'\n"
     ]
    },
    {
     "name": "stderr",
     "output_type": "stream",
     "text": [
      "Successfully fetched game ID: 68264, Rank: 1167:  58%|████████████████▉            | 1167/2000 [44:37<34:15,  2.47s/it]"
     ]
    },
    {
     "name": "stdout",
     "output_type": "stream",
     "text": [
      "Unexpected response for game ID 173090: HTTP 429, content: b'<error>\\n    <message>Rate limit exceeded.</message>\\n</error>'\n"
     ]
    },
    {
     "name": "stderr",
     "output_type": "stream",
     "text": [
      "Successfully fetched game ID: 154246, Rank: 1172:  59%|████████████████▍           | 1172/2000 [44:47<28:55,  2.10s/it]"
     ]
    },
    {
     "name": "stdout",
     "output_type": "stream",
     "text": [
      "Unexpected response for game ID 27364: HTTP 429, content: b'<error>\\n    <message>Rate limit exceeded.</message>\\n</error>'\n"
     ]
    },
    {
     "name": "stderr",
     "output_type": "stream",
     "text": [
      "Successfully fetched game ID: 27364, Rank: 1173:  59%|█████████████████            | 1173/2000 [44:49<30:14,  2.19s/it]"
     ]
    },
    {
     "name": "stdout",
     "output_type": "stream",
     "text": [
      "Unexpected response for game ID 340041: HTTP 429, content: b'<error>\\n    <message>Rate limit exceeded.</message>\\n</error>'\n"
     ]
    },
    {
     "name": "stderr",
     "output_type": "stream",
     "text": [
      "Successfully fetched game ID: 184151, Rank: 1177:  59%|████████████████▍           | 1177/2000 [44:59<34:11,  2.49s/it]"
     ]
    },
    {
     "name": "stdout",
     "output_type": "stream",
     "text": [
      "Unexpected response for game ID 8989: HTTP 429, content: b'<error>\\n    <message>Rate limit exceeded.</message>\\n</error>'\n"
     ]
    },
    {
     "name": "stderr",
     "output_type": "stream",
     "text": [
      "Successfully fetched game ID: 8989, Rank: 1178:  59%|█████████████████▋            | 1178/2000 [45:01<33:33,  2.45s/it]"
     ]
    },
    {
     "name": "stdout",
     "output_type": "stream",
     "text": [
      "Unexpected response for game ID 213266: HTTP 429, content: b'<error>\\n    <message>Rate limit exceeded.</message>\\n</error>'\n"
     ]
    },
    {
     "name": "stderr",
     "output_type": "stream",
     "text": [
      "Successfully fetched game ID: 244536, Rank: 1190:  60%|████████████████▋           | 1190/2000 [45:31<32:06,  2.38s/it]"
     ]
    },
    {
     "name": "stdout",
     "output_type": "stream",
     "text": [
      "Unexpected response for game ID 137297: HTTP 429, content: b'<error>\\n    <message>Rate limit exceeded.</message>\\n</error>'\n"
     ]
    },
    {
     "name": "stderr",
     "output_type": "stream",
     "text": [
      "Successfully fetched game ID: 137297, Rank: 1191:  60%|████████████████▋           | 1191/2000 [45:33<31:55,  2.37s/it]"
     ]
    },
    {
     "name": "stdout",
     "output_type": "stream",
     "text": [
      "Unexpected response for game ID 82168: HTTP 429, content: b'<error>\\n    <message>Rate limit exceeded.</message>\\n</error>'\n"
     ]
    },
    {
     "name": "stderr",
     "output_type": "stream",
     "text": [
      "Successfully fetched game ID: 105, Rank: 1193:  60%|██████████████████▍            | 1193/2000 [45:38<31:01,  2.31s/it]"
     ]
    },
    {
     "name": "stdout",
     "output_type": "stream",
     "text": [
      "Unexpected response for game ID 17396: HTTP 429, content: b'<error>\\n    <message>Rate limit exceeded.</message>\\n</error>'\n"
     ]
    },
    {
     "name": "stderr",
     "output_type": "stream",
     "text": [
      "Successfully fetched game ID: 187377, Rank: 1197:  60%|████████████████▊           | 1197/2000 [45:48<32:02,  2.39s/it]"
     ]
    },
    {
     "name": "stdout",
     "output_type": "stream",
     "text": [
      "Unexpected response for game ID 171879: HTTP 429, content: b'<error>\\n    <message>Rate limit exceeded.</message>\\n</error>'\n"
     ]
    },
    {
     "name": "stderr",
     "output_type": "stream",
     "text": [
      "Successfully fetched game ID: 22141, Rank: 1201:  60%|█████████████████▍           | 1201/2000 [45:57<30:05,  2.26s/it]"
     ]
    },
    {
     "name": "stdout",
     "output_type": "stream",
     "text": [
      "Unexpected response for game ID 1115: HTTP 429, content: b'<error>\\n    <message>Rate limit exceeded.</message>\\n</error>'\n"
     ]
    },
    {
     "name": "stderr",
     "output_type": "stream",
     "text": [
      "Successfully fetched game ID: 1115, Rank: 1202:  60%|██████████████████            | 1202/2000 [45:59<30:44,  2.31s/it]"
     ]
    },
    {
     "name": "stdout",
     "output_type": "stream",
     "text": [
      "Unexpected response for game ID 300753: HTTP 429, content: b'<error>\\n    <message>Rate limit exceeded.</message>\\n</error>'\n"
     ]
    },
    {
     "name": "stderr",
     "output_type": "stream",
     "text": [
      "Successfully fetched game ID: 300753, Rank: 1203:  60%|████████████████▊           | 1203/2000 [46:02<31:23,  2.36s/it]"
     ]
    },
    {
     "name": "stdout",
     "output_type": "stream",
     "text": [
      "Unexpected response for game ID 256606: HTTP 429, content: b'<error>\\n    <message>Rate limit exceeded.</message>\\n</error>'\n"
     ]
    },
    {
     "name": "stderr",
     "output_type": "stream",
     "text": [
      "Successfully fetched game ID: 256606, Rank: 1204:  60%|████████████████▊           | 1204/2000 [46:04<31:19,  2.36s/it]"
     ]
    },
    {
     "name": "stdout",
     "output_type": "stream",
     "text": [
      "Unexpected response for game ID 527: HTTP 429, content: b'<error>\\n    <message>Rate limit exceeded.</message>\\n</error>'\n"
     ]
    },
    {
     "name": "stderr",
     "output_type": "stream",
     "text": [
      "Successfully fetched game ID: 281194, Rank: 1207:  60%|████████████████▉           | 1207/2000 [46:12<34:20,  2.60s/it]"
     ]
    },
    {
     "name": "stdout",
     "output_type": "stream",
     "text": [
      "Unexpected response for game ID 180899: HTTP 429, content: b'<error>\\n    <message>Rate limit exceeded.</message>\\n</error>'\n"
     ]
    },
    {
     "name": "stderr",
     "output_type": "stream",
     "text": [
      "Successfully fetched game ID: 180899, Rank: 1208:  60%|████████████████▉           | 1208/2000 [46:14<33:09,  2.51s/it]"
     ]
    },
    {
     "name": "stdout",
     "output_type": "stream",
     "text": [
      "Unexpected response for game ID 230085: HTTP 429, content: b'<error>\\n    <message>Rate limit exceeded.</message>\\n</error>'\n"
     ]
    },
    {
     "name": "stderr",
     "output_type": "stream",
     "text": [
      "Successfully fetched game ID: 233961, Rank: 1210:  60%|████████████████▉           | 1210/2000 [46:20<35:22,  2.69s/it]"
     ]
    },
    {
     "name": "stdout",
     "output_type": "stream",
     "text": [
      "Unexpected response for game ID 126100: HTTP 429, content: b'<error>\\n    <message>Rate limit exceeded.</message>\\n</error>'\n"
     ]
    },
    {
     "name": "stderr",
     "output_type": "stream",
     "text": [
      "Successfully fetched game ID: 152470, Rank: 1212:  61%|████████████████▉           | 1212/2000 [46:25<36:22,  2.77s/it]"
     ]
    },
    {
     "name": "stdout",
     "output_type": "stream",
     "text": [
      "Unexpected response for game ID 30381: HTTP 429, content: b'<error>\\n    <message>Rate limit exceeded.</message>\\n</error>'\n"
     ]
    },
    {
     "name": "stderr",
     "output_type": "stream",
     "text": [
      "Successfully fetched game ID: 102548, Rank: 1215:  61%|█████████████████           | 1215/2000 [46:33<34:16,  2.62s/it]"
     ]
    },
    {
     "name": "stdout",
     "output_type": "stream",
     "text": [
      "Unexpected response for game ID 174660: HTTP 429, content: b'<error>\\n    <message>Rate limit exceeded.</message>\\n</error>'\n"
     ]
    },
    {
     "name": "stderr",
     "output_type": "stream",
     "text": [
      "Successfully fetched game ID: 123955, Rank: 1220:  61%|█████████████████           | 1220/2000 [46:45<30:56,  2.38s/it]"
     ]
    },
    {
     "name": "stdout",
     "output_type": "stream",
     "text": [
      "Unexpected response for game ID 35815: HTTP 429, content: b'<error>\\n    <message>Rate limit exceeded.</message>\\n</error>'\n"
     ]
    },
    {
     "name": "stderr",
     "output_type": "stream",
     "text": [
      "Successfully fetched game ID: 302098, Rank: 1228:  61%|█████████████████▏          | 1228/2000 [47:08<33:37,  2.61s/it]"
     ]
    },
    {
     "name": "stdout",
     "output_type": "stream",
     "text": [
      "Unexpected response for game ID 147303: HTTP 429, content: b'<error>\\n    <message>Rate limit exceeded.</message>\\n</error>'\n"
     ]
    },
    {
     "name": "stderr",
     "output_type": "stream",
     "text": [
      "Successfully fetched game ID: 50768, Rank: 1233:  62%|█████████████████▉           | 1233/2000 [47:20<31:08,  2.44s/it]"
     ]
    },
    {
     "name": "stdout",
     "output_type": "stream",
     "text": [
      "Unexpected response for game ID 25643: HTTP 429, content: b'<error>\\n    <message>Rate limit exceeded.</message>\\n</error>'\n"
     ]
    },
    {
     "name": "stderr",
     "output_type": "stream",
     "text": [
      "Successfully fetched game ID: 154386, Rank: 1236:  62%|█████████████████▎          | 1236/2000 [47:28<35:32,  2.79s/it]"
     ]
    },
    {
     "name": "stdout",
     "output_type": "stream",
     "text": [
      "Unexpected response for game ID 242722: HTTP 429, content: b'<error>\\n    <message>Rate limit exceeded.</message>\\n</error>'\n"
     ]
    },
    {
     "name": "stderr",
     "output_type": "stream",
     "text": [
      "Successfully fetched game ID: 242722, Rank: 1237:  62%|█████████████████▎          | 1237/2000 [47:31<33:47,  2.66s/it]"
     ]
    },
    {
     "name": "stdout",
     "output_type": "stream",
     "text": [
      "Unexpected response for game ID 19100: HTTP 429, content: b'<error>\\n    <message>Rate limit exceeded.</message>\\n</error>'\n"
     ]
    },
    {
     "name": "stderr",
     "output_type": "stream",
     "text": [
      "Successfully fetched game ID: 19100, Rank: 1238:  62%|█████████████████▉           | 1238/2000 [47:33<32:35,  2.57s/it]"
     ]
    },
    {
     "name": "stdout",
     "output_type": "stream",
     "text": [
      "Unexpected response for game ID 299317: HTTP 429, content: b'<error>\\n    <message>Rate limit exceeded.</message>\\n</error>'\n"
     ]
    },
    {
     "name": "stderr",
     "output_type": "stream",
     "text": [
      "Successfully fetched game ID: 299317, Rank: 1239:  62%|█████████████████▎          | 1239/2000 [47:35<32:00,  2.52s/it]"
     ]
    },
    {
     "name": "stdout",
     "output_type": "stream",
     "text": [
      "Unexpected response for game ID 226518: HTTP 429, content: b'<error>\\n    <message>Rate limit exceeded.</message>\\n</error>'\n"
     ]
    },
    {
     "name": "stderr",
     "output_type": "stream",
     "text": [
      "Successfully fetched game ID: 218421, Rank: 1241:  62%|█████████████████▎          | 1241/2000 [47:40<30:27,  2.41s/it]"
     ]
    },
    {
     "name": "stdout",
     "output_type": "stream",
     "text": [
      "Unexpected response for game ID 104347: HTTP 429, content: b'<error>\\n    <message>Rate limit exceeded.</message>\\n</error>'\n"
     ]
    },
    {
     "name": "stderr",
     "output_type": "stream",
     "text": [
      "Successfully fetched game ID: 104347, Rank: 1242:  62%|█████████████████▍          | 1242/2000 [47:42<30:04,  2.38s/it]"
     ]
    },
    {
     "name": "stdout",
     "output_type": "stream",
     "text": [
      "Unexpected response for game ID 164338: HTTP 429, content: b'<error>\\n    <message>Rate limit exceeded.</message>\\n</error>'\n"
     ]
    },
    {
     "name": "stderr",
     "output_type": "stream",
     "text": [
      "Successfully fetched game ID: 164338, Rank: 1243:  62%|█████████████████▍          | 1243/2000 [47:45<30:00,  2.38s/it]"
     ]
    },
    {
     "name": "stdout",
     "output_type": "stream",
     "text": [
      "Unexpected response for game ID 177802: HTTP 429, content: b'<error>\\n    <message>Rate limit exceeded.</message>\\n</error>'\n"
     ]
    },
    {
     "name": "stderr",
     "output_type": "stream",
     "text": [
      "Successfully fetched game ID: 177802, Rank: 1244:  62%|█████████████████▍          | 1244/2000 [47:47<30:23,  2.41s/it]"
     ]
    },
    {
     "name": "stdout",
     "output_type": "stream",
     "text": [
      "Unexpected response for game ID 188547: HTTP 429, content: b'<error>\\n    <message>Rate limit exceeded.</message>\\n</error>'\n"
     ]
    },
    {
     "name": "stderr",
     "output_type": "stream",
     "text": [
      "Successfully fetched game ID: 855, Rank: 1251:  63%|███████████████████▍           | 1251/2000 [48:05<30:44,  2.46s/it]"
     ]
    },
    {
     "name": "stdout",
     "output_type": "stream",
     "text": [
      "Unexpected response for game ID 165986: HTTP 429, content: b'<error>\\n    <message>Rate limit exceeded.</message>\\n</error>'\n"
     ]
    },
    {
     "name": "stderr",
     "output_type": "stream",
     "text": [
      "Successfully fetched game ID: 165986, Rank: 1252:  63%|█████████████████▌          | 1252/2000 [48:07<30:16,  2.43s/it]"
     ]
    },
    {
     "name": "stdout",
     "output_type": "stream",
     "text": [
      "Unexpected response for game ID 269595: HTTP 429, content: b'<error>\\n    <message>Rate limit exceeded.</message>\\n</error>'\n"
     ]
    },
    {
     "name": "stderr",
     "output_type": "stream",
     "text": [
      "Successfully fetched game ID: 269595, Rank: 1253:  63%|█████████████████▌          | 1253/2000 [48:09<29:49,  2.40s/it]"
     ]
    },
    {
     "name": "stdout",
     "output_type": "stream",
     "text": [
      "Unexpected response for game ID 38159: HTTP 429, content: b'<error>\\n    <message>Rate limit exceeded.</message>\\n</error>'\n"
     ]
    },
    {
     "name": "stderr",
     "output_type": "stream",
     "text": [
      "Successfully fetched game ID: 202583, Rank: 1257:  63%|█████████████████▌          | 1257/2000 [48:21<33:42,  2.72s/it]"
     ]
    },
    {
     "name": "stdout",
     "output_type": "stream",
     "text": [
      "Unexpected response for game ID 1540: HTTP 429, content: b'<error>\\n    <message>Rate limit exceeded.</message>\\n</error>'\n"
     ]
    },
    {
     "name": "stderr",
     "output_type": "stream",
     "text": [
      "Successfully fetched game ID: 18258, Rank: 1259:  63%|██████████████████▎          | 1259/2000 [48:26<34:31,  2.80s/it]"
     ]
    },
    {
     "name": "stdout",
     "output_type": "stream",
     "text": [
      "Unexpected response for game ID 149155: HTTP 429, content: b'<error>\\n    <message>Rate limit exceeded.</message>\\n</error>'\n"
     ]
    },
    {
     "name": "stderr",
     "output_type": "stream",
     "text": [
      "Successfully fetched game ID: 223855, Rank: 1262:  63%|█████████████████▋          | 1262/2000 [48:33<30:54,  2.51s/it]"
     ]
    },
    {
     "name": "stdout",
     "output_type": "stream",
     "text": [
      "Unexpected response for game ID 10: HTTP 429, content: b'<error>\\n    <message>Rate limit exceeded.</message>\\n</error>'\n"
     ]
    },
    {
     "name": "stderr",
     "output_type": "stream",
     "text": [
      "Successfully fetched game ID: 245422, Rank: 1268:  63%|█████████████████▊          | 1268/2000 [48:50<34:09,  2.80s/it]"
     ]
    },
    {
     "name": "stdout",
     "output_type": "stream",
     "text": [
      "Unexpected response for game ID 131014: HTTP 429, content: b'<error>\\n    <message>Rate limit exceeded.</message>\\n</error>'\n"
     ]
    },
    {
     "name": "stderr",
     "output_type": "stream",
     "text": [
      "Successfully fetched game ID: 131014, Rank: 1269:  63%|█████████████████▊          | 1269/2000 [48:52<32:18,  2.65s/it]"
     ]
    },
    {
     "name": "stdout",
     "output_type": "stream",
     "text": [
      "Unexpected response for game ID 327711: HTTP 429, content: b'<error>\\n    <message>Rate limit exceeded.</message>\\n</error>'\n"
     ]
    },
    {
     "name": "stderr",
     "output_type": "stream",
     "text": [
      "Successfully fetched game ID: 191876, Rank: 1273:  64%|█████████████████▊          | 1273/2000 [49:03<34:08,  2.82s/it]"
     ]
    },
    {
     "name": "stdout",
     "output_type": "stream",
     "text": [
      "Unexpected response for game ID 134253: HTTP 429, content: b'<error>\\n    <message>Rate limit exceeded.</message>\\n</error>'\n"
     ]
    },
    {
     "name": "stderr",
     "output_type": "stream",
     "text": [
      "Successfully fetched game ID: 230, Rank: 1282:  64%|███████████████████▊           | 1282/2000 [49:28<35:47,  2.99s/it]"
     ]
    },
    {
     "name": "stdout",
     "output_type": "stream",
     "text": [
      "Unexpected response for game ID 132372: HTTP 429, content: b'<error>\\n    <message>Rate limit exceeded.</message>\\n</error>'\n"
     ]
    },
    {
     "name": "stderr",
     "output_type": "stream",
     "text": [
      "Successfully fetched game ID: 243759, Rank: 1285:  64%|█████████████████▉          | 1285/2000 [49:34<29:51,  2.51s/it]"
     ]
    },
    {
     "name": "stdout",
     "output_type": "stream",
     "text": [
      "Unexpected response for game ID 16986: HTTP 429, content: b'<error>\\n    <message>Rate limit exceeded.</message>\\n</error>'\n"
     ]
    },
    {
     "name": "stderr",
     "output_type": "stream",
     "text": [
      "Successfully fetched game ID: 183006, Rank: 1287:  64%|██████████████████          | 1287/2000 [49:40<31:38,  2.66s/it]"
     ]
    },
    {
     "name": "stdout",
     "output_type": "stream",
     "text": [
      "Unexpected response for game ID 257614: HTTP 429, content: b'<error>\\n    <message>Rate limit exceeded.</message>\\n</error>'\n"
     ]
    },
    {
     "name": "stderr",
     "output_type": "stream",
     "text": [
      "Successfully fetched game ID: 2507, Rank: 1291:  65%|███████████████████▎          | 1291/2000 [49:49<27:19,  2.31s/it]"
     ]
    },
    {
     "name": "stdout",
     "output_type": "stream",
     "text": [
      "Unexpected response for game ID 23094: HTTP 429, content: b'<error>\\n    <message>Rate limit exceeded.</message>\\n</error>'\n"
     ]
    },
    {
     "name": "stderr",
     "output_type": "stream",
     "text": [
      "Successfully fetched game ID: 205716, Rank: 1313:  66%|██████████████████▍         | 1313/2000 [50:44<26:30,  2.31s/it]"
     ]
    },
    {
     "name": "stdout",
     "output_type": "stream",
     "text": [
      "Unexpected response for game ID 7805: HTTP 429, content: b'<error>\\n    <message>Rate limit exceeded.</message>\\n</error>'\n"
     ]
    },
    {
     "name": "stderr",
     "output_type": "stream",
     "text": [
      "Successfully fetched game ID: 7805, Rank: 1314:  66%|███████████████████▋          | 1314/2000 [50:46<26:35,  2.33s/it]"
     ]
    },
    {
     "name": "stdout",
     "output_type": "stream",
     "text": [
      "Unexpected response for game ID 57390: HTTP 429, content: b'<error>\\n    <message>Rate limit exceeded.</message>\\n</error>'\n"
     ]
    },
    {
     "name": "stderr",
     "output_type": "stream",
     "text": [
      "Successfully fetched game ID: 57390, Rank: 1315:  66%|███████████████████          | 1315/2000 [50:48<26:52,  2.35s/it]"
     ]
    },
    {
     "name": "stdout",
     "output_type": "stream",
     "text": [
      "Unexpected response for game ID 202077: HTTP 429, content: b'<error>\\n    <message>Rate limit exceeded.</message>\\n</error>'\n"
     ]
    },
    {
     "name": "stderr",
     "output_type": "stream",
     "text": [
      "Successfully fetched game ID: 303553, Rank: 1317:  66%|██████████████████▍         | 1317/2000 [50:53<26:33,  2.33s/it]"
     ]
    },
    {
     "name": "stdout",
     "output_type": "stream",
     "text": [
      "Unexpected response for game ID 370591: HTTP 429, content: b'<error>\\n    <message>Rate limit exceeded.</message>\\n</error>'\n"
     ]
    },
    {
     "name": "stderr",
     "output_type": "stream",
     "text": [
      "Successfully fetched game ID: 370591, Rank: 1318:  66%|██████████████████▍         | 1318/2000 [50:55<26:34,  2.34s/it]"
     ]
    },
    {
     "name": "stdout",
     "output_type": "stream",
     "text": [
      "Unexpected response for game ID 272453: HTTP 429, content: b'<error>\\n    <message>Rate limit exceeded.</message>\\n</error>'\n"
     ]
    },
    {
     "name": "stderr",
     "output_type": "stream",
     "text": [
      "Successfully fetched game ID: 272453, Rank: 1319:  66%|██████████████████▍         | 1319/2000 [50:58<26:35,  2.34s/it]"
     ]
    },
    {
     "name": "stdout",
     "output_type": "stream",
     "text": [
      "Unexpected response for game ID 296345: HTTP 429, content: b'<error>\\n    <message>Rate limit exceeded.</message>\\n</error>'\n"
     ]
    },
    {
     "name": "stderr",
     "output_type": "stream",
     "text": [
      "Successfully fetched game ID: 298371, Rank: 1323:  66%|██████████████████▌         | 1323/2000 [51:08<28:42,  2.54s/it]"
     ]
    },
    {
     "name": "stdout",
     "output_type": "stream",
     "text": [
      "Unexpected response for game ID 255674: HTTP 429, content: b'<error>\\n    <message>Rate limit exceeded.</message>\\n</error>'\n"
     ]
    },
    {
     "name": "stderr",
     "output_type": "stream",
     "text": [
      "Successfully fetched game ID: 12495, Rank: 1325:  66%|███████████████████▏         | 1325/2000 [51:12<27:00,  2.40s/it]"
     ]
    },
    {
     "name": "stdout",
     "output_type": "stream",
     "text": [
      "Unexpected response for game ID 163474: HTTP 429, content: b'<error>\\n    <message>Rate limit exceeded.</message>\\n</error>'\n"
     ]
    },
    {
     "name": "stderr",
     "output_type": "stream",
     "text": [
      "Successfully fetched game ID: 163474, Rank: 1326:  66%|██████████████████▌         | 1326/2000 [51:14<26:45,  2.38s/it]"
     ]
    },
    {
     "name": "stdout",
     "output_type": "stream",
     "text": [
      "Unexpected response for game ID 232988: HTTP 429, content: b'<error>\\n    <message>Rate limit exceeded.</message>\\n</error>'\n"
     ]
    },
    {
     "name": "stderr",
     "output_type": "stream",
     "text": [
      "Successfully fetched game ID: 117985, Rank: 1333:  67%|██████████████████▋         | 1333/2000 [51:32<29:03,  2.61s/it]"
     ]
    },
    {
     "name": "stdout",
     "output_type": "stream",
     "text": [
      "Unexpected response for game ID 38823: HTTP 429, content: b'<error>\\n    <message>Rate limit exceeded.</message>\\n</error>'\n"
     ]
    },
    {
     "name": "stderr",
     "output_type": "stream",
     "text": [
      "Successfully fetched game ID: 215841, Rank: 1341:  67%|██████████████████▊         | 1341/2000 [51:53<24:58,  2.27s/it]"
     ]
    },
    {
     "name": "stdout",
     "output_type": "stream",
     "text": [
      "Unexpected response for game ID 272380: HTTP 429, content: b'<error>\\n    <message>Rate limit exceeded.</message>\\n</error>'\n"
     ]
    },
    {
     "name": "stderr",
     "output_type": "stream",
     "text": [
      "Successfully fetched game ID: 362452, Rank: 1344:  67%|██████████████████▊         | 1344/2000 [52:00<24:38,  2.25s/it]"
     ]
    },
    {
     "name": "stdout",
     "output_type": "stream",
     "text": [
      "Unexpected response for game ID 106: HTTP 429, content: b'<error>\\n    <message>Rate limit exceeded.</message>\\n</error>'\n"
     ]
    },
    {
     "name": "stderr",
     "output_type": "stream",
     "text": [
      "Successfully fetched game ID: 15126, Rank: 1346:  67%|███████████████████▌         | 1346/2000 [52:06<28:09,  2.58s/it]"
     ]
    },
    {
     "name": "stdout",
     "output_type": "stream",
     "text": [
      "Unexpected response for game ID 312267: HTTP 429, content: b'<error>\\n    <message>Rate limit exceeded.</message>\\n</error>'\n"
     ]
    },
    {
     "name": "stderr",
     "output_type": "stream",
     "text": [
      "Successfully fetched game ID: 127024, Rank: 1364:  68%|███████████████████         | 1364/2000 [52:46<22:39,  2.14s/it]"
     ]
    },
    {
     "name": "stdout",
     "output_type": "stream",
     "text": [
      "Unexpected response for game ID 257769: HTTP 429, content: b'<error>\\n    <message>Rate limit exceeded.</message>\\n</error>'\n"
     ]
    },
    {
     "name": "stderr",
     "output_type": "stream",
     "text": [
      "Successfully fetched game ID: 295293, Rank: 1368:  68%|███████████████████▏        | 1368/2000 [52:55<23:18,  2.21s/it]"
     ]
    },
    {
     "name": "stdout",
     "output_type": "stream",
     "text": [
      "Unexpected response for game ID 184424: HTTP 429, content: b'<error>\\n    <message>Rate limit exceeded.</message>\\n</error>'\n"
     ]
    },
    {
     "name": "stderr",
     "output_type": "stream",
     "text": [
      "Successfully fetched game ID: 184424, Rank: 1369:  68%|███████████████████▏        | 1369/2000 [52:58<24:05,  2.29s/it]"
     ]
    },
    {
     "name": "stdout",
     "output_type": "stream",
     "text": [
      "Unexpected response for game ID 281946: HTTP 429, content: b'<error>\\n    <message>Rate limit exceeded.</message>\\n</error>'\n"
     ]
    },
    {
     "name": "stderr",
     "output_type": "stream",
     "text": [
      "Successfully fetched game ID: 166226, Rank: 1371:  69%|███████████████████▏        | 1371/2000 [53:03<26:59,  2.57s/it]"
     ]
    },
    {
     "name": "stdout",
     "output_type": "stream",
     "text": [
      "Unexpected response for game ID 159109: HTTP 429, content: b'<error>\\n    <message>Rate limit exceeded.</message>\\n</error>'\n"
     ]
    },
    {
     "name": "stderr",
     "output_type": "stream",
     "text": [
      "Successfully fetched game ID: 297985, Rank: 1373:  69%|███████████████████▏        | 1373/2000 [53:08<25:23,  2.43s/it]"
     ]
    },
    {
     "name": "stdout",
     "output_type": "stream",
     "text": [
      "Unexpected response for game ID 15: HTTP 429, content: b'<error>\\n    <message>Rate limit exceeded.</message>\\n</error>'\n"
     ]
    },
    {
     "name": "stderr",
     "output_type": "stream",
     "text": [
      "Successfully fetched game ID: 123570, Rank: 1379:  69%|███████████████████▎        | 1379/2000 [53:26<31:05,  3.00s/it]"
     ]
    },
    {
     "name": "stdout",
     "output_type": "stream",
     "text": [
      "Unexpected response for game ID 254591: HTTP 429, content: b'<error>\\n    <message>Rate limit exceeded.</message>\\n</error>'\n"
     ]
    },
    {
     "name": "stderr",
     "output_type": "stream",
     "text": [
      "Successfully fetched game ID: 98527, Rank: 1381:  69%|████████████████████         | 1381/2000 [53:32<30:34,  2.96s/it]"
     ]
    },
    {
     "name": "stdout",
     "output_type": "stream",
     "text": [
      "Unexpected response for game ID 216091: HTTP 429, content: b'<error>\\n    <message>Rate limit exceeded.</message>\\n</error>'\n"
     ]
    },
    {
     "name": "stderr",
     "output_type": "stream",
     "text": [
      "Successfully fetched game ID: 216091, Rank: 1382:  69%|███████████████████▎        | 1382/2000 [53:34<28:49,  2.80s/it]"
     ]
    },
    {
     "name": "stdout",
     "output_type": "stream",
     "text": [
      "Unexpected response for game ID 163413: HTTP 429, content: b'<error>\\n    <message>Rate limit exceeded.</message>\\n</error>'\n"
     ]
    },
    {
     "name": "stderr",
     "output_type": "stream",
     "text": [
      "Successfully fetched game ID: 283294, Rank: 1385:  69%|███████████████████▍        | 1385/2000 [53:42<27:19,  2.67s/it]"
     ]
    },
    {
     "name": "stdout",
     "output_type": "stream",
     "text": [
      "Unexpected response for game ID 272533: HTTP 429, content: b'<error>\\n    <message>Rate limit exceeded.</message>\\n</error>'\n"
     ]
    },
    {
     "name": "stderr",
     "output_type": "stream",
     "text": [
      "Successfully fetched game ID: 244918, Rank: 1390:  70%|███████████████████▍        | 1390/2000 [53:54<25:06,  2.47s/it]"
     ]
    },
    {
     "name": "stdout",
     "output_type": "stream",
     "text": [
      "Unexpected response for game ID 72991: HTTP 429, content: b'<error>\\n    <message>Rate limit exceeded.</message>\\n</error>'\n"
     ]
    },
    {
     "name": "stderr",
     "output_type": "stream",
     "text": [
      "Successfully fetched game ID: 72991, Rank: 1391:  70%|████████████████████▏        | 1391/2000 [53:57<24:39,  2.43s/it]"
     ]
    },
    {
     "name": "stdout",
     "output_type": "stream",
     "text": [
      "Unexpected response for game ID 151771: HTTP 429, content: b'<error>\\n    <message>Rate limit exceeded.</message>\\n</error>'\n"
     ]
    },
    {
     "name": "stderr",
     "output_type": "stream",
     "text": [
      "Successfully fetched game ID: 256997, Rank: 1394:  70%|███████████████████▌        | 1394/2000 [54:04<25:29,  2.52s/it]"
     ]
    },
    {
     "name": "stdout",
     "output_type": "stream",
     "text": [
      "Unexpected response for game ID 316858: HTTP 429, content: b'<error>\\n    <message>Rate limit exceeded.</message>\\n</error>'\n"
     ]
    },
    {
     "name": "stderr",
     "output_type": "stream",
     "text": [
      "Successfully fetched game ID: 167513, Rank: 1397:  70%|███████████████████▌        | 1397/2000 [54:13<28:27,  2.83s/it]"
     ]
    },
    {
     "name": "stdout",
     "output_type": "stream",
     "text": [
      "Unexpected response for game ID 113401: HTTP 429, content: b'<error>\\n    <message>Rate limit exceeded.</message>\\n</error>'\n"
     ]
    },
    {
     "name": "stderr",
     "output_type": "stream",
     "text": [
      "Successfully fetched game ID: 113401, Rank: 1398:  70%|███████████████████▌        | 1398/2000 [54:15<26:58,  2.69s/it]"
     ]
    },
    {
     "name": "stdout",
     "output_type": "stream",
     "text": [
      "Unexpected response for game ID 246663: HTTP 429, content: b'<error>\\n    <message>Rate limit exceeded.</message>\\n</error>'\n"
     ]
    },
    {
     "name": "stderr",
     "output_type": "stream",
     "text": [
      "Successfully fetched game ID: 225244, Rank: 1400:  70%|███████████████████▌        | 1400/2000 [54:20<24:40,  2.47s/it]"
     ]
    },
    {
     "name": "stdout",
     "output_type": "stream",
     "text": [
      "Unexpected response for game ID 215842: HTTP 429, content: b'<error>\\n    <message>Rate limit exceeded.</message>\\n</error>'\n"
     ]
    },
    {
     "name": "stderr",
     "output_type": "stream",
     "text": [
      "Successfully fetched game ID: 215842, Rank: 1401:  70%|███████████████████▌        | 1401/2000 [54:22<24:25,  2.45s/it]"
     ]
    },
    {
     "name": "stdout",
     "output_type": "stream",
     "text": [
      "Unexpected response for game ID 22038: HTTP 429, content: b'<error>\\n    <message>Rate limit exceeded.</message>\\n</error>'\n"
     ]
    },
    {
     "name": "stderr",
     "output_type": "stream",
     "text": [
      "Successfully fetched game ID: 15818, Rank: 1403:  70%|████████████████████▎        | 1403/2000 [54:28<26:48,  2.69s/it]"
     ]
    },
    {
     "name": "stdout",
     "output_type": "stream",
     "text": [
      "Unexpected response for game ID 333255: HTTP 429, content: b'<error>\\n    <message>Rate limit exceeded.</message>\\n</error>'\n"
     ]
    },
    {
     "name": "stderr",
     "output_type": "stream",
     "text": [
      "Successfully fetched game ID: 298102, Rank: 1405:  70%|███████████████████▋        | 1405/2000 [54:33<24:36,  2.48s/it]"
     ]
    },
    {
     "name": "stdout",
     "output_type": "stream",
     "text": [
      "Unexpected response for game ID 342810: HTTP 429, content: b'<error>\\n    <message>Rate limit exceeded.</message>\\n</error>'\n"
     ]
    },
    {
     "name": "stderr",
     "output_type": "stream",
     "text": [
      "Successfully fetched game ID: 287938, Rank: 1427:  71%|███████████████████▉        | 1427/2000 [55:27<19:06,  2.00s/it]"
     ]
    },
    {
     "name": "stdout",
     "output_type": "stream",
     "text": [
      "Unexpected response for game ID 272682: HTTP 429, content: b'<error>\\n    <message>Rate limit exceeded.</message>\\n</error>'\n"
     ]
    },
    {
     "name": "stderr",
     "output_type": "stream",
     "text": [
      "Successfully fetched game ID: 2122, Rank: 1430:  72%|█████████████████████▍        | 1430/2000 [55:35<24:08,  2.54s/it]"
     ]
    },
    {
     "name": "stdout",
     "output_type": "stream",
     "text": [
      "Unexpected response for game ID 223931: HTTP 429, content: b'<error>\\n    <message>Rate limit exceeded.</message>\\n</error>'\n"
     ]
    },
    {
     "name": "stderr",
     "output_type": "stream",
     "text": [
      "Successfully fetched game ID: 283317, Rank: 1456:  73%|████████████████████▍       | 1456/2000 [56:39<24:25,  2.69s/it]"
     ]
    },
    {
     "name": "stdout",
     "output_type": "stream",
     "text": [
      "Unexpected response for game ID 175223: HTTP 429, content: b'<error>\\n    <message>Rate limit exceeded.</message>\\n</error>'\n"
     ]
    },
    {
     "name": "stderr",
     "output_type": "stream",
     "text": [
      "Successfully fetched game ID: 129051, Rank: 1460:  73%|████████████████████▍       | 1460/2000 [56:50<25:34,  2.84s/it]"
     ]
    },
    {
     "name": "stdout",
     "output_type": "stream",
     "text": [
      "Unexpected response for game ID 146910: HTTP 429, content: b'<error>\\n    <message>Rate limit exceeded.</message>\\n</error>'\n"
     ]
    },
    {
     "name": "stderr",
     "output_type": "stream",
     "text": [
      "Successfully fetched game ID: 165950, Rank: 1467:  73%|████████████████████▌       | 1467/2000 [57:06<20:46,  2.34s/it]"
     ]
    },
    {
     "name": "stdout",
     "output_type": "stream",
     "text": [
      "Unexpected response for game ID 6411: HTTP 429, content: b'<error>\\n    <message>Rate limit exceeded.</message>\\n</error>'\n"
     ]
    },
    {
     "name": "stderr",
     "output_type": "stream",
     "text": [
      "Successfully fetched game ID: 6411, Rank: 1468:  73%|██████████████████████        | 1468/2000 [57:08<20:52,  2.35s/it]"
     ]
    },
    {
     "name": "stdout",
     "output_type": "stream",
     "text": [
      "Unexpected response for game ID 181810: HTTP 429, content: b'<error>\\n    <message>Rate limit exceeded.</message>\\n</error>'\n"
     ]
    },
    {
     "name": "stderr",
     "output_type": "stream",
     "text": [
      "Successfully fetched game ID: 71836, Rank: 1472:  74%|█████████████████████▎       | 1472/2000 [57:19<24:15,  2.76s/it]"
     ]
    },
    {
     "name": "stdout",
     "output_type": "stream",
     "text": [
      "Unexpected response for game ID 438: HTTP 429, content: b'<error>\\n    <message>Rate limit exceeded.</message>\\n</error>'\n"
     ]
    },
    {
     "name": "stderr",
     "output_type": "stream",
     "text": [
      "Successfully fetched game ID: 204, Rank: 1479:  74%|██████████████████████▉        | 1479/2000 [57:35<21:00,  2.42s/it]"
     ]
    },
    {
     "name": "stdout",
     "output_type": "stream",
     "text": [
      "Unexpected response for game ID 120523: HTTP 429, content: b'<error>\\n    <message>Rate limit exceeded.</message>\\n</error>'\n"
     ]
    },
    {
     "name": "stderr",
     "output_type": "stream",
     "text": [
      "Successfully fetched game ID: 335609, Rank: 1487:  74%|████████████████████▊       | 1487/2000 [57:55<22:47,  2.67s/it]"
     ]
    },
    {
     "name": "stdout",
     "output_type": "stream",
     "text": [
      "Unexpected response for game ID 257527: HTTP 429, content: b'<error>\\n    <message>Rate limit exceeded.</message>\\n</error>'\n"
     ]
    },
    {
     "name": "stderr",
     "output_type": "stream",
     "text": [
      "Successfully fetched game ID: 299252, Rank: 1492:  75%|████████████████████▉       | 1492/2000 [58:07<20:40,  2.44s/it]"
     ]
    },
    {
     "name": "stdout",
     "output_type": "stream",
     "text": [
      "Unexpected response for game ID 21550: HTTP 429, content: b'<error>\\n    <message>Rate limit exceeded.</message>\\n</error>'\n"
     ]
    },
    {
     "name": "stderr",
     "output_type": "stream",
     "text": [
      "Successfully fetched game ID: 21550, Rank: 1493:  75%|█████████████████████▋       | 1493/2000 [58:10<20:24,  2.42s/it]"
     ]
    },
    {
     "name": "stdout",
     "output_type": "stream",
     "text": [
      "Unexpected response for game ID 347137: HTTP 429, content: b'<error>\\n    <message>Rate limit exceeded.</message>\\n</error>'\n"
     ]
    },
    {
     "name": "stderr",
     "output_type": "stream",
     "text": [
      "Successfully fetched game ID: 347137, Rank: 1494:  75%|████████████████████▉       | 1494/2000 [58:12<20:19,  2.41s/it]"
     ]
    },
    {
     "name": "stdout",
     "output_type": "stream",
     "text": [
      "Unexpected response for game ID 24417: HTTP 429, content: b'<error>\\n    <message>Rate limit exceeded.</message>\\n</error>'\n"
     ]
    },
    {
     "name": "stderr",
     "output_type": "stream",
     "text": [
      "Successfully fetched game ID: 24417, Rank: 1495:  75%|█████████████████████▋       | 1495/2000 [58:14<20:02,  2.38s/it]"
     ]
    },
    {
     "name": "stdout",
     "output_type": "stream",
     "text": [
      "Unexpected response for game ID 330038: HTTP 429, content: b'<error>\\n    <message>Rate limit exceeded.</message>\\n</error>'\n"
     ]
    },
    {
     "name": "stderr",
     "output_type": "stream",
     "text": [
      "Successfully fetched game ID: 148943, Rank: 1497:  75%|████████████████████▉       | 1497/2000 [58:19<19:14,  2.29s/it]"
     ]
    },
    {
     "name": "stdout",
     "output_type": "stream",
     "text": [
      "Unexpected response for game ID 195544: HTTP 429, content: b'<error>\\n    <message>Rate limit exceeded.</message>\\n</error>'\n"
     ]
    },
    {
     "name": "stderr",
     "output_type": "stream",
     "text": [
      "Successfully fetched game ID: 210232, Rank: 1502:  75%|█████████████████████       | 1502/2000 [58:32<20:38,  2.49s/it]"
     ]
    },
    {
     "name": "stdout",
     "output_type": "stream",
     "text": [
      "Unexpected response for game ID 1915: HTTP 429, content: b'<error>\\n    <message>Rate limit exceeded.</message>\\n</error>'\n"
     ]
    },
    {
     "name": "stderr",
     "output_type": "stream",
     "text": [
      "Successfully fetched game ID: 232595, Rank: 1504:  75%|█████████████████████       | 1504/2000 [58:36<19:36,  2.37s/it]"
     ]
    },
    {
     "name": "stdout",
     "output_type": "stream",
     "text": [
      "Unexpected response for game ID 339906: HTTP 429, content: b'<error>\\n    <message>Rate limit exceeded.</message>\\n</error>'\n"
     ]
    },
    {
     "name": "stderr",
     "output_type": "stream",
     "text": [
      "Successfully fetched game ID: 143175, Rank: 1506:  75%|█████████████████████       | 1506/2000 [58:41<18:55,  2.30s/it]"
     ]
    },
    {
     "name": "stdout",
     "output_type": "stream",
     "text": [
      "Unexpected response for game ID 24827: HTTP 429, content: b'<error>\\n    <message>Rate limit exceeded.</message>\\n</error>'\n"
     ]
    },
    {
     "name": "stderr",
     "output_type": "stream",
     "text": [
      "Successfully fetched game ID: 24827, Rank: 1507:  75%|█████████████████████▊       | 1507/2000 [58:43<19:01,  2.32s/it]"
     ]
    },
    {
     "name": "stdout",
     "output_type": "stream",
     "text": [
      "Unexpected response for game ID 94104: HTTP 429, content: b'<error>\\n    <message>Rate limit exceeded.</message>\\n</error>'\n"
     ]
    },
    {
     "name": "stderr",
     "output_type": "stream",
     "text": [
      "Successfully fetched game ID: 246200, Rank: 1520:  76%|█████████████████████▎      | 1520/2000 [59:15<18:37,  2.33s/it]"
     ]
    },
    {
     "name": "stdout",
     "output_type": "stream",
     "text": [
      "Unexpected response for game ID 242: HTTP 429, content: b'<error>\\n    <message>Rate limit exceeded.</message>\\n</error>'\n"
     ]
    },
    {
     "name": "stderr",
     "output_type": "stream",
     "text": [
      "Successfully fetched game ID: 242, Rank: 1521:  76%|███████████████████████▌       | 1521/2000 [59:17<18:36,  2.33s/it]"
     ]
    },
    {
     "name": "stdout",
     "output_type": "stream",
     "text": [
      "Unexpected response for game ID 172220: HTTP 429, content: b'<error>\\n    <message>Rate limit exceeded.</message>\\n</error>'\n"
     ]
    },
    {
     "name": "stderr",
     "output_type": "stream",
     "text": [
      "Successfully fetched game ID: 116954, Rank: 1527:  76%|█████████████████████▍      | 1527/2000 [59:32<19:52,  2.52s/it]"
     ]
    },
    {
     "name": "stdout",
     "output_type": "stream",
     "text": [
      "Unexpected response for game ID 3228: HTTP 429, content: b'<error>\\n    <message>Rate limit exceeded.</message>\\n</error>'\n"
     ]
    },
    {
     "name": "stderr",
     "output_type": "stream",
     "text": [
      "Successfully fetched game ID: 181524, Rank: 1534:  77%|█████████████████████▍      | 1534/2000 [59:51<22:35,  2.91s/it]"
     ]
    },
    {
     "name": "stdout",
     "output_type": "stream",
     "text": [
      "Unexpected response for game ID 217398: HTTP 429, content: b'<error>\\n    <message>Rate limit exceeded.</message>\\n</error>'\n"
     ]
    },
    {
     "name": "stderr",
     "output_type": "stream",
     "text": [
      "Successfully fetched game ID: 168, Rank: 1537:  77%|██████████████████████▎      | 1537/2000 [1:00:00<23:01,  2.98s/it]"
     ]
    },
    {
     "name": "stdout",
     "output_type": "stream",
     "text": [
      "Unexpected response for game ID 264198: HTTP 429, content: b'<error>\\n    <message>Rate limit exceeded.</message>\\n</error>'\n"
     ]
    },
    {
     "name": "stderr",
     "output_type": "stream",
     "text": [
      "Successfully fetched game ID: 241477, Rank: 1540:  77%|████████████████████      | 1540/2000 [1:00:08<21:24,  2.79s/it]"
     ]
    },
    {
     "name": "stdout",
     "output_type": "stream",
     "text": [
      "Unexpected response for game ID 312251: HTTP 429, content: b'<error>\\n    <message>Rate limit exceeded.</message>\\n</error>'\n"
     ]
    },
    {
     "name": "stderr",
     "output_type": "stream",
     "text": [
      "Successfully fetched game ID: 267127, Rank: 1542:  77%|████████████████████      | 1542/2000 [1:00:12<19:06,  2.50s/it]"
     ]
    },
    {
     "name": "stdout",
     "output_type": "stream",
     "text": [
      "Unexpected response for game ID 29223: HTTP 429, content: b'<error>\\n    <message>Rate limit exceeded.</message>\\n</error>'\n"
     ]
    },
    {
     "name": "stderr",
     "output_type": "stream",
     "text": [
      "Successfully fetched game ID: 360265, Rank: 1544:  77%|████████████████████      | 1544/2000 [1:00:18<20:19,  2.68s/it]"
     ]
    },
    {
     "name": "stdout",
     "output_type": "stream",
     "text": [
      "Unexpected response for game ID 13780: HTTP 429, content: b'<error>\\n    <message>Rate limit exceeded.</message>\\n</error>'\n"
     ]
    },
    {
     "name": "stderr",
     "output_type": "stream",
     "text": [
      "Successfully fetched game ID: 13780, Rank: 1545:  77%|████████████████████▊      | 1545/2000 [1:00:20<19:35,  2.58s/it]"
     ]
    },
    {
     "name": "stdout",
     "output_type": "stream",
     "text": [
      "Unexpected response for game ID 218530: HTTP 429, content: b'<error>\\n    <message>Rate limit exceeded.</message>\\n</error>'\n"
     ]
    },
    {
     "name": "stderr",
     "output_type": "stream",
     "text": [
      "Successfully fetched game ID: 285265, Rank: 1549:  77%|████████████████████▏     | 1549/2000 [1:00:29<17:15,  2.30s/it]"
     ]
    },
    {
     "name": "stdout",
     "output_type": "stream",
     "text": [
      "Unexpected response for game ID 144041: HTTP 429, content: b'<error>\\n    <message>Rate limit exceeded.</message>\\n</error>'\n"
     ]
    },
    {
     "name": "stderr",
     "output_type": "stream",
     "text": [
      "Successfully fetched game ID: 38713, Rank: 1552:  78%|████████████████████▉      | 1552/2000 [1:00:38<20:49,  2.79s/it]"
     ]
    },
    {
     "name": "stdout",
     "output_type": "stream",
     "text": [
      "Unexpected response for game ID 40209: HTTP 429, content: b'<error>\\n    <message>Rate limit exceeded.</message>\\n</error>'\n"
     ]
    },
    {
     "name": "stderr",
     "output_type": "stream",
     "text": [
      "Successfully fetched game ID: 13884, Rank: 1554:  78%|████████████████████▉      | 1554/2000 [1:00:43<18:46,  2.53s/it]"
     ]
    },
    {
     "name": "stdout",
     "output_type": "stream",
     "text": [
      "Unexpected response for game ID 143986: HTTP 429, content: b'<error>\\n    <message>Rate limit exceeded.</message>\\n</error>'\n"
     ]
    },
    {
     "name": "stderr",
     "output_type": "stream",
     "text": [
      "Successfully fetched game ID: 2987, Rank: 1558:  78%|█████████████████████▊      | 1558/2000 [1:00:54<20:36,  2.80s/it]"
     ]
    },
    {
     "name": "stdout",
     "output_type": "stream",
     "text": [
      "Unexpected response for game ID 156714: HTTP 429, content: b'<error>\\n    <message>Rate limit exceeded.</message>\\n</error>'\n"
     ]
    },
    {
     "name": "stderr",
     "output_type": "stream",
     "text": [
      "Successfully fetched game ID: 156714, Rank: 1559:  78%|████████████████████▎     | 1559/2000 [1:00:56<19:27,  2.65s/it]"
     ]
    },
    {
     "name": "stdout",
     "output_type": "stream",
     "text": [
      "Unexpected response for game ID 119: HTTP 429, content: b'<error>\\n    <message>Rate limit exceeded.</message>\\n</error>'\n"
     ]
    },
    {
     "name": "stderr",
     "output_type": "stream",
     "text": [
      "Successfully fetched game ID: 119, Rank: 1560:  78%|██████████████████████▌      | 1560/2000 [1:00:58<18:42,  2.55s/it]"
     ]
    },
    {
     "name": "stdout",
     "output_type": "stream",
     "text": [
      "Unexpected response for game ID 230267: HTTP 429, content: b'<error>\\n    <message>Rate limit exceeded.</message>\\n</error>'\n"
     ]
    },
    {
     "name": "stderr",
     "output_type": "stream",
     "text": [
      "Successfully fetched game ID: 38862, Rank: 1562:  78%|█████████████████████      | 1562/2000 [1:01:04<19:54,  2.73s/it]"
     ]
    },
    {
     "name": "stdout",
     "output_type": "stream",
     "text": [
      "Unexpected response for game ID 122294: HTTP 429, content: b'<error>\\n    <message>Rate limit exceeded.</message>\\n</error>'\n"
     ]
    },
    {
     "name": "stderr",
     "output_type": "stream",
     "text": [
      "Successfully fetched game ID: 122294, Rank: 1563:  78%|████████████████████▎     | 1563/2000 [1:01:06<19:15,  2.64s/it]"
     ]
    },
    {
     "name": "stdout",
     "output_type": "stream",
     "text": [
      "Unexpected response for game ID 230889: HTTP 429, content: b'<error>\\n    <message>Rate limit exceeded.</message>\\n</error>'\n"
     ]
    },
    {
     "name": "stderr",
     "output_type": "stream",
     "text": [
      "Successfully fetched game ID: 323156, Rank: 1566:  78%|████████████████████▎     | 1566/2000 [1:01:13<17:11,  2.38s/it]"
     ]
    },
    {
     "name": "stdout",
     "output_type": "stream",
     "text": [
      "Unexpected response for game ID 131111: HTTP 429, content: b'<error>\\n    <message>Rate limit exceeded.</message>\\n</error>'\n"
     ]
    },
    {
     "name": "stderr",
     "output_type": "stream",
     "text": [
      "Successfully fetched game ID: 38863, Rank: 1568:  78%|█████████████████████▏     | 1568/2000 [1:01:19<18:42,  2.60s/it]"
     ]
    },
    {
     "name": "stdout",
     "output_type": "stream",
     "text": [
      "Unexpected response for game ID 152: HTTP 429, content: b'<error>\\n    <message>Rate limit exceeded.</message>\\n</error>'\n"
     ]
    },
    {
     "name": "stderr",
     "output_type": "stream",
     "text": [
      "Successfully fetched game ID: 192860, Rank: 1572:  79%|████████████████████▍     | 1572/2000 [1:01:29<18:32,  2.60s/it]"
     ]
    },
    {
     "name": "stdout",
     "output_type": "stream",
     "text": [
      "Unexpected response for game ID 92319: HTTP 429, content: b'<error>\\n    <message>Rate limit exceeded.</message>\\n</error>'\n"
     ]
    },
    {
     "name": "stderr",
     "output_type": "stream",
     "text": [
      "Successfully fetched game ID: 193308, Rank: 1574:  79%|████████████████████▍     | 1574/2000 [1:01:33<17:06,  2.41s/it]"
     ]
    },
    {
     "name": "stdout",
     "output_type": "stream",
     "text": [
      "Unexpected response for game ID 47055: HTTP 429, content: b'<error>\\n    <message>Rate limit exceeded.</message>\\n</error>'\n"
     ]
    },
    {
     "name": "stderr",
     "output_type": "stream",
     "text": [
      "Successfully fetched game ID: 195856, Rank: 1578:  79%|████████████████████▌     | 1578/2000 [1:01:44<18:21,  2.61s/it]"
     ]
    },
    {
     "name": "stdout",
     "output_type": "stream",
     "text": [
      "Unexpected response for game ID 423: HTTP 429, content: b'<error>\\n    <message>Rate limit exceeded.</message>\\n</error>'\n"
     ]
    },
    {
     "name": "stderr",
     "output_type": "stream",
     "text": [
      "Successfully fetched game ID: 245354, Rank: 1584:  79%|████████████████████▌     | 1584/2000 [1:01:59<17:10,  2.48s/it]"
     ]
    },
    {
     "name": "stdout",
     "output_type": "stream",
     "text": [
      "Unexpected response for game ID 915: HTTP 429, content: b'<error>\\n    <message>Rate limit exceeded.</message>\\n</error>'\n"
     ]
    },
    {
     "name": "stderr",
     "output_type": "stream",
     "text": [
      "Successfully fetched game ID: 915, Rank: 1585:  79%|██████████████████████▉      | 1585/2000 [1:02:02<16:49,  2.43s/it]"
     ]
    },
    {
     "name": "stdout",
     "output_type": "stream",
     "text": [
      "Unexpected response for game ID 34194: HTTP 429, content: b'<error>\\n    <message>Rate limit exceeded.</message>\\n</error>'\n"
     ]
    },
    {
     "name": "stderr",
     "output_type": "stream",
     "text": [
      "Successfully fetched game ID: 363307, Rank: 1591:  80%|████████████████████▋     | 1591/2000 [1:02:17<15:50,  2.32s/it]"
     ]
    },
    {
     "name": "stdout",
     "output_type": "stream",
     "text": [
      "Unexpected response for game ID 149776: HTTP 429, content: b'<error>\\n    <message>Rate limit exceeded.</message>\\n</error>'\n"
     ]
    },
    {
     "name": "stderr",
     "output_type": "stream",
     "text": [
      "Successfully fetched game ID: 149776, Rank: 1592:  80%|████████████████████▋     | 1592/2000 [1:02:19<15:58,  2.35s/it]"
     ]
    },
    {
     "name": "stdout",
     "output_type": "stream",
     "text": [
      "Unexpected response for game ID 22484: HTTP 429, content: b'<error>\\n    <message>Rate limit exceeded.</message>\\n</error>'\n"
     ]
    },
    {
     "name": "stderr",
     "output_type": "stream",
     "text": [
      "Successfully fetched game ID: 39339, Rank: 1597:  80%|█████████████████████▌     | 1597/2000 [1:02:33<17:56,  2.67s/it]"
     ]
    },
    {
     "name": "stdout",
     "output_type": "stream",
     "text": [
      "Unexpected response for game ID 63170: HTTP 429, content: b'<error>\\n    <message>Rate limit exceeded.</message>\\n</error>'\n"
     ]
    },
    {
     "name": "stderr",
     "output_type": "stream",
     "text": [
      "Successfully fetched game ID: 367220, Rank: 1601:  80%|████████████████████▊     | 1601/2000 [1:02:41<13:24,  2.02s/it]"
     ]
    },
    {
     "name": "stdout",
     "output_type": "stream",
     "text": [
      "Unexpected response for game ID 2081: HTTP 429, content: b'<error>\\n    <message>Rate limit exceeded.</message>\\n</error>'\n"
     ]
    },
    {
     "name": "stderr",
     "output_type": "stream",
     "text": [
      "Successfully fetched game ID: 2081, Rank: 1602:  80%|██████████████████████▍     | 1602/2000 [1:02:44<14:10,  2.14s/it]"
     ]
    },
    {
     "name": "stdout",
     "output_type": "stream",
     "text": [
      "Unexpected response for game ID 274124: HTTP 429, content: b'<error>\\n    <message>Rate limit exceeded.</message>\\n</error>'\n"
     ]
    },
    {
     "name": "stderr",
     "output_type": "stream",
     "text": [
      "Successfully fetched game ID: 183231, Rank: 1604:  80%|████████████████████▊     | 1604/2000 [1:02:48<14:23,  2.18s/it]"
     ]
    },
    {
     "name": "stdout",
     "output_type": "stream",
     "text": [
      "Unexpected response for game ID 331050: HTTP 429, content: b'<error>\\n    <message>Rate limit exceeded.</message>\\n</error>'\n"
     ]
    },
    {
     "name": "stderr",
     "output_type": "stream",
     "text": [
      "Successfully fetched game ID: 3097, Rank: 1608:  80%|██████████████████████▌     | 1608/2000 [1:03:00<18:53,  2.89s/it]"
     ]
    },
    {
     "name": "stdout",
     "output_type": "stream",
     "text": [
      "Unexpected response for game ID 103185: HTTP 429, content: b'<error>\\n    <message>Rate limit exceeded.</message>\\n</error>'\n"
     ]
    },
    {
     "name": "stderr",
     "output_type": "stream",
     "text": [
      "Successfully fetched game ID: 276830, Rank: 1613:  81%|████████████████████▉     | 1613/2000 [1:03:12<16:55,  2.62s/it]"
     ]
    },
    {
     "name": "stdout",
     "output_type": "stream",
     "text": [
      "Unexpected response for game ID 40270: HTTP 429, content: b'<error>\\n    <message>Rate limit exceeded.</message>\\n</error>'\n"
     ]
    },
    {
     "name": "stderr",
     "output_type": "stream",
     "text": [
      "Successfully fetched game ID: 26, Rank: 1617:  81%|████████████████████████▎     | 1617/2000 [1:03:24<18:50,  2.95s/it]"
     ]
    },
    {
     "name": "stdout",
     "output_type": "stream",
     "text": [
      "Unexpected response for game ID 14254: HTTP 429, content: b'<error>\\n    <message>Rate limit exceeded.</message>\\n</error>'\n"
     ]
    },
    {
     "name": "stderr",
     "output_type": "stream",
     "text": [
      "Successfully fetched game ID: 259298, Rank: 1619:  81%|█████████████████████     | 1619/2000 [1:03:29<16:51,  2.66s/it]"
     ]
    },
    {
     "name": "stdout",
     "output_type": "stream",
     "text": [
      "Unexpected response for game ID 31497: HTTP 429, content: b'<error>\\n    <message>Rate limit exceeded.</message>\\n</error>'\n"
     ]
    },
    {
     "name": "stderr",
     "output_type": "stream",
     "text": [
      "Successfully fetched game ID: 31497, Rank: 1620:  81%|█████████████████████▊     | 1620/2000 [1:03:31<16:18,  2.57s/it]"
     ]
    },
    {
     "name": "stdout",
     "output_type": "stream",
     "text": [
      "Unexpected response for game ID 200511: HTTP 429, content: b'<error>\\n    <message>Rate limit exceeded.</message>\\n</error>'\n"
     ]
    },
    {
     "name": "stderr",
     "output_type": "stream",
     "text": [
      "Successfully fetched game ID: 200511, Rank: 1621:  81%|█████████████████████     | 1621/2000 [1:03:34<15:47,  2.50s/it]"
     ]
    },
    {
     "name": "stdout",
     "output_type": "stream",
     "text": [
      "Unexpected response for game ID 90040: HTTP 429, content: b'<error>\\n    <message>Rate limit exceeded.</message>\\n</error>'\n"
     ]
    },
    {
     "name": "stderr",
     "output_type": "stream",
     "text": [
      "Successfully fetched game ID: 275913, Rank: 1623:  81%|█████████████████████     | 1623/2000 [1:03:38<14:51,  2.36s/it]"
     ]
    },
    {
     "name": "stdout",
     "output_type": "stream",
     "text": [
      "Unexpected response for game ID 41933: HTTP 429, content: b'<error>\\n    <message>Rate limit exceeded.</message>\\n</error>'\n"
     ]
    },
    {
     "name": "stderr",
     "output_type": "stream",
     "text": [
      "Successfully fetched game ID: 41933, Rank: 1624:  81%|█████████████████████▉     | 1624/2000 [1:03:40<14:43,  2.35s/it]"
     ]
    },
    {
     "name": "stdout",
     "output_type": "stream",
     "text": [
      "Unexpected response for game ID 193728: HTTP 429, content: b'<error>\\n    <message>Rate limit exceeded.</message>\\n</error>'\n"
     ]
    },
    {
     "name": "stderr",
     "output_type": "stream",
     "text": [
      "Successfully fetched game ID: 12761, Rank: 1626:  81%|█████████████████████▉     | 1626/2000 [1:03:46<16:20,  2.62s/it]"
     ]
    },
    {
     "name": "stdout",
     "output_type": "stream",
     "text": [
      "Unexpected response for game ID 284584: HTTP 429, content: b'<error>\\n    <message>Rate limit exceeded.</message>\\n</error>'\n"
     ]
    },
    {
     "name": "stderr",
     "output_type": "stream",
     "text": [
      "Successfully fetched game ID: 284584, Rank: 1627:  81%|█████████████████████▏    | 1627/2000 [1:03:48<15:47,  2.54s/it]"
     ]
    },
    {
     "name": "stdout",
     "output_type": "stream",
     "text": [
      "Unexpected response for game ID 10093: HTTP 429, content: b'<error>\\n    <message>Rate limit exceeded.</message>\\n</error>'\n"
     ]
    },
    {
     "name": "stderr",
     "output_type": "stream",
     "text": [
      "Successfully fetched game ID: 221769, Rank: 1629:  81%|█████████████████████▏    | 1629/2000 [1:03:53<14:51,  2.40s/it]"
     ]
    },
    {
     "name": "stdout",
     "output_type": "stream",
     "text": [
      "Unexpected response for game ID 310632: HTTP 429, content: b'<error>\\n    <message>Rate limit exceeded.</message>\\n</error>'\n"
     ]
    },
    {
     "name": "stderr",
     "output_type": "stream",
     "text": [
      "Successfully fetched game ID: 270109, Rank: 1634:  82%|█████████████████████▏    | 1634/2000 [1:04:06<16:20,  2.68s/it]"
     ]
    },
    {
     "name": "stdout",
     "output_type": "stream",
     "text": [
      "Unexpected response for game ID 267813: HTTP 429, content: b'<error>\\n    <message>Rate limit exceeded.</message>\\n</error>'\n"
     ]
    },
    {
     "name": "stderr",
     "output_type": "stream",
     "text": [
      "Successfully fetched game ID: 178054, Rank: 1641:  82%|█████████████████████▎    | 1641/2000 [1:04:23<14:45,  2.47s/it]"
     ]
    },
    {
     "name": "stdout",
     "output_type": "stream",
     "text": [
      "Unexpected response for game ID 99975: HTTP 429, content: b'<error>\\n    <message>Rate limit exceeded.</message>\\n</error>'\n"
     ]
    },
    {
     "name": "stderr",
     "output_type": "stream",
     "text": [
      "Successfully fetched game ID: 30658, Rank: 1643:  82%|██████████████████████▏    | 1643/2000 [1:04:28<15:46,  2.65s/it]"
     ]
    },
    {
     "name": "stdout",
     "output_type": "stream",
     "text": [
      "Unexpected response for game ID 283619: HTTP 429, content: b'<error>\\n    <message>Rate limit exceeded.</message>\\n</error>'\n"
     ]
    },
    {
     "name": "stderr",
     "output_type": "stream",
     "text": [
      "Successfully fetched game ID: 61487, Rank: 1646:  82%|██████████████████████▏    | 1646/2000 [1:04:35<14:06,  2.39s/it]"
     ]
    },
    {
     "name": "stdout",
     "output_type": "stream",
     "text": [
      "Unexpected response for game ID 253759: HTTP 429, content: b'<error>\\n    <message>Rate limit exceeded.</message>\\n</error>'\n"
     ]
    },
    {
     "name": "stderr",
     "output_type": "stream",
     "text": [
      "Successfully fetched game ID: 253759, Rank: 1647:  82%|█████████████████████▍    | 1647/2000 [1:04:37<14:07,  2.40s/it]"
     ]
    },
    {
     "name": "stdout",
     "output_type": "stream",
     "text": [
      "Unexpected response for game ID 38545: HTTP 429, content: b'<error>\\n    <message>Rate limit exceeded.</message>\\n</error>'\n"
     ]
    },
    {
     "name": "stderr",
     "output_type": "stream",
     "text": [
      "Successfully fetched game ID: 225167, Rank: 1649:  82%|█████████████████████▍    | 1649/2000 [1:04:43<15:44,  2.69s/it]"
     ]
    },
    {
     "name": "stdout",
     "output_type": "stream",
     "text": [
      "Unexpected response for game ID 235014: HTTP 429, content: b'<error>\\n    <message>Rate limit exceeded.</message>\\n</error>'\n"
     ]
    },
    {
     "name": "stderr",
     "output_type": "stream",
     "text": [
      "Successfully fetched game ID: 230303, Rank: 1669:  83%|█████████████████████▋    | 1669/2000 [1:05:36<13:55,  2.52s/it]"
     ]
    },
    {
     "name": "stdout",
     "output_type": "stream",
     "text": [
      "Unexpected response for game ID 318472: HTTP 429, content: b'<error>\\n    <message>Rate limit exceeded.</message>\\n</error>'\n"
     ]
    },
    {
     "name": "stderr",
     "output_type": "stream",
     "text": [
      "Successfully fetched game ID: 318472, Rank: 1670:  84%|█████████████████████▋    | 1670/2000 [1:05:38<13:41,  2.49s/it]"
     ]
    },
    {
     "name": "stdout",
     "output_type": "stream",
     "text": [
      "Unexpected response for game ID 88827: HTTP 429, content: b'<error>\\n    <message>Rate limit exceeded.</message>\\n</error>'\n"
     ]
    },
    {
     "name": "stderr",
     "output_type": "stream",
     "text": [
      "Successfully fetched game ID: 88827, Rank: 1671:  84%|██████████████████████▌    | 1671/2000 [1:05:40<13:31,  2.47s/it]"
     ]
    },
    {
     "name": "stdout",
     "output_type": "stream",
     "text": [
      "Unexpected response for game ID 208895: HTTP 429, content: b'<error>\\n    <message>Rate limit exceeded.</message>\\n</error>'\n"
     ]
    },
    {
     "name": "stderr",
     "output_type": "stream",
     "text": [
      "Successfully fetched game ID: 218804, Rank: 1673:  84%|█████████████████████▋    | 1673/2000 [1:05:45<12:49,  2.35s/it]"
     ]
    },
    {
     "name": "stdout",
     "output_type": "stream",
     "text": [
      "Unexpected response for game ID 73369: HTTP 429, content: b'<error>\\n    <message>Rate limit exceeded.</message>\\n</error>'\n"
     ]
    },
    {
     "name": "stderr",
     "output_type": "stream",
     "text": [
      "Successfully fetched game ID: 147253, Rank: 1676:  84%|█████████████████████▊    | 1676/2000 [1:05:54<15:17,  2.83s/it]"
     ]
    },
    {
     "name": "stdout",
     "output_type": "stream",
     "text": [
      "Unexpected response for game ID 252446: HTTP 429, content: b'<error>\\n    <message>Rate limit exceeded.</message>\\n</error>'\n"
     ]
    },
    {
     "name": "stderr",
     "output_type": "stream",
     "text": [
      "Successfully fetched game ID: 6351, Rank: 1683:  84%|███████████████████████▌    | 1683/2000 [1:06:13<15:11,  2.88s/it]"
     ]
    },
    {
     "name": "stdout",
     "output_type": "stream",
     "text": [
      "Unexpected response for game ID 280453: HTTP 429, content: b'<error>\\n    <message>Rate limit exceeded.</message>\\n</error>'\n"
     ]
    },
    {
     "name": "stderr",
     "output_type": "stream",
     "text": [
      "Successfully fetched game ID: 158900, Rank: 1685:  84%|█████████████████████▉    | 1685/2000 [1:06:18<15:03,  2.87s/it]"
     ]
    },
    {
     "name": "stdout",
     "output_type": "stream",
     "text": [
      "Unexpected response for game ID 3565: HTTP 429, content: b'<error>\\n    <message>Rate limit exceeded.</message>\\n</error>'\n"
     ]
    },
    {
     "name": "stderr",
     "output_type": "stream",
     "text": [
      "Successfully fetched game ID: 223215, Rank: 1688:  84%|█████████████████████▉    | 1688/2000 [1:06:28<15:44,  3.03s/it]"
     ]
    },
    {
     "name": "stdout",
     "output_type": "stream",
     "text": [
      "Unexpected response for game ID 8129: HTTP 429, content: b'<error>\\n    <message>Rate limit exceeded.</message>\\n</error>'\n"
     ]
    },
    {
     "name": "stderr",
     "output_type": "stream",
     "text": [
      "Successfully fetched game ID: 8129, Rank: 1689:  84%|███████████████████████▋    | 1689/2000 [1:06:30<14:39,  2.83s/it]"
     ]
    },
    {
     "name": "stdout",
     "output_type": "stream",
     "text": [
      "Unexpected response for game ID 175307: HTTP 429, content: b'<error>\\n    <message>Rate limit exceeded.</message>\\n</error>'\n"
     ]
    },
    {
     "name": "stderr",
     "output_type": "stream",
     "text": [
      "Successfully fetched game ID: 295262, Rank: 1696:  85%|██████████████████████    | 1696/2000 [1:06:48<12:13,  2.41s/it]"
     ]
    },
    {
     "name": "stdout",
     "output_type": "stream",
     "text": [
      "Unexpected response for game ID 361: HTTP 429, content: b'<error>\\n    <message>Rate limit exceeded.</message>\\n</error>'\n"
     ]
    },
    {
     "name": "stderr",
     "output_type": "stream",
     "text": [
      "Successfully fetched game ID: 361, Rank: 1697:  85%|████████████████████████▌    | 1697/2000 [1:06:50<12:06,  2.40s/it]"
     ]
    },
    {
     "name": "stdout",
     "output_type": "stream",
     "text": [
      "Unexpected response for game ID 354570: HTTP 429, content: b'<error>\\n    <message>Rate limit exceeded.</message>\\n</error>'\n"
     ]
    },
    {
     "name": "stderr",
     "output_type": "stream",
     "text": [
      "Successfully fetched game ID: 280136, Rank: 1700:  85%|██████████████████████    | 1700/2000 [1:06:58<13:01,  2.60s/it]"
     ]
    },
    {
     "name": "stdout",
     "output_type": "stream",
     "text": [
      "Unexpected response for game ID 67877: HTTP 429, content: b'<error>\\n    <message>Rate limit exceeded.</message>\\n</error>'\n"
     ]
    },
    {
     "name": "stderr",
     "output_type": "stream",
     "text": [
      "Successfully fetched game ID: 316786, Rank: 1702:  85%|██████████████████████▏   | 1702/2000 [1:07:03<12:19,  2.48s/it]"
     ]
    },
    {
     "name": "stdout",
     "output_type": "stream",
     "text": [
      "Unexpected response for game ID 325555: HTTP 429, content: b'<error>\\n    <message>Rate limit exceeded.</message>\\n</error>'\n"
     ]
    },
    {
     "name": "stderr",
     "output_type": "stream",
     "text": [
      "Successfully fetched game ID: 138233, Rank: 1704:  85%|██████████████████████▏   | 1704/2000 [1:07:07<11:38,  2.36s/it]"
     ]
    },
    {
     "name": "stdout",
     "output_type": "stream",
     "text": [
      "Unexpected response for game ID 38718: HTTP 429, content: b'<error>\\n    <message>Rate limit exceeded.</message>\\n</error>'\n"
     ]
    },
    {
     "name": "stderr",
     "output_type": "stream",
     "text": [
      "Successfully fetched game ID: 43868, Rank: 1709:  85%|███████████████████████    | 1709/2000 [1:07:21<12:44,  2.63s/it]"
     ]
    },
    {
     "name": "stdout",
     "output_type": "stream",
     "text": [
      "Unexpected response for game ID 811: HTTP 429, content: b'<error>\\n    <message>Rate limit exceeded.</message>\\n</error>'\n"
     ]
    },
    {
     "name": "stderr",
     "output_type": "stream",
     "text": [
      "Successfully fetched game ID: 123239, Rank: 1712:  86%|██████████████████████▎   | 1712/2000 [1:07:29<12:29,  2.60s/it]"
     ]
    },
    {
     "name": "stdout",
     "output_type": "stream",
     "text": [
      "Unexpected response for game ID 21920: HTTP 429, content: b'<error>\\n    <message>Rate limit exceeded.</message>\\n</error>'\n"
     ]
    },
    {
     "name": "stderr",
     "output_type": "stream",
     "text": [
      "Successfully fetched game ID: 21920, Rank: 1713:  86%|███████████████████████▏   | 1713/2000 [1:07:31<12:09,  2.54s/it]"
     ]
    },
    {
     "name": "stdout",
     "output_type": "stream",
     "text": [
      "Unexpected response for game ID 182189: HTTP 429, content: b'<error>\\n    <message>Rate limit exceeded.</message>\\n</error>'\n"
     ]
    },
    {
     "name": "stderr",
     "output_type": "stream",
     "text": [
      "Successfully fetched game ID: 182189, Rank: 1714:  86%|██████████████████████▎   | 1714/2000 [1:07:33<11:47,  2.47s/it]"
     ]
    },
    {
     "name": "stdout",
     "output_type": "stream",
     "text": [
      "Unexpected response for game ID 24310: HTTP 429, content: b'<error>\\n    <message>Rate limit exceeded.</message>\\n</error>'\n"
     ]
    },
    {
     "name": "stderr",
     "output_type": "stream",
     "text": [
      "Successfully fetched game ID: 24310, Rank: 1715:  86%|███████████████████████▏   | 1715/2000 [1:07:36<11:32,  2.43s/it]"
     ]
    },
    {
     "name": "stdout",
     "output_type": "stream",
     "text": [
      "Unexpected response for game ID 352697: HTTP 429, content: b'<error>\\n    <message>Rate limit exceeded.</message>\\n</error>'\n"
     ]
    },
    {
     "name": "stderr",
     "output_type": "stream",
     "text": [
      "Successfully fetched game ID: 352697, Rank: 1716:  86%|██████████████████████▎   | 1716/2000 [1:07:38<11:26,  2.42s/it]"
     ]
    },
    {
     "name": "stdout",
     "output_type": "stream",
     "text": [
      "Unexpected response for game ID 46396: HTTP 429, content: b'<error>\\n    <message>Rate limit exceeded.</message>\\n</error>'\n"
     ]
    },
    {
     "name": "stderr",
     "output_type": "stream",
     "text": [
      "Successfully fetched game ID: 251551, Rank: 1720:  86%|██████████████████████▎   | 1720/2000 [1:07:48<11:59,  2.57s/it]"
     ]
    },
    {
     "name": "stdout",
     "output_type": "stream",
     "text": [
      "Unexpected response for game ID 274841: HTTP 429, content: b'<error>\\n    <message>Rate limit exceeded.</message>\\n</error>'\n"
     ]
    },
    {
     "name": "stderr",
     "output_type": "stream",
     "text": [
      "Successfully fetched game ID: 237, Rank: 1726:  86%|█████████████████████████    | 1726/2000 [1:08:06<14:07,  3.09s/it]"
     ]
    },
    {
     "name": "stdout",
     "output_type": "stream",
     "text": [
      "Unexpected response for game ID 157413: HTTP 429, content: b'<error>\\n    <message>Rate limit exceeded.</message>\\n</error>'\n"
     ]
    },
    {
     "name": "stderr",
     "output_type": "stream",
     "text": [
      "Successfully fetched game ID: 157413, Rank: 1727:  86%|██████████████████████▍   | 1727/2000 [1:08:09<13:03,  2.87s/it]"
     ]
    },
    {
     "name": "stdout",
     "output_type": "stream",
     "text": [
      "Unexpected response for game ID 163805: HTTP 429, content: b'<error>\\n    <message>Rate limit exceeded.</message>\\n</error>'\n"
     ]
    },
    {
     "name": "stderr",
     "output_type": "stream",
     "text": [
      "Successfully fetched game ID: 163805, Rank: 1728:  86%|██████████████████████▍   | 1728/2000 [1:08:11<12:21,  2.73s/it]"
     ]
    },
    {
     "name": "stdout",
     "output_type": "stream",
     "text": [
      "Unexpected response for game ID 142079: HTTP 429, content: b'<error>\\n    <message>Rate limit exceeded.</message>\\n</error>'\n"
     ]
    },
    {
     "name": "stderr",
     "output_type": "stream",
     "text": [
      "Successfully fetched game ID: 220792, Rank: 1733:  87%|██████████████████████▌   | 1733/2000 [1:08:22<09:38,  2.17s/it]"
     ]
    },
    {
     "name": "stdout",
     "output_type": "stream",
     "text": [
      "Unexpected response for game ID 4636: HTTP 429, content: b'<error>\\n    <message>Rate limit exceeded.</message>\\n</error>'\n"
     ]
    },
    {
     "name": "stderr",
     "output_type": "stream",
     "text": [
      "Successfully fetched game ID: 4636, Rank: 1734:  87%|████████████████████████▎   | 1734/2000 [1:08:24<09:52,  2.23s/it]"
     ]
    },
    {
     "name": "stdout",
     "output_type": "stream",
     "text": [
      "Unexpected response for game ID 267271: HTTP 429, content: b'<error>\\n    <message>Rate limit exceeded.</message>\\n</error>'\n"
     ]
    },
    {
     "name": "stderr",
     "output_type": "stream",
     "text": [
      "Successfully fetched game ID: 107255, Rank: 1743:  87%|██████████████████████▋   | 1743/2000 [1:08:50<11:47,  2.75s/it]"
     ]
    },
    {
     "name": "stdout",
     "output_type": "stream",
     "text": [
      "Unexpected response for game ID 328326: HTTP 429, content: b'<error>\\n    <message>Rate limit exceeded.</message>\\n</error>'\n"
     ]
    },
    {
     "name": "stderr",
     "output_type": "stream",
     "text": [
      "Successfully fetched game ID: 259081, Rank: 1745:  87%|██████████████████████▋   | 1745/2000 [1:08:56<11:55,  2.81s/it]"
     ]
    },
    {
     "name": "stdout",
     "output_type": "stream",
     "text": [
      "Unexpected response for game ID 22348: HTTP 429, content: b'<error>\\n    <message>Rate limit exceeded.</message>\\n</error>'\n"
     ]
    },
    {
     "name": "stderr",
     "output_type": "stream",
     "text": [
      "Successfully fetched game ID: 2808, Rank: 1750:  88%|████████████████████████▌   | 1750/2000 [1:09:09<11:50,  2.84s/it]"
     ]
    },
    {
     "name": "stdout",
     "output_type": "stream",
     "text": [
      "Unexpected response for game ID 175293: HTTP 429, content: b'<error>\\n    <message>Rate limit exceeded.</message>\\n</error>'\n"
     ]
    },
    {
     "name": "stderr",
     "output_type": "stream",
     "text": [
      "Successfully fetched game ID: 282853, Rank: 1758:  88%|██████████████████████▊   | 1758/2000 [1:09:30<10:08,  2.52s/it]"
     ]
    },
    {
     "name": "stdout",
     "output_type": "stream",
     "text": [
      "Unexpected response for game ID 241831: HTTP 429, content: b'<error>\\n    <message>Rate limit exceeded.</message>\\n</error>'\n"
     ]
    },
    {
     "name": "stderr",
     "output_type": "stream",
     "text": [
      "Successfully fetched game ID: 241831, Rank: 1759:  88%|██████████████████████▊   | 1759/2000 [1:09:32<09:51,  2.46s/it]"
     ]
    },
    {
     "name": "stdout",
     "output_type": "stream",
     "text": [
      "Unexpected response for game ID 35435: HTTP 429, content: b'<error>\\n    <message>Rate limit exceeded.</message>\\n</error>'\n"
     ]
    },
    {
     "name": "stderr",
     "output_type": "stream",
     "text": [
      "Successfully fetched game ID: 122842, Rank: 1763:  88%|██████████████████████▉   | 1763/2000 [1:09:42<10:13,  2.59s/it]"
     ]
    },
    {
     "name": "stdout",
     "output_type": "stream",
     "text": [
      "Unexpected response for game ID 363247: HTTP 429, content: b'<error>\\n    <message>Rate limit exceeded.</message>\\n</error>'\n"
     ]
    },
    {
     "name": "stderr",
     "output_type": "stream",
     "text": [
      "Successfully fetched game ID: 275044, Rank: 1767:  88%|██████████████████████▉   | 1767/2000 [1:09:54<11:29,  2.96s/it]"
     ]
    },
    {
     "name": "stdout",
     "output_type": "stream",
     "text": [
      "Unexpected response for game ID 183284: HTTP 429, content: b'<error>\\n    <message>Rate limit exceeded.</message>\\n</error>'\n"
     ]
    },
    {
     "name": "stderr",
     "output_type": "stream",
     "text": [
      "Successfully fetched game ID: 266083, Rank: 1770:  88%|███████████████████████   | 1770/2000 [1:10:02<10:43,  2.80s/it]"
     ]
    },
    {
     "name": "stdout",
     "output_type": "stream",
     "text": [
      "Unexpected response for game ID 248125: HTTP 429, content: b'<error>\\n    <message>Rate limit exceeded.</message>\\n</error>'\n"
     ]
    },
    {
     "name": "stderr",
     "output_type": "stream",
     "text": [
      "Successfully fetched game ID: 272427, Rank: 1777:  89%|███████████████████████   | 1777/2000 [1:10:20<09:00,  2.43s/it]"
     ]
    },
    {
     "name": "stdout",
     "output_type": "stream",
     "text": [
      "Unexpected response for game ID 235375: HTTP 429, content: b'<error>\\n    <message>Rate limit exceeded.</message>\\n</error>'\n"
     ]
    },
    {
     "name": "stderr",
     "output_type": "stream",
     "text": [
      "Successfully fetched game ID: 235375, Rank: 1778:  89%|███████████████████████   | 1778/2000 [1:10:22<08:57,  2.42s/it]"
     ]
    },
    {
     "name": "stdout",
     "output_type": "stream",
     "text": [
      "Unexpected response for game ID 91984: HTTP 429, content: b'<error>\\n    <message>Rate limit exceeded.</message>\\n</error>'\n"
     ]
    },
    {
     "name": "stderr",
     "output_type": "stream",
     "text": [
      "Successfully fetched game ID: 91984, Rank: 1779:  89%|████████████████████████   | 1779/2000 [1:10:24<08:47,  2.39s/it]"
     ]
    },
    {
     "name": "stdout",
     "output_type": "stream",
     "text": [
      "Unexpected response for game ID 175549: HTTP 429, content: b'<error>\\n    <message>Rate limit exceeded.</message>\\n</error>'\n"
     ]
    },
    {
     "name": "stderr",
     "output_type": "stream",
     "text": [
      "Successfully fetched game ID: 175549, Rank: 1780:  89%|███████████████████████▏  | 1780/2000 [1:10:27<08:39,  2.36s/it]"
     ]
    },
    {
     "name": "stdout",
     "output_type": "stream",
     "text": [
      "Unexpected response for game ID 41010: HTTP 429, content: b'<error>\\n    <message>Rate limit exceeded.</message>\\n</error>'\n"
     ]
    },
    {
     "name": "stderr",
     "output_type": "stream",
     "text": [
      "Successfully fetched game ID: 37907, Rank: 1794:  90%|████████████████████████▏  | 1794/2000 [1:11:01<07:44,  2.26s/it]"
     ]
    },
    {
     "name": "stdout",
     "output_type": "stream",
     "text": [
      "Unexpected response for game ID 71074: HTTP 429, content: b'<error>\\n    <message>Rate limit exceeded.</message>\\n</error>'\n"
     ]
    },
    {
     "name": "stderr",
     "output_type": "stream",
     "text": [
      "Successfully fetched game ID: 71074, Rank: 1795:  90%|████████████████████████▏  | 1795/2000 [1:11:04<07:52,  2.30s/it]"
     ]
    },
    {
     "name": "stdout",
     "output_type": "stream",
     "text": [
      "Unexpected response for game ID 359152: HTTP 429, content: b'<error>\\n    <message>Rate limit exceeded.</message>\\n</error>'\n"
     ]
    },
    {
     "name": "stderr",
     "output_type": "stream",
     "text": [
      "Successfully fetched game ID: 359152, Rank: 1796:  90%|███████████████████████▎  | 1796/2000 [1:11:06<07:51,  2.31s/it]"
     ]
    },
    {
     "name": "stdout",
     "output_type": "stream",
     "text": [
      "Unexpected response for game ID 293835: HTTP 429, content: b'<error>\\n    <message>Rate limit exceeded.</message>\\n</error>'\n"
     ]
    },
    {
     "name": "stderr",
     "output_type": "stream",
     "text": [
      "Successfully fetched game ID: 211716, Rank: 1806:  90%|███████████████████████▍  | 1806/2000 [1:11:33<09:10,  2.84s/it]"
     ]
    },
    {
     "name": "stdout",
     "output_type": "stream",
     "text": [
      "Unexpected response for game ID 35503: HTTP 429, content: b'<error>\\n    <message>Rate limit exceeded.</message>\\n</error>'\n"
     ]
    },
    {
     "name": "stderr",
     "output_type": "stream",
     "text": [
      "Successfully fetched game ID: 35503, Rank: 1807:  90%|████████████████████████▍  | 1807/2000 [1:11:35<08:36,  2.68s/it]"
     ]
    },
    {
     "name": "stdout",
     "output_type": "stream",
     "text": [
      "Unexpected response for game ID 217083: HTTP 429, content: b'<error>\\n    <message>Rate limit exceeded.</message>\\n</error>'\n"
     ]
    },
    {
     "name": "stderr",
     "output_type": "stream",
     "text": [
      "Successfully fetched game ID: 217083, Rank: 1808:  90%|███████████████████████▌  | 1808/2000 [1:11:38<08:19,  2.60s/it]"
     ]
    },
    {
     "name": "stdout",
     "output_type": "stream",
     "text": [
      "Unexpected response for game ID 324090: HTTP 429, content: b'<error>\\n    <message>Rate limit exceeded.</message>\\n</error>'\n"
     ]
    },
    {
     "name": "stderr",
     "output_type": "stream",
     "text": [
      "Successfully fetched game ID: 363369, Rank: 1812:  91%|███████████████████████▌  | 1812/2000 [1:11:48<07:50,  2.50s/it]"
     ]
    },
    {
     "name": "stdout",
     "output_type": "stream",
     "text": [
      "Unexpected response for game ID 160902: HTTP 429, content: b'<error>\\n    <message>Rate limit exceeded.</message>\\n</error>'\n"
     ]
    },
    {
     "name": "stderr",
     "output_type": "stream",
     "text": [
      "Successfully fetched game ID: 21551, Rank: 1814:  91%|████████████████████████▍  | 1814/2000 [1:11:52<07:32,  2.43s/it]"
     ]
    },
    {
     "name": "stdout",
     "output_type": "stream",
     "text": [
      "Unexpected response for game ID 1107: HTTP 429, content: b'<error>\\n    <message>Rate limit exceeded.</message>\\n</error>'\n"
     ]
    },
    {
     "name": "stderr",
     "output_type": "stream",
     "text": [
      "Successfully fetched game ID: 730, Rank: 1817:  91%|██████████████████████████▎  | 1817/2000 [1:12:01<08:38,  2.84s/it]"
     ]
    },
    {
     "name": "stdout",
     "output_type": "stream",
     "text": [
      "Unexpected response for game ID 1887: HTTP 429, content: b'<error>\\n    <message>Rate limit exceeded.</message>\\n</error>'\n"
     ]
    },
    {
     "name": "stderr",
     "output_type": "stream",
     "text": [
      "Successfully fetched game ID: 174837, Rank: 1833:  92%|███████████████████████▊  | 1833/2000 [1:12:38<05:53,  2.12s/it]"
     ]
    },
    {
     "name": "stdout",
     "output_type": "stream",
     "text": [
      "Unexpected response for game ID 238546: HTTP 429, content: b'<error>\\n    <message>Rate limit exceeded.</message>\\n</error>'\n"
     ]
    },
    {
     "name": "stderr",
     "output_type": "stream",
     "text": [
      "Successfully fetched game ID: 293678, Rank: 1838:  92%|███████████████████████▉  | 1838/2000 [1:12:51<06:44,  2.50s/it]"
     ]
    },
    {
     "name": "stdout",
     "output_type": "stream",
     "text": [
      "Unexpected response for game ID 230383: HTTP 429, content: b'<error>\\n    <message>Rate limit exceeded.</message>\\n</error>'\n"
     ]
    },
    {
     "name": "stderr",
     "output_type": "stream",
     "text": [
      "Successfully fetched game ID: 230383, Rank: 1839:  92%|███████████████████████▉  | 1839/2000 [1:12:53<06:33,  2.44s/it]"
     ]
    },
    {
     "name": "stdout",
     "output_type": "stream",
     "text": [
      "Unexpected response for game ID 21133: HTTP 429, content: b'<error>\\n    <message>Rate limit exceeded.</message>\\n</error>'\n"
     ]
    },
    {
     "name": "stderr",
     "output_type": "stream",
     "text": [
      "Successfully fetched game ID: 21133, Rank: 1840:  92%|████████████████████████▊  | 1840/2000 [1:12:55<06:34,  2.46s/it]"
     ]
    },
    {
     "name": "stdout",
     "output_type": "stream",
     "text": [
      "Unexpected response for game ID 157: HTTP 429, content: b'<error>\\n    <message>Rate limit exceeded.</message>\\n</error>'\n"
     ]
    },
    {
     "name": "stderr",
     "output_type": "stream",
     "text": [
      "Successfully fetched game ID: 338460, Rank: 1842:  92%|███████████████████████▉  | 1842/2000 [1:13:01<06:58,  2.65s/it]"
     ]
    },
    {
     "name": "stdout",
     "output_type": "stream",
     "text": [
      "Unexpected response for game ID 3931: HTTP 429, content: b'<error>\\n    <message>Rate limit exceeded.</message>\\n</error>'\n"
     ]
    },
    {
     "name": "stderr",
     "output_type": "stream",
     "text": [
      "Successfully fetched game ID: 284121, Rank: 1848:  92%|████████████████████████  | 1848/2000 [1:13:14<05:29,  2.17s/it]"
     ]
    },
    {
     "name": "stdout",
     "output_type": "stream",
     "text": [
      "Unexpected response for game ID 38765: HTTP 429, content: b'<error>\\n    <message>Rate limit exceeded.</message>\\n</error>'\n"
     ]
    },
    {
     "name": "stderr",
     "output_type": "stream",
     "text": [
      "Successfully fetched game ID: 120, Rank: 1854:  93%|██████████████████████████▉  | 1854/2000 [1:13:31<06:23,  2.63s/it]"
     ]
    },
    {
     "name": "stdout",
     "output_type": "stream",
     "text": [
      "Unexpected response for game ID 66588: HTTP 429, content: b'<error>\\n    <message>Rate limit exceeded.</message>\\n</error>'\n"
     ]
    },
    {
     "name": "stderr",
     "output_type": "stream",
     "text": [
      "Successfully fetched game ID: 16267, Rank: 1859:  93%|█████████████████████████  | 1859/2000 [1:13:43<05:33,  2.37s/it]"
     ]
    },
    {
     "name": "stdout",
     "output_type": "stream",
     "text": [
      "Unexpected response for game ID 526: HTTP 429, content: b'<error>\\n    <message>Rate limit exceeded.</message>\\n</error>'\n"
     ]
    },
    {
     "name": "stderr",
     "output_type": "stream",
     "text": [
      "Successfully fetched game ID: 248005, Rank: 1862:  93%|████████████████████████▏ | 1862/2000 [1:13:50<05:14,  2.28s/it]"
     ]
    },
    {
     "name": "stdout",
     "output_type": "stream",
     "text": [
      "Unexpected response for game ID 1032: HTTP 429, content: b'<error>\\n    <message>Rate limit exceeded.</message>\\n</error>'\n"
     ]
    },
    {
     "name": "stderr",
     "output_type": "stream",
     "text": [
      "Successfully fetched game ID: 301919, Rank: 1864:  93%|████████████████████████▏ | 1864/2000 [1:13:54<05:13,  2.30s/it]"
     ]
    },
    {
     "name": "stdout",
     "output_type": "stream",
     "text": [
      "Unexpected response for game ID 145588: HTTP 429, content: b'<error>\\n    <message>Rate limit exceeded.</message>\\n</error>'\n"
     ]
    },
    {
     "name": "stderr",
     "output_type": "stream",
     "text": [
      "Successfully fetched game ID: 6205, Rank: 1867:  93%|██████████████████████████▏ | 1867/2000 [1:14:03<06:11,  2.79s/it]"
     ]
    },
    {
     "name": "stdout",
     "output_type": "stream",
     "text": [
      "Unexpected response for game ID 257732: HTTP 429, content: b'<error>\\n    <message>Rate limit exceeded.</message>\\n</error>'\n"
     ]
    },
    {
     "name": "stderr",
     "output_type": "stream",
     "text": [
      "Successfully fetched game ID: 257732, Rank: 1868:  93%|████████████████████████▎ | 1868/2000 [1:14:06<05:53,  2.68s/it]"
     ]
    },
    {
     "name": "stdout",
     "output_type": "stream",
     "text": [
      "Unexpected response for game ID 240271: HTTP 429, content: b'<error>\\n    <message>Rate limit exceeded.</message>\\n</error>'\n"
     ]
    },
    {
     "name": "stderr",
     "output_type": "stream",
     "text": [
      "Successfully fetched game ID: 192945, Rank: 1870:  94%|████████████████████████▎ | 1870/2000 [1:14:10<05:20,  2.46s/it]"
     ]
    },
    {
     "name": "stdout",
     "output_type": "stream",
     "text": [
      "Unexpected response for game ID 24703: HTTP 429, content: b'<error>\\n    <message>Rate limit exceeded.</message>\\n</error>'\n"
     ]
    },
    {
     "name": "stderr",
     "output_type": "stream",
     "text": [
      "Successfully fetched game ID: 33154, Rank: 1879:  94%|█████████████████████████▎ | 1879/2000 [1:14:34<06:04,  3.01s/it]"
     ]
    },
    {
     "name": "stdout",
     "output_type": "stream",
     "text": [
      "Unexpected response for game ID 245931: HTTP 429, content: b'<error>\\n    <message>Rate limit exceeded.</message>\\n</error>'\n"
     ]
    },
    {
     "name": "stderr",
     "output_type": "stream",
     "text": [
      "Successfully fetched game ID: 155695, Rank: 1881:  94%|████████████████████████▍ | 1881/2000 [1:14:39<05:12,  2.63s/it]"
     ]
    },
    {
     "name": "stdout",
     "output_type": "stream",
     "text": [
      "Unexpected response for game ID 281549: HTTP 429, content: b'<error>\\n    <message>Rate limit exceeded.</message>\\n</error>'\n"
     ]
    },
    {
     "name": "stderr",
     "output_type": "stream",
     "text": [
      "Successfully fetched game ID: 261594, Rank: 1884:  94%|████████████████████████▍ | 1884/2000 [1:14:47<05:32,  2.87s/it]"
     ]
    },
    {
     "name": "stdout",
     "output_type": "stream",
     "text": [
      "Unexpected response for game ID 75358: HTTP 429, content: b'<error>\\n    <message>Rate limit exceeded.</message>\\n</error>'\n"
     ]
    },
    {
     "name": "stderr",
     "output_type": "stream",
     "text": [
      "Successfully fetched game ID: 267378, Rank: 1886:  94%|████████████████████████▌ | 1886/2000 [1:14:52<04:51,  2.56s/it]"
     ]
    },
    {
     "name": "stdout",
     "output_type": "stream",
     "text": [
      "Unexpected response for game ID 274450: HTTP 429, content: b'<error>\\n    <message>Rate limit exceeded.</message>\\n</error>'\n"
     ]
    },
    {
     "name": "stderr",
     "output_type": "stream",
     "text": [
      "Successfully fetched game ID: 274450, Rank: 1887:  94%|████████████████████████▌ | 1887/2000 [1:14:54<04:40,  2.48s/it]"
     ]
    },
    {
     "name": "stdout",
     "output_type": "stream",
     "text": [
      "Unexpected response for game ID 157026: HTTP 429, content: b'<error>\\n    <message>Rate limit exceeded.</message>\\n</error>'\n"
     ]
    },
    {
     "name": "stderr",
     "output_type": "stream",
     "text": [
      "Successfully fetched game ID: 157026, Rank: 1888:  94%|████████████████████████▌ | 1888/2000 [1:14:57<04:36,  2.47s/it]"
     ]
    },
    {
     "name": "stdout",
     "output_type": "stream",
     "text": [
      "Unexpected response for game ID 181345: HTTP 429, content: b'<error>\\n    <message>Rate limit exceeded.</message>\\n</error>'\n"
     ]
    },
    {
     "name": "stderr",
     "output_type": "stream",
     "text": [
      "Successfully fetched game ID: 300010, Rank: 1890:  94%|████████████████████████▌ | 1890/2000 [1:15:01<04:24,  2.41s/it]"
     ]
    },
    {
     "name": "stdout",
     "output_type": "stream",
     "text": [
      "Unexpected response for game ID 142961: HTTP 429, content: b'<error>\\n    <message>Rate limit exceeded.</message>\\n</error>'\n"
     ]
    },
    {
     "name": "stderr",
     "output_type": "stream",
     "text": [
      "Successfully fetched game ID: 142961, Rank: 1891:  95%|████████████████████████▌ | 1891/2000 [1:15:04<04:20,  2.39s/it]"
     ]
    },
    {
     "name": "stdout",
     "output_type": "stream",
     "text": [
      "Unexpected response for game ID 127997: HTTP 429, content: b'<error>\\n    <message>Rate limit exceeded.</message>\\n</error>'\n"
     ]
    },
    {
     "name": "stderr",
     "output_type": "stream",
     "text": [
      "Successfully fetched game ID: 253684, Rank: 1900:  95%|████████████████████████▋ | 1900/2000 [1:15:24<03:42,  2.23s/it]"
     ]
    },
    {
     "name": "stdout",
     "output_type": "stream",
     "text": [
      "Unexpected response for game ID 113289: HTTP 429, content: b'<error>\\n    <message>Rate limit exceeded.</message>\\n</error>'\n"
     ]
    },
    {
     "name": "stderr",
     "output_type": "stream",
     "text": [
      "Successfully fetched game ID: 113289, Rank: 1901:  95%|████████████████████████▋ | 1901/2000 [1:15:27<03:43,  2.25s/it]"
     ]
    },
    {
     "name": "stdout",
     "output_type": "stream",
     "text": [
      "Unexpected response for game ID 128442: HTTP 429, content: b'<error>\\n    <message>Rate limit exceeded.</message>\\n</error>'\n"
     ]
    },
    {
     "name": "stderr",
     "output_type": "stream",
     "text": [
      "Successfully fetched game ID: 128442, Rank: 1902:  95%|████████████████████████▋ | 1902/2000 [1:15:29<03:45,  2.30s/it]"
     ]
    },
    {
     "name": "stdout",
     "output_type": "stream",
     "text": [
      "Unexpected response for game ID 31105: HTTP 429, content: b'<error>\\n    <message>Rate limit exceeded.</message>\\n</error>'\n"
     ]
    },
    {
     "name": "stderr",
     "output_type": "stream",
     "text": [
      "Successfully fetched game ID: 218293, Rank: 1904:  95%|████████████████████████▊ | 1904/2000 [1:15:35<04:05,  2.56s/it]"
     ]
    },
    {
     "name": "stdout",
     "output_type": "stream",
     "text": [
      "Unexpected response for game ID 317434: HTTP 429, content: b'<error>\\n    <message>Rate limit exceeded.</message>\\n</error>'\n"
     ]
    },
    {
     "name": "stderr",
     "output_type": "stream",
     "text": [
      "Successfully fetched game ID: 318546, Rank: 1907:  95%|████████████████████████▊ | 1907/2000 [1:15:42<03:58,  2.57s/it]"
     ]
    },
    {
     "name": "stdout",
     "output_type": "stream",
     "text": [
      "Unexpected response for game ID 73: HTTP 429, content: b'<error>\\n    <message>Rate limit exceeded.</message>\\n</error>'\n"
     ]
    },
    {
     "name": "stderr",
     "output_type": "stream",
     "text": [
      "Successfully fetched game ID: 73, Rank: 1908:  95%|████████████████████████████▌ | 1908/2000 [1:15:45<03:48,  2.48s/it]"
     ]
    },
    {
     "name": "stdout",
     "output_type": "stream",
     "text": [
      "Unexpected response for game ID 174973: HTTP 429, content: b'<error>\\n    <message>Rate limit exceeded.</message>\\n</error>'\n"
     ]
    },
    {
     "name": "stderr",
     "output_type": "stream",
     "text": [
      "Successfully fetched game ID: 242653, Rank: 1912:  96%|████████████████████████▊ | 1912/2000 [1:15:57<04:16,  2.92s/it]"
     ]
    },
    {
     "name": "stdout",
     "output_type": "stream",
     "text": [
      "Unexpected response for game ID 232: HTTP 429, content: b'<error>\\n    <message>Rate limit exceeded.</message>\\n</error>'\n"
     ]
    },
    {
     "name": "stderr",
     "output_type": "stream",
     "text": [
      "Successfully fetched game ID: 259374, Rank: 1916:  96%|████████████████████████▉ | 1916/2000 [1:16:07<03:44,  2.67s/it]"
     ]
    },
    {
     "name": "stdout",
     "output_type": "stream",
     "text": [
      "Unexpected response for game ID 148203: HTTP 429, content: b'<error>\\n    <message>Rate limit exceeded.</message>\\n</error>'\n"
     ]
    },
    {
     "name": "stderr",
     "output_type": "stream",
     "text": [
      "Successfully fetched game ID: 148203, Rank: 1917:  96%|████████████████████████▉ | 1917/2000 [1:16:09<03:32,  2.56s/it]"
     ]
    },
    {
     "name": "stdout",
     "output_type": "stream",
     "text": [
      "Unexpected response for game ID 337787: HTTP 429, content: b'<error>\\n    <message>Rate limit exceeded.</message>\\n</error>'\n"
     ]
    },
    {
     "name": "stderr",
     "output_type": "stream",
     "text": [
      "Successfully fetched game ID: 337787, Rank: 1918:  96%|████████████████████████▉ | 1918/2000 [1:16:11<03:24,  2.49s/it]"
     ]
    },
    {
     "name": "stdout",
     "output_type": "stream",
     "text": [
      "Unexpected response for game ID 294514: HTTP 429, content: b'<error>\\n    <message>Rate limit exceeded.</message>\\n</error>'\n"
     ]
    },
    {
     "name": "stderr",
     "output_type": "stream",
     "text": [
      "Successfully fetched game ID: 294514, Rank: 1919:  96%|████████████████████████▉ | 1919/2000 [1:16:14<03:18,  2.45s/it]"
     ]
    },
    {
     "name": "stdout",
     "output_type": "stream",
     "text": [
      "Unexpected response for game ID 168681: HTTP 429, content: b'<error>\\n    <message>Rate limit exceeded.</message>\\n</error>'\n"
     ]
    },
    {
     "name": "stderr",
     "output_type": "stream",
     "text": [
      "Successfully fetched game ID: 168681, Rank: 1920:  96%|████████████████████████▉ | 1920/2000 [1:16:16<03:12,  2.41s/it]"
     ]
    },
    {
     "name": "stdout",
     "output_type": "stream",
     "text": [
      "Unexpected response for game ID 233208: HTTP 429, content: b'<error>\\n    <message>Rate limit exceeded.</message>\\n</error>'\n"
     ]
    },
    {
     "name": "stderr",
     "output_type": "stream",
     "text": [
      "Successfully fetched game ID: 85325, Rank: 1922:  96%|█████████████████████████▉ | 1922/2000 [1:16:20<03:01,  2.33s/it]"
     ]
    },
    {
     "name": "stdout",
     "output_type": "stream",
     "text": [
      "Unexpected response for game ID 284778: HTTP 429, content: b'<error>\\n    <message>Rate limit exceeded.</message>\\n</error>'\n"
     ]
    },
    {
     "name": "stderr",
     "output_type": "stream",
     "text": [
      "Successfully fetched game ID: 284778, Rank: 1923:  96%|████████████████████████▉ | 1923/2000 [1:16:23<03:01,  2.35s/it]"
     ]
    },
    {
     "name": "stdout",
     "output_type": "stream",
     "text": [
      "Unexpected response for game ID 243430: HTTP 429, content: b'<error>\\n    <message>Rate limit exceeded.</message>\\n</error>'\n"
     ]
    },
    {
     "name": "stderr",
     "output_type": "stream",
     "text": [
      "Successfully fetched game ID: 350205, Rank: 1925:  96%|█████████████████████████ | 1925/2000 [1:16:27<02:54,  2.33s/it]"
     ]
    },
    {
     "name": "stdout",
     "output_type": "stream",
     "text": [
      "Unexpected response for game ID 118695: HTTP 429, content: b'<error>\\n    <message>Rate limit exceeded.</message>\\n</error>'\n"
     ]
    },
    {
     "name": "stderr",
     "output_type": "stream",
     "text": [
      "Successfully fetched game ID: 73664, Rank: 1931:  97%|██████████████████████████ | 1931/2000 [1:16:43<02:59,  2.60s/it]"
     ]
    },
    {
     "name": "stdout",
     "output_type": "stream",
     "text": [
      "Unexpected response for game ID 98918: HTTP 429, content: b'<error>\\n    <message>Rate limit exceeded.</message>\\n</error>'\n"
     ]
    },
    {
     "name": "stderr",
     "output_type": "stream",
     "text": [
      "Successfully fetched game ID: 98918, Rank: 1932:  97%|██████████████████████████ | 1932/2000 [1:16:45<02:52,  2.53s/it]"
     ]
    },
    {
     "name": "stdout",
     "output_type": "stream",
     "text": [
      "Unexpected response for game ID 34707: HTTP 429, content: b'<error>\\n    <message>Rate limit exceeded.</message>\\n</error>'\n"
     ]
    },
    {
     "name": "stderr",
     "output_type": "stream",
     "text": [
      "Successfully fetched game ID: 903, Rank: 1934:  97%|████████████████████████████ | 1934/2000 [1:16:50<02:38,  2.40s/it]"
     ]
    },
    {
     "name": "stdout",
     "output_type": "stream",
     "text": [
      "Unexpected response for game ID 36522: HTTP 429, content: b'<error>\\n    <message>Rate limit exceeded.</message>\\n</error>'\n"
     ]
    },
    {
     "name": "stderr",
     "output_type": "stream",
     "text": [
      "Successfully fetched game ID: 36522, Rank: 1935:  97%|██████████████████████████ | 1935/2000 [1:16:52<02:35,  2.40s/it]"
     ]
    },
    {
     "name": "stdout",
     "output_type": "stream",
     "text": [
      "Unexpected response for game ID 22192: HTTP 429, content: b'<error>\\n    <message>Rate limit exceeded.</message>\\n</error>'\n"
     ]
    },
    {
     "name": "stderr",
     "output_type": "stream",
     "text": [
      "Successfully fetched game ID: 65564, Rank: 1937:  97%|██████████████████████████▏| 1937/2000 [1:16:58<02:47,  2.65s/it]"
     ]
    },
    {
     "name": "stdout",
     "output_type": "stream",
     "text": [
      "Unexpected response for game ID 181819: HTTP 429, content: b'<error>\\n    <message>Rate limit exceeded.</message>\\n</error>'\n"
     ]
    },
    {
     "name": "stderr",
     "output_type": "stream",
     "text": [
      "Successfully fetched game ID: 17710, Rank: 1942:  97%|██████████████████████████▏| 1942/2000 [1:17:12<02:46,  2.87s/it]"
     ]
    },
    {
     "name": "stdout",
     "output_type": "stream",
     "text": [
      "Unexpected response for game ID 294702: HTTP 429, content: b'<error>\\n    <message>Rate limit exceeded.</message>\\n</error>'\n"
     ]
    },
    {
     "name": "stderr",
     "output_type": "stream",
     "text": [
      "Successfully fetched game ID: 67239, Rank: 1945:  97%|██████████████████████████▎| 1945/2000 [1:17:21<02:43,  2.98s/it]"
     ]
    },
    {
     "name": "stdout",
     "output_type": "stream",
     "text": [
      "Unexpected response for game ID 1117: HTTP 429, content: b'<error>\\n    <message>Rate limit exceeded.</message>\\n</error>'\n"
     ]
    },
    {
     "name": "stderr",
     "output_type": "stream",
     "text": [
      "Successfully fetched game ID: 266967, Rank: 1949:  97%|█████████████████████████▎| 1949/2000 [1:17:31<02:12,  2.60s/it]"
     ]
    },
    {
     "name": "stdout",
     "output_type": "stream",
     "text": [
      "Unexpected response for game ID 118174: HTTP 429, content: b'<error>\\n    <message>Rate limit exceeded.</message>\\n</error>'\n"
     ]
    },
    {
     "name": "stderr",
     "output_type": "stream",
     "text": [
      "Successfully fetched game ID: 27225, Rank: 1952:  98%|██████████████████████████▎| 1952/2000 [1:17:39<02:07,  2.66s/it]"
     ]
    },
    {
     "name": "stdout",
     "output_type": "stream",
     "text": [
      "Unexpected response for game ID 204184: HTTP 429, content: b'<error>\\n    <message>Rate limit exceeded.</message>\\n</error>'\n"
     ]
    },
    {
     "name": "stderr",
     "output_type": "stream",
     "text": [
      "Successfully fetched game ID: 204184, Rank: 1953:  98%|█████████████████████████▍| 1953/2000 [1:17:41<02:02,  2.61s/it]"
     ]
    },
    {
     "name": "stdout",
     "output_type": "stream",
     "text": [
      "Unexpected response for game ID 84: HTTP 429, content: b'<error>\\n    <message>Rate limit exceeded.</message>\\n</error>'\n"
     ]
    },
    {
     "name": "stderr",
     "output_type": "stream",
     "text": [
      "Successfully fetched game ID: 231696, Rank: 1959:  98%|█████████████████████████▍| 1959/2000 [1:17:57<01:55,  2.81s/it]"
     ]
    },
    {
     "name": "stdout",
     "output_type": "stream",
     "text": [
      "Unexpected response for game ID 592: HTTP 429, content: b'<error>\\n    <message>Rate limit exceeded.</message>\\n</error>'\n"
     ]
    },
    {
     "name": "stderr",
     "output_type": "stream",
     "text": [
      "Successfully fetched game ID: 215312, Rank: 1967:  98%|█████████████████████████▌| 1967/2000 [1:18:18<01:33,  2.83s/it]"
     ]
    },
    {
     "name": "stdout",
     "output_type": "stream",
     "text": [
      "Unexpected response for game ID 144239: HTTP 429, content: b'<error>\\n    <message>Rate limit exceeded.</message>\\n</error>'\n"
     ]
    },
    {
     "name": "stderr",
     "output_type": "stream",
     "text": [
      "Successfully fetched game ID: 331106, Rank: 1970:  98%|█████████████████████████▌| 1970/2000 [1:18:27<01:27,  2.92s/it]"
     ]
    },
    {
     "name": "stdout",
     "output_type": "stream",
     "text": [
      "Unexpected response for game ID 249: HTTP 429, content: b'<error>\\n    <message>Rate limit exceeded.</message>\\n</error>'\n"
     ]
    },
    {
     "name": "stderr",
     "output_type": "stream",
     "text": [
      "Successfully fetched game ID: 249, Rank: 1971:  99%|████████████████████████████▌| 1971/2000 [1:18:29<01:19,  2.76s/it]"
     ]
    },
    {
     "name": "stdout",
     "output_type": "stream",
     "text": [
      "Unexpected response for game ID 180771: HTTP 429, content: b'<error>\\n    <message>Rate limit exceeded.</message>\\n</error>'\n"
     ]
    },
    {
     "name": "stderr",
     "output_type": "stream",
     "text": [
      "Successfully fetched game ID: 34585, Rank: 1976:  99%|██████████████████████████▋| 1976/2000 [1:18:42<01:04,  2.70s/it]"
     ]
    },
    {
     "name": "stdout",
     "output_type": "stream",
     "text": [
      "Unexpected response for game ID 129459: HTTP 429, content: b'<error>\\n    <message>Rate limit exceeded.</message>\\n</error>'\n"
     ]
    },
    {
     "name": "stderr",
     "output_type": "stream",
     "text": [
      "Successfully fetched game ID: 303672, Rank: 1978:  99%|█████████████████████████▋| 1978/2000 [1:18:47<00:54,  2.46s/it]"
     ]
    },
    {
     "name": "stdout",
     "output_type": "stream",
     "text": [
      "Unexpected response for game ID 187653: HTTP 429, content: b'<error>\\n    <message>Rate limit exceeded.</message>\\n</error>'\n"
     ]
    },
    {
     "name": "stderr",
     "output_type": "stream",
     "text": [
      "Successfully fetched game ID: 187653, Rank: 1979:  99%|█████████████████████████▋| 1979/2000 [1:18:49<00:50,  2.42s/it]"
     ]
    },
    {
     "name": "stdout",
     "output_type": "stream",
     "text": [
      "Unexpected response for game ID 277927: HTTP 429, content: b'<error>\\n    <message>Rate limit exceeded.</message>\\n</error>'\n"
     ]
    },
    {
     "name": "stderr",
     "output_type": "stream",
     "text": [
      "Successfully fetched game ID: 9910, Rank: 1982:  99%|███████████████████████████▋| 1982/2000 [1:18:57<00:45,  2.53s/it]"
     ]
    },
    {
     "name": "stdout",
     "output_type": "stream",
     "text": [
      "Unexpected response for game ID 332321: HTTP 429, content: b'<error>\\n    <message>Rate limit exceeded.</message>\\n</error>'\n"
     ]
    },
    {
     "name": "stderr",
     "output_type": "stream",
     "text": [
      "Successfully fetched game ID: 332321, Rank: 1983:  99%|█████████████████████████▊| 1983/2000 [1:18:59<00:41,  2.46s/it]"
     ]
    },
    {
     "name": "stdout",
     "output_type": "stream",
     "text": [
      "Unexpected response for game ID 198287: HTTP 429, content: b'<error>\\n    <message>Rate limit exceeded.</message>\\n</error>'\n"
     ]
    },
    {
     "name": "stderr",
     "output_type": "stream",
     "text": [
      "Successfully fetched game ID: 187680, Rank: 1987:  99%|█████████████████████████▊| 1987/2000 [1:19:09<00:33,  2.54s/it]"
     ]
    },
    {
     "name": "stdout",
     "output_type": "stream",
     "text": [
      "Unexpected response for game ID 37141: HTTP 429, content: b'<error>\\n    <message>Rate limit exceeded.</message>\\n</error>'\n"
     ]
    },
    {
     "name": "stderr",
     "output_type": "stream",
     "text": [
      "Successfully fetched game ID: 320718, Rank: 1992: 100%|█████████████████████████▉| 1992/2000 [1:19:23<00:20,  2.54s/it]"
     ]
    },
    {
     "name": "stdout",
     "output_type": "stream",
     "text": [
      "Unexpected response for game ID 204574: HTTP 429, content: b'<error>\\n    <message>Rate limit exceeded.</message>\\n</error>'\n"
     ]
    },
    {
     "name": "stderr",
     "output_type": "stream",
     "text": [
      "Successfully fetched game ID: 204574, Rank: 1993: 100%|█████████████████████████▉| 1993/2000 [1:19:25<00:17,  2.47s/it]"
     ]
    },
    {
     "name": "stdout",
     "output_type": "stream",
     "text": [
      "Unexpected response for game ID 12589: HTTP 429, content: b'<error>\\n    <message>Rate limit exceeded.</message>\\n</error>'\n"
     ]
    },
    {
     "name": "stderr",
     "output_type": "stream",
     "text": [
      "Successfully fetched game ID: 189660, Rank: 1999: 100%|█████████████████████████▉| 1999/2000 [1:19:41<00:02,  2.55s/it]"
     ]
    },
    {
     "name": "stdout",
     "output_type": "stream",
     "text": [
      "Unexpected response for game ID 19526: HTTP 429, content: b'<error>\\n    <message>Rate limit exceeded.</message>\\n</error>'\n"
     ]
    },
    {
     "name": "stderr",
     "output_type": "stream",
     "text": [
      "Successfully fetched game ID: 19526, Rank: 2000: 100%|███████████████████████████| 2000/2000 [1:19:47<00:00,  2.39s/it]\n"
     ]
    }
   ],
   "source": [
    "games = []\n",
    "\n",
    "#open csv and scrape website\n",
    "with open('data/basic_data_2023.csv', 'a', newline='', encoding='utf-8') as csvfile:\n",
    "    writer = csv.DictWriter(csvfile, fieldnames=fields)\n",
    "    with tqdm(total=len(top_game_ids)) as pbar:\n",
    "        for rank, game_id in enumerate(top_game_ids, start=1):\n",
    "            try:\n",
    "                game = get_game_data(game_id)\n",
    "                if game is not None:\n",
    "                    game['rank'] = rank\n",
    "                    games.append(game)\n",
    "                    pbar.set_description(f'Successfully fetched game ID: {game_id}, Rank: {rank}')\n",
    "                    writer.writerow(game)\n",
    "                    \n",
    "                    if rank % 500==0:\n",
    "                        pickle_here(games, rank)\n",
    "                    \n",
    "                else:\n",
    "                    pbar.set_description(f'No data discovered for game ID: {game_id}')\n",
    "                pbar.update()\n",
    "            except Exception as e:\n",
    "                tqdm.write(f'Error {e} occurred fetching game ID: {game_id}')\n",
    "            time.sleep(randint(1,3))"
   ]
  },
  {
   "cell_type": "code",
   "execution_count": null,
   "id": "806ec0b6",
   "metadata": {},
   "outputs": [],
   "source": []
  }
 ],
 "metadata": {
  "kernelspec": {
   "display_name": "Python 3 (ipykernel)",
   "language": "python",
   "name": "python3"
  },
  "language_info": {
   "codemirror_mode": {
    "name": "ipython",
    "version": 3
   },
   "file_extension": ".py",
   "mimetype": "text/x-python",
   "name": "python",
   "nbconvert_exporter": "python",
   "pygments_lexer": "ipython3",
   "version": "3.10.11"
  }
 },
 "nbformat": 4,
 "nbformat_minor": 5
}
