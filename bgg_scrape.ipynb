{
 "cells": [
  {
   "cell_type": "markdown",
   "id": "d3097a94",
   "metadata": {
    "pycharm": {
     "name": "#%% md\n"
    }
   },
   "source": [
    "# Scraping xml from bgg because the age of the data is bothering me"
   ]
  },
  {
   "cell_type": "code",
   "execution_count": null,
   "id": "761acb6a",
   "metadata": {
    "pycharm": {
     "name": "#%%\n"
    }
   },
   "outputs": [],
   "source": [
    "import time\n",
    "import requests\n",
    "from bs4 import BeautifulSoup\n",
    "from urllib.parse import urlparse, parse_qs\n",
    "import pandas as pd\n",
    "from random import randint\n",
    "import os\n",
    "import csv\n",
    "import pickle\n",
    "from tqdm import tqdm"
   ]
  },
  {
   "cell_type": "code",
   "execution_count": null,
   "id": "0b8d6da6",
   "metadata": {
    "pycharm": {
     "name": "#%%\n"
    }
   },
   "outputs": [],
   "source": [
    "games = []\n",
    "categories = set()\n",
    "mechanics = set()"
   ]
  },
  {
   "cell_type": "markdown",
   "id": "adf31f8c",
   "metadata": {
    "pycharm": {
     "name": "#%% md\n"
    }
   },
   "source": [
    "# Functions"
   ]
  },
  {
   "cell_type": "code",
   "execution_count": null,
   "id": "862320bd",
   "metadata": {
    "pycharm": {
     "name": "#%%\n"
    }
   },
   "outputs": [],
   "source": [
    "def get_game_data(game_id, retry_limit=3):\n",
    "    response = requests.get(f'https://www.boardgamegeek.com/xmlapi2/thing?id={game_id}&stats=1')\n",
    "    soup = BeautifulSoup(response.content, 'xml')\n",
    "\n",
    "    # If it returns None, try 3 more times and then otherwise return None\n",
    "    if soup.find('item') is None:\n",
    "        print(f'Unexpected response for game ID {game_id}: HTTP {response.status_code}, content: {response.content}')\n",
    "        if retry_limit > 0:\n",
    "            time.sleep(1)\n",
    "            return get_game_data(game_id, retry_limit=retry_limit -1)\n",
    "        else:\n",
    "            return None\n",
    "\n",
    "    game = {}\n",
    "\n",
    "    game['rank'] = None  # This information is not available in XML API, placeholder for future usage.\n",
    "    game['bgg_url'] = f'https://boardgamegeek.com/boardgame/{game_id}'\n",
    "    game['game_id'] = game_id\n",
    "    game['name'] = soup.find('name').get('value')\n",
    "    \n",
    "    game['min_players'] = soup.find('minplayers').get('value')\n",
    "    game['max_players'] = soup.find('maxplayers').get('value')\n",
    "    game['avg_time'] = soup.find('playingtime').get('value')\n",
    "    game['min_time'] = soup.find('minplaytime').get('value')\n",
    "    game['max_time'] = soup.find('maxplaytime').get('value')\n",
    "    game['weight'] = soup.find('averageweight').get('value')\n",
    "    \n",
    "    game['year'] = soup.find('yearpublished').get('value')\n",
    "    game['age'] = soup.find('minage').get('value')\n",
    "\n",
    "    game['avg_rating'] = soup.find('average').get('value')\n",
    "    game['geek_rating'] = soup.find('bayesaverage').get('value')\n",
    "    game['num_votes'] = soup.find('usersrated').get('value')\n",
    "    game['owned'] = soup.find('owned').get('value')\n",
    "    game['designer'] = ', '.join(d.get('value') for d in soup.find_all('link', type='boardgamedesigner'))\n",
    "\n",
    "    game['categories'] = [c.get('value') for c in soup.find_all('link', type='boardgamecategory')]\n",
    "    categories.update(game['categories'])\n",
    "\n",
    "    game['mechanics'] = [m.get('value') for m in soup.find_all('link', type='boardgamemechanic')]\n",
    "    mechanics.update(game['mechanics'])\n",
    "\n",
    "    return game\n",
    "    "
   ]
  },
  {
   "cell_type": "code",
   "execution_count": null,
   "id": "1108da29",
   "metadata": {
    "pycharm": {
     "name": "#%%\n"
    }
   },
   "outputs": [],
   "source": [
    "def get_id_from_page(game_page_url):\n",
    "    response = requests.get(game_page_url)\n",
    "    if response.statuscod !=200:\n",
    "        return None\n",
    "    \n",
    "    url = urlparse(response.url)\n",
    "    game_id = parse_qs(url.query).get('id', None)\n",
    "    \n",
    "    if game_id is not None:\n",
    "        return game_id[0]"
   ]
  },
  {
   "cell_type": "code",
   "execution_count": null,
   "id": "80c5b32f",
   "metadata": {
    "pycharm": {
     "name": "#%%\n"
    }
   },
   "outputs": [],
   "source": [
    "def get_top_game_ids(page_num):\n",
    "    response = requests.get(f'https://boardgamegeek.com/browse/boardgame/page/{page_num}')\n",
    "    soup = BeautifulSoup(response.content, 'html.parser')\n",
    "    game_ids = []\n",
    "    \n",
    "    if page_num >= 21:\n",
    "        links = soup.select('td.collection_thumbnail a[href^=\"/boardgame/\"]')\n",
    "        for link in links:\n",
    "            game_url = 'https://boardgamegeek.com' + link['href']\n",
    "            game_id = get_game_id_from_page(game_url)\n",
    "            if game_id is not None:\n",
    "                game_ids.append(game_id)\n",
    "    \n",
    "    # Find all the boardgame links and extract the IDs\n",
    "    links = soup.select('td.collection_thumbnail a[href^=\"/boardgame/\"]')\n",
    "    game_ids = [link['href'].split('/')[2] for link in links]\n",
    "    \n",
    "    \n",
    "    return game_ids"
   ]
  },
  {
   "cell_type": "code",
   "execution_count": null,
   "id": "8d845c70",
   "metadata": {
    "pycharm": {
     "name": "#%%\n"
    }
   },
   "outputs": [],
   "source": [
    "# def pickle_here(games_list, rank): # for ranks\n",
    "#     with open(f'data/pickle/games_{rank}.pickle', 'wb') as f:\n",
    "#         pickle.dump(games_list, f)\n",
    "def pickle_here(seq_list, idx): # for sequels\n",
    "    with open(f'data/seq_list_{idx}.pkl', 'wb') as f:\n",
    "        pickle.dump(seq_list, f)"
   ]
  },
  {
   "cell_type": "code",
   "execution_count": null,
   "id": "30a42d3f",
   "metadata": {
    "pycharm": {
     "name": "#%%\n"
    }
   },
   "outputs": [],
   "source": [
    "def get_links_from_page(page_num):\n",
    "    response = requests.get(f'https://boardgamegeek.com/browse/boardgame/page/{page_num}')\n",
    "    soup = BeautifulSoup(response.content, 'html.parser')\n",
    "    \n",
    "    # Find all the links on the page\n",
    "    links = soup.select('a[href]')\n",
    "    link_urls = [link['href'] for link in links]\n",
    "    \n",
    "    return link_urls"
   ]
  },
  {
   "cell_type": "markdown",
   "id": "a6717759",
   "metadata": {
    "pycharm": {
     "name": "#%% md\n"
    }
   },
   "source": [
    "## Implementation"
   ]
  },
  {
   "cell_type": "markdown",
   "id": "94f94387",
   "metadata": {
    "pycharm": {
     "name": "#%% md\n"
    }
   },
   "source": [
    "## Creating csv and writing header"
   ]
  },
  {
   "cell_type": "code",
   "execution_count": null,
   "id": "a4b8f87c",
   "metadata": {
    "pycharm": {
     "name": "#%%\n"
    }
   },
   "outputs": [],
   "source": [
    "with open('data/basic_data_2023.csv', 'w', newline='', encoding='utf-8') as csvfile:\n",
    "    \n",
    "    fields = [\n",
    "    'rank',\n",
    "    'bgg_url',\n",
    "    'game_id',\n",
    "    'name',\n",
    "    'min_players',\n",
    "    'max_players',\n",
    "    'avg_time',\n",
    "    'min_time',\n",
    "    'max_time',\n",
    "    'weight',\n",
    "    'year',\n",
    "    'age',\n",
    "    'avg_rating',\n",
    "    'geek_rating',\n",
    "    'num_votes',\n",
    "    'owned',\n",
    "    'designer',\n",
    "    'categories',\n",
    "    'mechanics',\n",
    "    ]\n",
    "    \n",
    "    writer = csv.DictWriter(csvfile, fieldnames=fields)\n",
    "    writer.writeheader()"
   ]
  },
  {
   "cell_type": "markdown",
   "id": "8a2ea69b",
   "metadata": {
    "pycharm": {
     "name": "#%% md\n"
    }
   },
   "source": [
    "### Scraping website"
   ]
  },
  {
   "cell_type": "code",
   "execution_count": null,
   "id": "458aa5e7",
   "metadata": {
    "pycharm": {
     "name": "#%%\n"
    }
   },
   "outputs": [],
   "source": [
    "# get top game ids\n",
    "top_game_ids = []\n",
    "\n",
    "with tqdm(total=21) as pbar:\n",
    "    for page_num in range(1, 22):\n",
    "        try:\n",
    "            top_game_ids.extend(get_top_game_ids(page_num))\n",
    "            time.sleep(1)\n",
    "            pbar.update()\n",
    "        except Exception as e:\n",
    "            tqdm.write(f'Error {e} occurred on page number {page_num}')"
   ]
  },
  {
   "cell_type": "code",
   "execution_count": null,
   "id": "5ae12443",
   "metadata": {
    "pycharm": {
     "name": "#%%\n"
    }
   },
   "outputs": [],
   "source": [
    "top_games_pg = get_top_game_ids(22)\n",
    "top_games_pg"
   ]
  },
  {
   "cell_type": "code",
   "execution_count": null,
   "id": "15f88242",
   "metadata": {
    "pycharm": {
     "name": "#%%\n"
    }
   },
   "outputs": [],
   "source": [
    "games = []\n",
    "\n",
    "#open csv and scrape website\n",
    "with open('data/basic_data_2023.csv', 'a', newline='', encoding='utf-8') as csvfile:\n",
    "    writer = csv.DictWriter(csvfile, fieldnames=fields)\n",
    "    with tqdm(total=len(top_game_ids)) as pbar:\n",
    "        for rank, game_id in enumerate(top_game_ids, start=1):\n",
    "            try:\n",
    "                game = get_game_data(game_id)\n",
    "                if game is not None:\n",
    "                    game['rank'] = rank\n",
    "                    games.append(game)\n",
    "                    pbar.set_description(f'Successfully fetched game ID: {game_id}, Rank: {rank}')\n",
    "                    writer.writerow(game)\n",
    "                    \n",
    "                    if rank % 500==0:\n",
    "                        pickle_here(games, rank)\n",
    "                    \n",
    "                else:\n",
    "                    pbar.set_description(f'No data discovered for game ID: {game_id}')\n",
    "                pbar.update()\n",
    "            except Exception as e:\n",
    "                tqdm.write(f'Error {e} occurred fetching game ID: {game_id}')\n",
    "            time.sleep(randint(1,3))"
   ]
  },
  {
   "cell_type": "markdown",
   "id": "a2a3c5ec",
   "metadata": {
    "pycharm": {
     "name": "#%% md\n"
    }
   },
   "source": [
    "## For subdomains:"
   ]
  },
  {
   "cell_type": "code",
   "execution_count": null,
   "id": "1c46e528",
   "metadata": {
    "pycharm": {
     "name": "#%%\n"
    }
   },
   "outputs": [],
   "source": [
    "df_17 = pd.read_csv('data/2017/rank_id.csv')\n",
    "df_23 = pd.read_csv('data/2023/rank_id.csv')\n",
    "df_list = [df_17, df_23]\n",
    "sub_df_list = []"
   ]
  },
  {
   "cell_type": "code",
   "execution_count": null,
   "id": "39fb5ab8",
   "metadata": {
    "pycharm": {
     "name": "#%%\n"
    }
   },
   "outputs": [],
   "source": [
    "\n",
    "object_ids = {\n",
    "    '4666': 'Abstract Games',\n",
    "    '4665': 'Children\\'s Games',\n",
    "    '4667': 'Customizable Games',\n",
    "    '5499': 'Family Games',\n",
    "    '5498': 'Party Games',\n",
    "    '5497': 'Strategy Games',\n",
    "    '5496': 'Thematic Games',\n",
    "    '4664': 'Wargames'\n",
    "}\n",
    "\n",
    "for df in df_list:\n",
    "    game_ids = df['game_id']\n",
    "\n",
    "    records = []\n",
    "    \n",
    "    # scape\n",
    "    for game_id in tqdm(game_ids):\n",
    "        url = f\"https://boardgamegeek.com/boardgame/{game_id}\"\n",
    "        for attempt in range(5):\n",
    "            try:\n",
    "                response = requests.get(url)\n",
    "\n",
    "                if response.status_code != 200:\n",
    "                    raise Exception(f\"Failed to fetch XML: status code {response.status_code}\")\n",
    "\n",
    "                soup = BeautifulSoup(response.content, 'html.parser')\n",
    "\n",
    "                raw_html = str(soup)\n",
    "\n",
    "                record = {'game_id': game_id}\n",
    "\n",
    "                # loop over object_ids\n",
    "                for object_id, column_name in object_ids.items():\n",
    "                    if object_id in raw_html:\n",
    "                        record[column_name] = 1\n",
    "                    else:\n",
    "                        record[column_name] = 0\n",
    "\n",
    "                records.append(record)\n",
    "\n",
    "                # If successful, break the retry loop\n",
    "                break\n",
    "\n",
    "            except Exception as e:\n",
    "                time.sleep(1)\n",
    "                print(f\"Attempt {attempt+1}: {e}\")\n",
    "\n",
    "            # Sleep to avoid rate limiting\n",
    "            time.sleep(1)\n",
    "\n",
    "        else:\n",
    "            print(f\"Failed to fetch XML for game_id {game_id} after 5 attempts.\")\n",
    "\n",
    "    # Create a DataFrame from the list of records\n",
    "    df_new = pd.DataFrame(records)\n",
    "    sub_df_list.append(df_new)\n",
    "\n",
    "\n",
    "sub_df_17 = sub_df_list[0]\n",
    "sub_df_23 = sub_df_list[1]\n",
    "\n",
    "sub_df_17.to_csv('data/2017/subdomains_2017.csv', index=False)\n",
    "sub_df_23.to_csv('data/2023/subdomains_2023.csv', index=False)"
   ]
  },
  {
   "cell_type": "markdown",
   "id": "15bd39b3",
   "metadata": {
    "pycharm": {
     "name": "#%% md\n"
    }
   },
   "source": [
    "## For expansions/sequels"
   ]
  },
  {
   "cell_type": "code",
   "execution_count": null,
   "id": "cdd01b65",
   "metadata": {
    "pycharm": {
     "name": "#%%\n"
    }
   },
   "outputs": [],
   "source": [
    "df_17 = pd.read_csv('data/2017/rank_id.csv')\n",
    "df_23 = pd.read_csv('data/2023/rank_id.csv')\n",
    "df_list = [df_17, df_23]\n",
    "seq_list = []"
   ]
  },
  {
   "cell_type": "code",
   "execution_count": null,
   "id": "9357b99e",
   "metadata": {
    "scrolled": false,
    "pycharm": {
     "name": "#%%\n"
    }
   },
   "outputs": [],
   "source": [
    "import warnings\n",
    "warnings.filterwarnings(\"ignore\", category=FutureWarning, module=\"pandas\")\n",
    "\n",
    "\n",
    "for df in df_list:\n",
    "    game_ids = df['game_id']\n",
    "    seq_df = pd.DataFrame(columns=['game_id', 'parent_id', 'year', 'iteration', 'reimplementation', 'expansion', 'compilation'])\n",
    "    for game_id in tqdm(game_ids):\n",
    "        url = f'https://www.boardgamegeek.com/xmlapi2/thing?id={game_id}'\n",
    "        parent_id = None\n",
    "        for attempt in range(5):\n",
    "            time.sleep(.5)\n",
    "            try:\n",
    "                response = requests.get(url)\n",
    "                if response.status_code != 200:\n",
    "                    raise Exception(f\"Failed to fetch XML: status code {response.status_code}\")\n",
    "                soup = BeautifulSoup(response.content, 'lxml-xml')\n",
    "                \n",
    "                # Extract data\n",
    "                item = soup.find('item', {'id': str(game_id)})\n",
    "                year = item.find('yearpublished')['value']\n",
    "                \n",
    "                reimplementations = item.find_all('link', {'type': 'boardgameimplementation', 'inbound': 'true'})\n",
    "                reimplementation = 1 if reimplementations else 0\n",
    "                iteration = len(reimplementations) + 1 if reimplementations else 1\n",
    "                expansion = 1 if item.find('link', {'type': 'boardgameexpansion', 'inbound': 'true'}) else 0\n",
    "                compilation = 1 if item.find('link', {'type': 'boardgamecompilation', 'inbound': 'true'}) else 0\n",
    "\n",
    "                if reimplementation:\n",
    "                    parent_id = min([int(ri['id']) for ri in reimplementations])\n",
    "                elif expansion:\n",
    "                    parent_id = item.find('link', {'type': 'boardgameexpansion'})['id']\n",
    "                elif compilation:\n",
    "                    parent_id = item.find('link', {'type': 'boardgamecompilation'})['id']\n",
    "\n",
    "                if parent_id:\n",
    "                    # Add data to Dataframe\n",
    "                    row = {'game_id': [game_id],\n",
    "                           'parent_id': [parent_id],\n",
    "                           'year': [year],\n",
    "                           'iteration': [iteration],\n",
    "'reimplementation': [reimplementation],\n",
    "                                        'expansion': [expansion],\n",
    "                                        'compilation': [compilation]})\n",
    "                    \n",
    "                    seq_df = pd.concat([seq_df, row], ignore_index=True)\n",
    "                    break\n",
    "                \n",
    "            except Exception as e:\n",
    "                time.sleep(2)\n",
    "                print(f\"Attempt {attempt+1}: {e}\")\n",
    "                if attempt == 4: # if it's the last attempt\n",
    "                    print(f\"Failed to fetch data for game_id {game_id} after 5 attempts.\")\n",
    "\n",
    "    seq_list.append(seq_df)\n",
    "\n",
    "seq_df_17 = seq_list[0]\n",
    "seq_df_23 = seq_list[1]\n",
    "\n",
    "seq_df_17.to_csv('data/2017/sequels_2017.csv', index=False)\n",
    "seq_df_23.to_csv('data/2023/sequels_2023.csv', index=False)"
   ]
  },
  {
   "cell_type": "code",
   "execution_count": null,
   "id": "282c6ba7",
   "metadata": {
    "pycharm": {
     "name": "#%%\n"
    }
   },
   "outputs": [],
   "source": []
  }
 ],
 "metadata": {
  "kernelspec": {
   "display_name": "Python 3 (ipykernel)",
   "language": "python",
   "name": "python3"
  },
  "language_info": {
   "codemirror_mode": {
    "name": "ipython",
    "version": 3
   },
   "file_extension": ".py",
   "mimetype": "text/x-python",
   "name": "python",
   "nbconvert_exporter": "python",
   "pygments_lexer": "ipython3",
   "version": "3.10.11"
  }
 },
 "nbformat": 4,
 "nbformat_minor": 5
}